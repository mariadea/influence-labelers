{
 "cells": [
  {
   "cell_type": "code",
   "execution_count": 1,
   "metadata": {},
   "outputs": [],
   "source": [
    "import sys\n",
    "sys.path.append('../')\n",
    "\n",
    "from model import *\n",
    "import pandas as pd\n",
    "from sklearn.metrics import roc_auc_score\n",
    "from sklearn.model_selection import train_test_split\n",
    "import pickle as pkl\n",
    "import matplotlib.pyplot as plt\n",
    "import sklearn"
   ]
  },
  {
   "cell_type": "markdown",
   "metadata": {},
   "source": [
    "### Data"
   ]
  },
  {
   "cell_type": "code",
   "execution_count": 2,
   "metadata": {},
   "outputs": [],
   "source": [
    "with open('../../../data/ChildWelfare/X_preprocess.pkl', 'rb') as handle:\n",
    "    X,screener_ids,refer_ids,Y_obs,D,Y_serv,Y_sub,colnames = pkl.load(handle)"
   ]
  },
  {
   "cell_type": "code",
   "execution_count": 3,
   "metadata": {},
   "outputs": [],
   "source": [
    "#drop instances if expert assessed a single case\n",
    "\n",
    "drop_experts = []\n",
    "for num in screener_ids:\n",
    "\n",
    "    if screener_ids.count(num) < 10:\n",
    "\n",
    "        drop_experts.append(num)"
   ]
  },
  {
   "cell_type": "code",
   "execution_count": 4,
   "metadata": {},
   "outputs": [],
   "source": [
    "drop_idx = []\n",
    "for index, elem in enumerate(screener_ids):\n",
    "    if elem in drop_experts:\n",
    "        drop_idx.append(index)"
   ]
  },
  {
   "cell_type": "code",
   "execution_count": 5,
   "metadata": {},
   "outputs": [],
   "source": [
    "X = np.delete(X,drop_idx,axis=0)\n",
    "Y_serv = np.delete(Y_serv,drop_idx,axis=0)\n",
    "Y_sub = np.delete(Y_sub,drop_idx,axis=0)\n",
    "Y_obs = np.delete(Y_obs,drop_idx,axis=0)\n",
    "D = np.delete(D,drop_idx,axis=0)\n",
    "refer_ids = np.delete(refer_ids,drop_idx,axis=0)\n",
    "screener_ids = np.delete(screener_ids,drop_idx,axis=0)"
   ]
  },
  {
   "cell_type": "code",
   "execution_count": 6,
   "metadata": {},
   "outputs": [
    {
     "data": {
      "text/plain": [
       "(46528, 1)"
      ]
     },
     "execution_count": 6,
     "metadata": {},
     "output_type": "execute_result"
    }
   ],
   "source": [
    "Y_obs.shape"
   ]
  },
  {
   "cell_type": "code",
   "execution_count": 7,
   "metadata": {},
   "outputs": [],
   "source": [
    "D = D.reshape((D.shape[0],))\n",
    "Y_obs = Y_obs.reshape((Y_obs.shape[0],))"
   ]
  },
  {
   "cell_type": "code",
   "execution_count": 8,
   "metadata": {},
   "outputs": [],
   "source": [
    "target = pd.DataFrame({'D': D, 'Y1': Y_obs, 'Y2': Y_serv, 'Y3': Y_sub})"
   ]
  },
  {
   "cell_type": "markdown",
   "metadata": {},
   "source": [
    "Split data in a 80% train, 20% test"
   ]
  },
  {
   "cell_type": "code",
   "execution_count": 9,
   "metadata": {},
   "outputs": [],
   "source": [
    "cov_train, cov_test, tar_train, tar_test, nur_train, nur_test = train_test_split(pd.DataFrame(X), target, pd.Series(screener_ids), test_size = 0.2, random_state = 0)"
   ]
  },
  {
   "cell_type": "markdown",
   "metadata": {},
   "source": [
    "### Modelling"
   ]
  },
  {
   "cell_type": "code",
   "execution_count": 10,
   "metadata": {},
   "outputs": [],
   "source": [
    "# Model's characteristics\n",
    "params = {'layers': [200]} # If = [] equivalent to a simple logistic regression\n",
    "\n",
    "# Amalgation parameters\n",
    "rho = 0.05 # Control which point to consider from a confience point of view\n",
    "pi_1 = 4.0 # Control criterion on centre mass metric\n",
    "pi_2 = 0.8 # Control criterion on opposing metric\n",
    "tau = 1.0  # Balance between observed and expert labels"
   ]
  },
  {
   "cell_type": "markdown",
   "metadata": {},
   "source": [
    "##### 1. Train on decision\n",
    "\n",
    "This model models the nurse decision based on covariates"
   ]
  },
  {
   "cell_type": "code",
   "execution_count": 11,
   "metadata": {},
   "outputs": [
    {
     "name": "stderr",
     "output_type": "stream",
     "text": [
      "Loss: 0.576: 100%|██████████| 1/1 [00:01<00:00,  1.59s/it]\n"
     ]
    }
   ],
   "source": [
    "for l1_penalty in [0.001, 0.01]:\n",
    "    try:\n",
    "        model = BinaryMLP(**params)\n",
    "        model = model.fit(cov_train, tar_train['D'], nur_train, l1_penalty = l1_penalty)\n",
    "        break\n",
    "    except Exception as e:\n",
    "        print(e, l1_penalty)\n",
    "        pass"
   ]
  },
  {
   "cell_type": "code",
   "execution_count": 12,
   "metadata": {},
   "outputs": [],
   "source": [
    "Y_pred_h_test = model.predict(cov_test)"
   ]
  },
  {
   "cell_type": "code",
   "execution_count": 13,
   "metadata": {},
   "outputs": [
    {
     "data": {
      "text/plain": [
       "0.6881754294634291"
      ]
     },
     "execution_count": 13,
     "metadata": {},
     "output_type": "execute_result"
    }
   ],
   "source": [
    "# Naive performance\n",
    "roc_auc_score(tar_test['Y1'], model.predict(cov_test))"
   ]
  },
  {
   "cell_type": "code",
   "execution_count": 14,
   "metadata": {},
   "outputs": [
    {
     "data": {
      "text/plain": [
       "0.8438090737240075"
      ]
     },
     "execution_count": 14,
     "metadata": {},
     "output_type": "execute_result"
    }
   ],
   "source": [
    "# Yc performance\n",
    "roc_auc_score(tar_test['Y2'], model.predict(cov_test))"
   ]
  },
  {
   "cell_type": "code",
   "execution_count": 15,
   "metadata": {},
   "outputs": [
    {
     "data": {
      "text/plain": [
       "0.9698591640465133"
      ]
     },
     "execution_count": 15,
     "metadata": {},
     "output_type": "execute_result"
    }
   ],
   "source": [
    "roc_auc_score(tar_test['Y3'], model.predict(cov_test))"
   ]
  },
  {
   "cell_type": "code",
   "execution_count": 16,
   "metadata": {},
   "outputs": [
    {
     "data": {
      "text/plain": [
       "0.8134158534146829"
      ]
     },
     "execution_count": 16,
     "metadata": {},
     "output_type": "execute_result"
    }
   ],
   "source": [
    "roc_auc_score(tar_test['D'], model.predict(cov_test))"
   ]
  },
  {
   "cell_type": "markdown",
   "metadata": {},
   "source": [
    "##### 2. Agreement computation \n",
    "\n",
    "Measure of agreeability are estimated in a cross validation fashion on the train set."
   ]
  },
  {
   "cell_type": "code",
   "execution_count": 17,
   "metadata": {
    "scrolled": true
   },
   "outputs": [
    {
     "name": "stderr",
     "output_type": "stream",
     "text": [
      "Loss: 0.601: 100%|██████████| 1/1 [00:01<00:00,  1.12s/it]\n",
      "Loss: 0.600: 100%|██████████| 1/1 [00:01<00:00,  1.01s/it]\n",
      "Loss: 0.610: 100%|██████████| 1/1 [00:01<00:00,  1.10s/it]\n"
     ]
    }
   ],
   "source": [
    "# Fold evaluation of influences\n",
    "folds, predictions, influence = influence_cv(BinaryMLP, cov_train, tar_train['D'], nur_train, params = params)"
   ]
  },
  {
   "cell_type": "code",
   "execution_count": 18,
   "metadata": {},
   "outputs": [],
   "source": [
    "# Compute metrics agreeability\n",
    "center_metric, opposing_metric = compute_agreeability(influence)"
   ]
  },
  {
   "cell_type": "code",
   "execution_count": 19,
   "metadata": {},
   "outputs": [
    {
     "data": {
      "text/plain": [
       "<matplotlib.collections.PathCollection at 0x7f100b765f50>"
      ]
     },
     "execution_count": 19,
     "metadata": {},
     "output_type": "execute_result"
    },
    {
     "data": {
      "image/png": "[encoded data removed]",
      "text/plain": [
       "<Figure size 432x288 with 1 Axes>"
      ]
     },
     "metadata": {
      "needs_background": "light"
     },
     "output_type": "display_data"
    }
   ],
   "source": [
    "import matplotlib.pyplot as plt\n",
    "plt.scatter(center_metric, opposing_metric)"
   ]
  },
  {
   "cell_type": "code",
   "execution_count": 20,
   "metadata": {},
   "outputs": [],
   "source": [
    "# Apply criteria on amalgamation\n",
    "high_conf = (predictions > (1 - rho)) | (predictions < rho)\n",
    "high_agr = (center_metric > pi_1) & (opposing_metric > pi_2) & high_conf\n",
    "high_agr_correct = ((predictions - tar_train['D']).abs() < rho) & high_agr"
   ]
  },
  {
   "cell_type": "code",
   "execution_count": 21,
   "metadata": {},
   "outputs": [
    {
     "data": {
      "text/plain": [
       "(array([2042., 3707., 4042., 4443., 4494., 3711., 2659., 2190., 2579.,\n",
       "        7355.]),\n",
       " array([0.0567397 , 0.14660644, 0.23647319, 0.32633993, 0.41620668,\n",
       "        0.50607342, 0.59594016, 0.68580691, 0.77567365, 0.8655404 ,\n",
       "        0.95540714]),\n",
       " <a list of 10 Patch objects>)"
      ]
     },
     "execution_count": 21,
     "metadata": {},
     "output_type": "execute_result"
    },
    {
     "data": {
      "image/png": "[encoded data removed]",
      "text/plain": [
       "<Figure size 432x288 with 1 Axes>"
      ]
     },
     "metadata": {
      "needs_background": "light"
     },
     "output_type": "display_data"
    }
   ],
   "source": [
    "plt.hist(predictions)"
   ]
  },
  {
   "cell_type": "code",
   "execution_count": 22,
   "metadata": {},
   "outputs": [
    {
     "name": "stdout",
     "output_type": "stream",
     "text": [
      "high_conf: 910\n",
      "high_agr: 459\n",
      "high_agr_correct: 455\n"
     ]
    }
   ],
   "source": [
    "print('high_conf:', sum(high_conf))\n",
    "print('high_agr:', sum(high_agr))\n",
    "print('high_agr_correct:', sum(high_agr_correct))"
   ]
  },
  {
   "cell_type": "code",
   "execution_count": 23,
   "metadata": {},
   "outputs": [
    {
     "data": {
      "text/plain": [
       "[<matplotlib.lines.Line2D at 0x7f100b6ffad0>]"
      ]
     },
     "execution_count": 23,
     "metadata": {},
     "output_type": "execute_result"
    },
    {
     "data": {
      "image/png": "[encoded data removed]",
      "text/plain": [
       "<Figure size 432x288 with 1 Axes>"
      ]
     },
     "metadata": {
      "needs_background": "light"
     },
     "output_type": "display_data"
    }
   ],
   "source": [
    "from sklearn.calibration import calibration_curve\n",
    "prob_true, prob_pred = calibration_curve(tar_train['D'], predictions, n_bins=7)\n",
    "plt.plot(prob_true,prob_pred, marker='o', linewidth=1, label='logreg')\n"
   ]
  },
  {
   "cell_type": "code",
   "execution_count": 24,
   "metadata": {},
   "outputs": [],
   "source": [
    "# Create amalgamated labels\n",
    "tar_train['Ya'] = tar_train['Y1'].copy()\n",
    "tar_train['Ya'][high_agr_correct] = (1 - tau) * tar_train['Y1'][high_agr_correct] \\\n",
    "                                    + tau * tar_train['D'][high_agr_correct]"
   ]
  },
  {
   "cell_type": "code",
   "execution_count": 25,
   "metadata": {},
   "outputs": [
    {
     "data": {
      "text/plain": [
       "18236"
      ]
     },
     "execution_count": 25,
     "metadata": {},
     "output_type": "execute_result"
    }
   ],
   "source": [
    "sum(tar_train['D']!=tar_train['Y1'])"
   ]
  },
  {
   "cell_type": "code",
   "execution_count": 26,
   "metadata": {},
   "outputs": [
    {
     "data": {
      "text/plain": [
       "353"
      ]
     },
     "execution_count": 26,
     "metadata": {},
     "output_type": "execute_result"
    }
   ],
   "source": [
    "sum(tar_train['Ya']!=tar_train['Y1'])"
   ]
  },
  {
   "cell_type": "code",
   "execution_count": 27,
   "metadata": {},
   "outputs": [],
   "source": [
    "#index for selective labels\n",
    "index_amalg = [i==1.0 for i in tar_train['D']] | high_agr_correct"
   ]
  },
  {
   "cell_type": "code",
   "execution_count": null,
   "metadata": {},
   "outputs": [],
   "source": []
  },
  {
   "cell_type": "markdown",
   "metadata": {},
   "source": [
    "##### 3. Updated model"
   ]
  },
  {
   "cell_type": "code",
   "execution_count": 28,
   "metadata": {},
   "outputs": [
    {
     "name": "stderr",
     "output_type": "stream",
     "text": [
      "Loss: 0.420: 100%|██████████| 1/1 [00:00<00:00,  1.25it/s]\n"
     ]
    }
   ],
   "source": [
    "#model with selective labels\n",
    "model = BinaryMLP(**params)\n",
    "model = model.fit(cov_train[index_amalg], tar_train[index_amalg]['Ya'], nur_train[index_amalg])"
   ]
  },
  {
   "cell_type": "code",
   "execution_count": 29,
   "metadata": {},
   "outputs": [],
   "source": [
    "Y_pred_amalg_test = model.predict(cov_test)"
   ]
  },
  {
   "cell_type": "code",
   "execution_count": 30,
   "metadata": {},
   "outputs": [],
   "source": [
    "# #model without selective labels\n",
    "# model = BinaryMLP(**params)\n",
    "# model = model.fit(cov_train, tar_train['Ya'], nur_train[index_amalg])"
   ]
  },
  {
   "cell_type": "code",
   "execution_count": 31,
   "metadata": {},
   "outputs": [
    {
     "data": {
      "text/plain": [
       "0.7761447327397545"
      ]
     },
     "execution_count": 31,
     "metadata": {},
     "output_type": "execute_result"
    }
   ],
   "source": [
    "# Naive performance\n",
    "roc_auc_score(tar_test['Y1'], model.predict(cov_test))"
   ]
  },
  {
   "cell_type": "code",
   "execution_count": 32,
   "metadata": {},
   "outputs": [
    {
     "data": {
      "text/plain": [
       "0.7170250636911695"
      ]
     },
     "execution_count": 32,
     "metadata": {},
     "output_type": "execute_result"
    }
   ],
   "source": [
    "# Yc performance\n",
    "roc_auc_score(tar_test['Y2'],model.predict(cov_test))"
   ]
  },
  {
   "cell_type": "code",
   "execution_count": 33,
   "metadata": {},
   "outputs": [
    {
     "data": {
      "text/plain": [
       "0.7999028168194267"
      ]
     },
     "execution_count": 33,
     "metadata": {},
     "output_type": "execute_result"
    }
   ],
   "source": [
    "roc_auc_score(tar_test['Y3'],model.predict(cov_test))"
   ]
  },
  {
   "cell_type": "code",
   "execution_count": 34,
   "metadata": {},
   "outputs": [
    {
     "data": {
      "text/plain": [
       "0.6319849154443211"
      ]
     },
     "execution_count": 34,
     "metadata": {},
     "output_type": "execute_result"
    }
   ],
   "source": [
    "roc_auc_score(tar_test['D'],model.predict(cov_test))"
   ]
  },
  {
   "cell_type": "markdown",
   "metadata": {},
   "source": [
    "##### 4. Train on observed data"
   ]
  },
  {
   "cell_type": "code",
   "execution_count": 35,
   "metadata": {},
   "outputs": [
    {
     "name": "stderr",
     "output_type": "stream",
     "text": [
      "Loss: 0.406: 100%|██████████| 1/1 [00:00<00:00,  1.32it/s]\n"
     ]
    }
   ],
   "source": [
    "model = BinaryMLP(**params)\n",
    "model = model.fit(cov_train[tar_train['D']==1], tar_train['Y1'][tar_train['D']==1], nur_train)"
   ]
  },
  {
   "cell_type": "code",
   "execution_count": 36,
   "metadata": {},
   "outputs": [],
   "source": [
    "Y_pred_obs_test = model.predict(cov_test)"
   ]
  },
  {
   "cell_type": "code",
   "execution_count": 37,
   "metadata": {},
   "outputs": [
    {
     "data": {
      "text/plain": [
       "0.7692785267306914"
      ]
     },
     "execution_count": 37,
     "metadata": {},
     "output_type": "execute_result"
    }
   ],
   "source": [
    "# Naive performance\n",
    "roc_auc_score(tar_test['Y1'], model.predict(cov_test))"
   ]
  },
  {
   "cell_type": "code",
   "execution_count": 38,
   "metadata": {},
   "outputs": [
    {
     "data": {
      "text/plain": [
       "0.6645137649171424"
      ]
     },
     "execution_count": 38,
     "metadata": {},
     "output_type": "execute_result"
    }
   ],
   "source": [
    "# Yc performance\n",
    "roc_auc_score(tar_test['Y2'],model.predict(cov_test))"
   ]
  },
  {
   "cell_type": "code",
   "execution_count": 39,
   "metadata": {},
   "outputs": [
    {
     "data": {
      "text/plain": [
       "0.7144699947714019"
      ]
     },
     "execution_count": 39,
     "metadata": {},
     "output_type": "execute_result"
    }
   ],
   "source": [
    "roc_auc_score(tar_test['Y3'],model.predict(cov_test))"
   ]
  },
  {
   "cell_type": "code",
   "execution_count": 40,
   "metadata": {},
   "outputs": [
    {
     "data": {
      "text/plain": [
       "0.5885865335643673"
      ]
     },
     "execution_count": 40,
     "metadata": {},
     "output_type": "execute_result"
    }
   ],
   "source": [
    "roc_auc_score(tar_test['D'],model.predict(cov_test))"
   ]
  },
  {
   "cell_type": "markdown",
   "metadata": {},
   "source": [
    "#### Hybrid"
   ]
  },
  {
   "cell_type": "code",
   "execution_count": 60,
   "metadata": {},
   "outputs": [
    {
     "data": {
      "text/plain": [
       "(37222,)"
      ]
     },
     "execution_count": 60,
     "metadata": {},
     "output_type": "execute_result"
    }
   ],
   "source": [
    "high_agr.shape"
   ]
  },
  {
   "cell_type": "code",
   "execution_count": 58,
   "metadata": {},
   "outputs": [
    {
     "ename": "NameError",
     "evalue": "name 'high_agr_test' is not defined",
     "output_type": "error",
     "traceback": [
      "\u001b[0;31m---------------------------------------------------------------------------\u001b[0m",
      "\u001b[0;31mNameError\u001b[0m                                 Traceback (most recent call last)",
      "\u001b[0;32m<ipython-input-58-1e5bfb14da5e>\u001b[0m in \u001b[0;36m<module>\u001b[0;34m\u001b[0m\n\u001b[1;32m      1\u001b[0m \u001b[0mY_pred_hybrid_test\u001b[0m \u001b[0;34m=\u001b[0m \u001b[0mnp\u001b[0m\u001b[0;34m.\u001b[0m\u001b[0mcopy\u001b[0m\u001b[0;34m(\u001b[0m\u001b[0mY_pred_obs_test\u001b[0m\u001b[0;34m)\u001b[0m\u001b[0;34m\u001b[0m\u001b[0;34m\u001b[0m\u001b[0m\n\u001b[0;32m----> 2\u001b[0;31m \u001b[0mY_pred_hybrid_test\u001b[0m\u001b[0;34m[\u001b[0m\u001b[0mhigh_agr_test\u001b[0m\u001b[0;34m]\u001b[0m \u001b[0;34m=\u001b[0m \u001b[0mY_pred_h_test\u001b[0m\u001b[0;34m[\u001b[0m\u001b[0mhigh_agr_test\u001b[0m\u001b[0;34m]\u001b[0m\u001b[0;34m\u001b[0m\u001b[0;34m\u001b[0m\u001b[0m\n\u001b[0m",
      "\u001b[0;31mNameError\u001b[0m: name 'high_agr_test' is not defined"
     ]
    }
   ],
   "source": [
    "Y_pred_hybrid_test = np.copy(Y_pred_obs_test)\n",
    "Y_pred_hybrid_test[high_agr_test] = Y_pred_h_test[high_agr_test]"
   ]
  },
  {
   "cell_type": "markdown",
   "metadata": {},
   "source": [
    "## Precision/Accuracy"
   ]
  },
  {
   "cell_type": "code",
   "execution_count": 45,
   "metadata": {},
   "outputs": [],
   "source": [
    "def eval_pred_outcome(Y_outcome_test, Y_pred_test, Y_h_test, p):\n",
    "    Y_pred_test_scrin = Y_pred_test[Y_h_test==1]\n",
    "    Y_outcome_test_scrin = Y_outcome_test[Y_h_test==1]\n",
    "    #print(sum(Y_outcome_test_scrin))\n",
    "    idx_25qrtl_pred = np.argsort(Y_pred_test_scrin)[::-1][:int(np.floor(p*len(Y_pred_test_scrin)))]\n",
    "    #baseline\n",
    "    baseline = sum(Y_outcome_test_scrin)/len(Y_outcome_test_scrin)\n",
    "    #print(idx_25qrtl_pred )\n",
    "    #print(sum(Y_outcome_test_scrin[idx_25qrtl_pred]))\n",
    "    #precision and recall in top p% highsest scored screen-in\n",
    "    precision_p = sum(Y_outcome_test_scrin[idx_25qrtl_pred])/len(idx_25qrtl_pred)\n",
    "    recall_p = sum(Y_outcome_test_scrin[idx_25qrtl_pred])/sum(Y_outcome_test)\n",
    "    \n",
    "    return baseline, precision_p, recall_p"
   ]
  },
  {
   "cell_type": "code",
   "execution_count": 47,
   "metadata": {},
   "outputs": [
    {
     "name": "stdout",
     "output_type": "stream",
     "text": [
      "Eval resp. Y_obs\n",
      "f_y (0.12117576484703059, 0.2744, 0.44030808729139925)\n",
      "f_A (0.12117576484703059, 0.2744, 0.44030808729139925)\n",
      "f_h (0.12117576484703059, 0.1952, 0.31322207958921694)\n"
     ]
    }
   ],
   "source": [
    "print('Eval resp. Y_obs')\n",
    "print('f_y', eval_pred_outcome(np.array(tar_test['Y1']).flatten(), Y_pred_obs_test.flatten(), np.array(tar_test['D']==1).flatten(), 0.25))\n",
    "print('f_A', eval_pred_outcome(np.array(tar_test['Y1']).flatten(), Y_pred_amalg_test.flatten(), np.array(tar_test['D']==1).flatten(), 0.25))\n",
    "print('f_h', eval_pred_outcome(np.array(tar_test['Y1']).flatten(), Y_pred_h_test.flatten(), np.array(tar_test['D']==1).flatten(), 0.25))"
   ]
  },
  {
   "cell_type": "code",
   "execution_count": 48,
   "metadata": {},
   "outputs": [
    {
     "name": "stdout",
     "output_type": "stream",
     "text": [
      "Eval resp. Y_serv\n",
      "f_y (0.4231153769246151, 0.5928, 0.3501890359168242)\n",
      "f_A (0.4231153769246151, 0.648, 0.3827977315689981)\n",
      "f_h (0.4231153769246151, 0.7032, 0.41540642722117205)\n"
     ]
    }
   ],
   "source": [
    "print('Eval resp. Y_serv')\n",
    "print('f_y', eval_pred_outcome(np.array(tar_test['Y2']).flatten(), Y_pred_obs_test.flatten(), np.array(tar_test['D']==1).flatten(), 0.25))\n",
    "print('f_A', eval_pred_outcome(np.array(tar_test['Y2']).flatten(), Y_pred_amalg_test.flatten(), np.array(tar_test['D']==1).flatten(), 0.25))\n",
    "print('f_h', eval_pred_outcome(np.array(tar_test['Y2']).flatten(), Y_pred_h_test.flatten(), np.array(tar_test['D']==1).flatten(), 0.25))"
   ]
  },
  {
   "cell_type": "code",
   "execution_count": 49,
   "metadata": {},
   "outputs": [
    {
     "name": "stdout",
     "output_type": "stream",
     "text": [
      "Eval resp. Y_sub\n",
      "f_y (0.4527094581083783, 0.692, 0.3820671378091873)\n",
      "f_A (0.4527094581083783, 0.808, 0.446113074204947)\n",
      "f_h (0.4527094581083783, 0.988, 0.5454946996466431)\n"
     ]
    }
   ],
   "source": [
    "print('Eval resp. Y_sub')\n",
    "print('f_y', eval_pred_outcome(np.array(tar_test['Y3']).flatten(), Y_pred_obs_test.flatten(), np.array(tar_test['D']==1).flatten(), 0.25))\n",
    "print('f_A', eval_pred_outcome(np.array(tar_test['Y3']).flatten(), Y_pred_amalg_test.flatten(), np.array(tar_test['D']==1).flatten(), 0.25))\n",
    "print('f_h', eval_pred_outcome(np.array(tar_test['Y3']).flatten(), Y_pred_h_test.flatten(), np.array(tar_test['D']==1).flatten(), 0.25))"
   ]
  },
  {
   "cell_type": "code",
   "execution_count": null,
   "metadata": {},
   "outputs": [],
   "source": []
  },
  {
   "cell_type": "code",
   "execution_count": null,
   "metadata": {},
   "outputs": [],
   "source": []
  },
  {
   "cell_type": "code",
   "execution_count": null,
   "metadata": {},
   "outputs": [],
   "source": []
  },
  {
   "cell_type": "code",
   "execution_count": 50,
   "metadata": {},
   "outputs": [],
   "source": [
    "def eval_pred(Y_pred_test, tar_test, p):\n",
    "    dic_k_Y_pred = {}\n",
    "    \n",
    "    base_ooh, precision_ooh, recall_ooh = eval_pred_outcome(np.array(tar_test['Y1']).flatten(), Y_pred_test.flatten(), np.array(tar_test['D']==1).flatten(), p)\n",
    "    base_serv, precision_serv, recall_serv = eval_pred_outcome(np.array(tar_test['Y2']).flatten(), Y_pred_test.flatten(), np.array(tar_test['D']==1).flatten(), p)\n",
    "    base_sub, precision_sub, recall_sub = eval_pred_outcome(np.array(tar_test['Y3']).flatten(), Y_pred_test.flatten(), np.array(tar_test['D']==1).flatten(), p)\n",
    "    \n",
    "    dic_k_Y_pred['ooh'] = {'base': float(base_ooh), 'precision': float(precision_ooh), 'recall': float(recall_ooh)}\n",
    "    dic_k_Y_pred['sub'] = {'base': float(base_sub), 'precision': float(precision_sub), 'recall': float(recall_sub)}\n",
    "    dic_k_Y_pred['serv'] = {'base': float(base_serv), 'precision': float(precision_serv), 'recall': float(recall_serv)}\n",
    "    \n",
    "    return dic_k_Y_pred\n",
    "    "
   ]
  },
  {
   "cell_type": "code",
   "execution_count": 51,
   "metadata": {},
   "outputs": [],
   "source": [
    "def eval_k_iter(Y_pred_obs_test, Y_pred_amalg_test, Y_pred_h_test, tar_test, p):\n",
    "    dic_eval = {}\n",
    "    \n",
    "    dic_k = {}\n",
    "    dic_k['Y_pred_obs_test'] = eval_pred(Y_pred_obs_test, tar_test, p)\n",
    "    dic_k['Y_pred_h_test'] = eval_pred(Y_pred_h_test, tar_test, p)\n",
    "    #dic_k['Y_pred_hybrid_test'] = eval_pred(Y_pred_hybrid_test, Y_h, Y_ooh, Y_serv, Y_sub, refer_ids_test, refer_ids, p)\n",
    "    #print('done with Y_pred_hyb_test')\n",
    "    dic_k['Y_pred_amalg_test'] = eval_pred(Y_pred_amalg_test, tar_test, p)\n",
    "\n",
    "    \n",
    "    dic_eval[0] = dic_k\n",
    "    \n",
    "    return dic_eval"
   ]
  },
  {
   "cell_type": "code",
   "execution_count": 52,
   "metadata": {},
   "outputs": [],
   "source": [
    "list_dics =[]\n",
    "for p in np.arange(0.05, 0.4, 0.05):\n",
    "    list_dics.append(eval_k_iter(Y_pred_obs_test, Y_pred_amalg_test, Y_pred_h_test, tar_test, p))"
   ]
  },
  {
   "cell_type": "code",
   "execution_count": 53,
   "metadata": {},
   "outputs": [],
   "source": [
    "dic_25 = eval_k_iter(Y_pred_obs_test, Y_pred_amalg_test, Y_pred_h_test, tar_test, 0.25)\n"
   ]
  },
  {
   "cell_type": "code",
   "execution_count": 54,
   "metadata": {},
   "outputs": [],
   "source": [
    "def plot_perf_bar(dic_eval, models = ['Y_pred_obs_test', 'Y_pred_h_test',\n",
    "                                     'Y_pred_hybrid_test', 'Y_pred_amalg_test'], \n",
    "                  plot_labels = [ '$f_y$', '$f_h$', '$f_\\mathcal{hyb}$',  '$f_\\mathcal{A}$' ] ,\n",
    "                  labels = ['ooh', 'sub', 'serv'], y_max=1.05, legend_appear=True,\n",
    "                  metric ='precision', fig_title='fig_noname'):\n",
    "    \n",
    "    K = len(dic_eval.keys())\n",
    "    \n",
    "    n_labels = len(labels)\n",
    "    \n",
    "    fig, ax = plt.subplots(figsize=(10,5))\n",
    "    index = np.arange(n_labels)\n",
    "    bar_width = 0.15\n",
    "    opacity = 0.8\n",
    "    colors = ['green', 'darkred', 'yellow', 'blue']\n",
    "    hatches = ['//', '-', '\\\\', '.']\n",
    "    \n",
    "    \n",
    "    m_idx =0\n",
    "    for m in models:\n",
    "        plot_mean = [0]*n_labels\n",
    "        plot_std = [0]*n_labels\n",
    "        \n",
    "        l_idx = 0\n",
    "        for l in labels:\n",
    "            metric_list = [0]*K\n",
    "            if metric == 'precision':\n",
    "                for k in range(K):\n",
    "                    metric_list[k] = dic_eval[k][m][l]['precision']\n",
    "            \n",
    "            if metric == 'recall':\n",
    "                for k in range(K):\n",
    "                    metric_list[k] = dic_eval[k][m][l]['recall']\n",
    "            plot_mean[l_idx] = np.mean(metric_list)  \n",
    "            plot_std[l_idx] = np.std(metric_list)  \n",
    "            l_idx += 1\n",
    "        rects = plt.bar(index+m_idx*bar_width, plot_mean, yerr= plot_std,\n",
    "            alpha=opacity, color=colors[m_idx], capsize=7,  width=.1, hatch = hatches[m_idx],\n",
    "                            label=plot_labels[m_idx])        \n",
    "            \n",
    "            \n",
    "        m_idx+=1                \n",
    "    \n",
    "    \n",
    "    for n in index[:-1]:\n",
    "        if metric=='precision':\n",
    "            t= 0.8\n",
    "        else:\n",
    "            t=0.7\n",
    "        plt.axvline(x=n+t, color='grey', linestyle='--')\n",
    "        \n",
    "    if metric=='precision':\n",
    "        plot_mean = [0]*n_labels\n",
    "        plot_std = [0]*n_labels\n",
    "        l_idx = 0\n",
    "        for l in labels:\n",
    "            metric_list = [0]*K\n",
    "            for k in range(K):\n",
    "                metric_list[k] = dic_eval[k][m][l]['base']\n",
    "            plot_mean[l_idx] = np.mean(metric_list)  \n",
    "            plot_std[l_idx] = np.std(metric_list) \n",
    "            l_idx +=1\n",
    "        rects = plt.bar(index+len(models)*bar_width, plot_mean, yerr= plot_std,\n",
    "            alpha=opacity, color='grey',capsize=7,  width=.1,label='Overall prev.')     \n",
    "\n",
    "    plt.ylabel(metric,fontsize=25)\n",
    "    #plt.ylim((0,1.05))\n",
    "    #plt.title('Performance of outcomes by model',fontsize=18)\n",
    "    plt.xticks(index + 1.5*bar_width, ('OOH', 'Substantiated', 'Services'),fontsize=18)\n",
    "    plt.yticks(fontsize=16)\n",
    "    if legend_appear==True:\n",
    "        plt.legend(loc = 'upper left', fontsize=18)\n",
    "    plt.ylim(0.0,y_max)\n",
    "    plt.tight_layout()\n",
    "\n",
    "#     plt.savefig(fig_title, dpi=300,\n",
    "#             orientation='portrait' )\n",
    "    plt.show()"
   ]
  },
  {
   "cell_type": "code",
   "execution_count": 55,
   "metadata": {},
   "outputs": [
    {
     "data": {
      "image/png": "[encoded data removed]",
      "text/plain": [
       "<Figure size 720x360 with 1 Axes>"
      ]
     },
     "metadata": {
      "needs_background": "light"
     },
     "output_type": "display_data"
    }
   ],
   "source": [
    "plot_perf_bar(dic_25, models = ['Y_pred_obs_test', 'Y_pred_h_test', 'Y_pred_amalg_test'], \n",
    "                  plot_labels = [ '$f_y$', '$f_h$',   '$f_\\mathcal{A}$' ])"
   ]
  },
  {
   "cell_type": "code",
   "execution_count": 56,
   "metadata": {},
   "outputs": [],
   "source": [
    "def plot_perf_bar(list_dics, index = np.arange(0.05, 0.4, 0.05), models = ['Y_pred_obs_test', 'Y_pred_h_test',\n",
    "                                     'Y_pred_hybrid_test', 'Y_pred_amalg_test'], \n",
    "                  plot_labels = [ '$f_y$', '$f_h$', '$f_\\mathcal{hyb}$',  '$f_\\mathcal{A}$' ] ,\n",
    "                  labels = ['ooh', 'sub', 'serv'], y_max=1.05, legend_appear=True,\n",
    "                  metric ='precision', fig_title='fig_noname'):\n",
    "    \n",
    "    K = len(list_dics[0].keys())\n",
    "    \n",
    "    n_groups = len(labels)\n",
    "    \n",
    "    fig, ax_list = plt.subplots(1,n_groups, figsize=(14,5))\n",
    "    N=len(list_dics)\n",
    "    \n",
    "    bar_width = 0.1\n",
    "    opacity = 0.8\n",
    "    colors = ['green', 'darkred', 'goldenrod', 'blue']\n",
    "    hatches = ['//', '-', '\\\\', '.']\n",
    "    l_idx = 0\n",
    "    for l in labels:\n",
    "        m_idx =0\n",
    "        for m in models:\n",
    "            plot_mean = [0]*N\n",
    "            plot_std = [0]*N\n",
    "\n",
    "            dic_idx = 0\n",
    "            for dic_eval in list_dics:\n",
    "                metric_list = [0]*K\n",
    "                if metric == 'precision':\n",
    "                    for k in range(K):\n",
    "                        metric_list[k] = dic_eval[k][m][l]['precision']\n",
    "\n",
    "                if metric == 'recall':\n",
    "                    for k in range(K):\n",
    "                        metric_list[k] = dic_eval[k][m][l]['recall']\n",
    "                plot_mean[dic_idx] = np.mean(metric_list)  \n",
    "                plot_std[dic_idx] = np.std(metric_list)  \n",
    "                dic_idx += 1\n",
    "            ax_list[l_idx].errorbar(index, plot_mean, yerr= plot_std,\n",
    "                alpha=opacity, color=colors[m_idx], capsize=7, \n",
    "                               label=plot_labels[m_idx])        \n",
    "#             else:\n",
    "#                 ax_list[l_idx].errorbar(index, plot_mean, yerr= plot_std,\n",
    "#                 alpha=opacity, color=colors[m_idx], capsize=7)     \n",
    "\n",
    "            m_idx+=1                \n",
    "        \n",
    "\n",
    "#         for n in index[:-1]:\n",
    "#             if metric=='precision':\n",
    "#                 t= (len(list_dics)-1)*bar_width+0.2\n",
    "#             else:\n",
    "#                 t= len(list_dics)*bar_width\n",
    "#             plt.axvline(x=n+t, color='grey', linestyle='--')\n",
    "\n",
    "        if metric=='precision':\n",
    "            plot_mean = [0]*N\n",
    "            plot_std = [0]*N\n",
    "            dic_idx = 0\n",
    "            for dic_eval in list_dics:\n",
    "                metric_list = [0]*K\n",
    "                for k in range(K):\n",
    "                    metric_list[k] = dic_eval[k][m][l]['base']\n",
    "                plot_mean[dic_idx] = np.mean(metric_list)  \n",
    "                plot_std[dic_idx] = np.std(metric_list) \n",
    "                dic_idx +=1\n",
    "            ax_list[l_idx].errorbar(index, plot_mean, yerr= plot_std,\n",
    "                alpha=opacity, color='grey',capsize=7, label='base')     \n",
    "#             else:\n",
    "#                 ax_list[l_idx].errorbar(index, plot_mean, yerr= plot_std,\n",
    "#                 alpha=opacity, color='grey',capsize=7)     \n",
    "        l_idx+=1\n",
    "        \n",
    "        \n",
    "   # plt.ylabel(metric,fontsize=25)\n",
    "    ax_list[0].set_ylabel(metric,fontsize=20)\n",
    "    ax_list[1].set_xlabel('top p%',fontsize=20)\n",
    "    \n",
    "    for k in range(n_groups):\n",
    "        ax_list[k].set_title(labels[k],fontsize=20)\n",
    "    \n",
    "    \n",
    "    ax_list[2].legend(loc='center left', bbox_to_anchor=(1, 0.5),fontsize=18)\n",
    "    \n",
    "    #ax_list[1].legend(loc='upper center', bbox_to_anchor=(0.5, -0.05),\n",
    "        #  fancybox=True, shadow=True, ncol=5)\n",
    "    \n",
    "    #plt.xticks(index+dic_idx*bar_width)\n",
    "    \n",
    "#     plt.yticks(fontsize=16)\n",
    "#     if legend_appear==True:\n",
    "#         plt.legend(loc = 'upper left', fontsize=18)\n",
    "    #plt.ylim(0.0,y_max)\n",
    "    #plt.tight_layout()\n",
    "\n",
    "#     plt.savefig(fig_title, dpi=300,\n",
    "#             orientation='portrait' )\n",
    "    plt.show()"
   ]
  },
  {
   "cell_type": "code",
   "execution_count": 57,
   "metadata": {},
   "outputs": [
    {
     "data": {
      "image/png": "[encoded data removed]",
      "text/plain": [
       "<Figure size 1008x360 with 3 Axes>"
      ]
     },
     "metadata": {
      "needs_background": "light"
     },
     "output_type": "display_data"
    }
   ],
   "source": [
    "plot_perf_bar(list_dics, index = np.arange(0.05, 0.4, 0.05), models = ['Y_pred_obs_test', 'Y_pred_h_test','Y_pred_amalg_test'], \n",
    "                  plot_labels = [ '$f_y$', '$f_h$',  '$f_\\mathcal{A}$' ])"
   ]
  },
  {
   "cell_type": "code",
   "execution_count": null,
   "metadata": {},
   "outputs": [],
   "source": []
  }
 ],
 "metadata": {
  "interpreter": {
   "hash": "a54f3b3a447186e9a4a83057d2abe8df010acd7b8f131225203d307ef84eba48"
  },
  "kernelspec": {
   "display_name": "Python 3",
   "language": "python",
   "name": "python3"
  },
  "language_info": {
   "codemirror_mode": {
    "name": "ipython",
    "version": 3
   },
   "file_extension": ".py",
   "mimetype": "text/x-python",
   "name": "python",
   "nbconvert_exporter": "python",
   "pygments_lexer": "ipython3",
   "version": "3.7.6"
  }
 },
 "nbformat": 4,
 "nbformat_minor": 2
}

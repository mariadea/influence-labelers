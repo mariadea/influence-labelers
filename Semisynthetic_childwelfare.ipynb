{
 "cells": [
  {
   "cell_type": "code",
   "execution_count": 1,
   "metadata": {},
   "outputs": [],
   "source": [
    "import numpy as np\n",
    "import csv\n",
    "import pandas as pd\n",
    "import sklearn\n",
    "import matplotlib.pyplot as plt\n",
    "import random\n",
    "from scipy.optimize import check_grad\n",
    "from sklearn.model_selection import train_test_split\n",
    "from sklearn import linear_model\n",
    "from sklearn.model_selection import GridSearchCV\n",
    "import numdifftools as nd\n",
    "import collections\n",
    "import pickle as pkl\n",
    "from sklearn.calibration import CalibratedClassifierCV\n",
    "import matplotlib\n",
    "import warnings\n",
    "import itertools\n",
    "from scipy.stats.stats import pearsonr\n",
    "from sklearn.feature_selection import VarianceThreshold\n",
    "from sklearn.metrics import normalized_mutual_info_score"
   ]
  },
  {
   "cell_type": "code",
   "execution_count": null,
   "metadata": {},
   "outputs": [],
   "source": [
    "#name of file to store generated data\n",
    "data__file = '../../data/semi_synthetic/Data_semisynthetic_v1.pkl'"
   ]
  },
  {
   "cell_type": "markdown",
   "metadata": {},
   "source": [
    "# Load data"
   ]
  },
  {
   "cell_type": "markdown",
   "metadata": {},
   "source": [
    "### Preprocess data"
   ]
  },
  {
   "cell_type": "code",
   "execution_count": 2,
   "metadata": {},
   "outputs": [],
   "source": [
    "with open('../../data/ChildWelfare/X_preprocess.pkl', 'rb') as handle:\n",
    "    X, screener_ids, refer_ids, Y_observed, Y_human, Y_serv, Y_sub, colnames = pkl.load(handle)"
   ]
  },
  {
   "cell_type": "code",
   "execution_count": 3,
   "metadata": {},
   "outputs": [],
   "source": [
    "dat_sorted = pd.read_csv(\"../../data/ChildWelfare/child_welfare_with_call.csv\")\n",
    "dat_sorted = dat_sorted.sort_values(['REFER_DT'])\n",
    "dat_sorted.drop_duplicates(subset=['MCI_ID'],inplace=True)"
   ]
  },
  {
   "cell_type": "code",
   "execution_count": 4,
   "metadata": {
    "scrolled": true
   },
   "outputs": [
    {
     "data": {
      "text/html": [
       "<div>\n",
       "<style scoped>\n",
       "    .dataframe tbody tr th:only-of-type {\n",
       "        vertical-align: middle;\n",
       "    }\n",
       "\n",
       "    .dataframe tbody tr th {\n",
       "        vertical-align: top;\n",
       "    }\n",
       "\n",
       "    .dataframe thead th {\n",
       "        text-align: right;\n",
       "    }\n",
       "</style>\n",
       "<table border=\"1\" class=\"dataframe\">\n",
       "  <thead>\n",
       "    <tr style=\"text-align: right;\">\n",
       "      <th></th>\n",
       "      <th>0</th>\n",
       "    </tr>\n",
       "  </thead>\n",
       "  <tbody>\n",
       "    <tr>\n",
       "      <th>VIC_COUNT_NULL</th>\n",
       "      <td>46544</td>\n",
       "    </tr>\n",
       "    <tr>\n",
       "      <th>POVERYRATE_NULL</th>\n",
       "      <td>45516</td>\n",
       "    </tr>\n",
       "    <tr>\n",
       "      <th>PERP_COUNT_NULL</th>\n",
       "      <td>43476</td>\n",
       "    </tr>\n",
       "    <tr>\n",
       "      <th>AGE_AT_RFRL_VICT_SELF</th>\n",
       "      <td>40268</td>\n",
       "    </tr>\n",
       "    <tr>\n",
       "      <th>NO_BH_VICT_SELF</th>\n",
       "      <td>37683</td>\n",
       "    </tr>\n",
       "    <tr>\n",
       "      <th>...</th>\n",
       "      <td>...</td>\n",
       "    </tr>\n",
       "    <tr>\n",
       "      <th>DAYS_LAST_SEEN_IN_BH_CHLD</th>\n",
       "      <td>3906</td>\n",
       "    </tr>\n",
       "    <tr>\n",
       "      <th>PRNT_AGE_2024_NULL</th>\n",
       "      <td>3473</td>\n",
       "    </tr>\n",
       "    <tr>\n",
       "      <th>VIC_OTHER_NULL</th>\n",
       "      <td>3441</td>\n",
       "    </tr>\n",
       "    <tr>\n",
       "      <th>DPW_SSI_3_CHLD</th>\n",
       "      <td>3362</td>\n",
       "    </tr>\n",
       "    <tr>\n",
       "      <th>REF_PAST180_COUNT_PRNT</th>\n",
       "      <td>3361</td>\n",
       "    </tr>\n",
       "  </tbody>\n",
       "</table>\n",
       "<p>70 rows × 1 columns</p>\n",
       "</div>"
      ],
      "text/plain": [
       "                               0\n",
       "VIC_COUNT_NULL             46544\n",
       "POVERYRATE_NULL            45516\n",
       "PERP_COUNT_NULL            43476\n",
       "AGE_AT_RFRL_VICT_SELF      40268\n",
       "NO_BH_VICT_SELF            37683\n",
       "...                          ...\n",
       "DAYS_LAST_SEEN_IN_BH_CHLD   3906\n",
       "PRNT_AGE_2024_NULL          3473\n",
       "VIC_OTHER_NULL              3441\n",
       "DPW_SSI_3_CHLD              3362\n",
       "REF_PAST180_COUNT_PRNT      3361\n",
       "\n",
       "[70 rows x 1 columns]"
      ]
     },
     "execution_count": 4,
     "metadata": {},
     "output_type": "execute_result"
    }
   ],
   "source": [
    "df_count = (dat_sorted[colnames]!=0).sum(axis=0)\n",
    "(pd.DataFrame(df_count)).sort_values(by=0,ascending=False)[0:70]"
   ]
  },
  {
   "cell_type": "markdown",
   "metadata": {},
   "source": [
    "### Select business rule for positivity assumption violation (D_0), omitted outcome Y_2, and bias feature"
   ]
  },
  {
   "cell_type": "code",
   "execution_count": 5,
   "metadata": {
    "scrolled": true
   },
   "outputs": [],
   "source": [
    "#Sensitive attribute\n",
    "D_0_name = 'DPW_SSI_EVERIN_PRNT' #'VIC_AGE_TEEN_NULL'\n",
    "D_0 = np.array((dat_sorted['DPW_SSI_EVERIN_PRNT']!=0))\n",
    "#omitted outcome in Y\n",
    "Y_2_name = 'DAYS_FROM_LASTRFRL_PERP'\n",
    "Y_2 = np.array((dat_sorted['DAYS_FROM_LASTRFRL_PERP']!=0))\n",
    "biasfeat_name = 'TOTAL_C_19_PERP'\n",
    "biasfeat = (dat_sorted['TOTAL_C_19_PERP']!=0)"
   ]
  },
  {
   "cell_type": "code",
   "execution_count": 6,
   "metadata": {},
   "outputs": [],
   "source": [
    "X = np.delete(X,np.where(colnames=='TOTAL_C_19_PERP')[0][0],1)"
   ]
  },
  {
   "cell_type": "code",
   "execution_count": 7,
   "metadata": {},
   "outputs": [],
   "source": [
    "scaler = sklearn.preprocessing.StandardScaler()\n",
    "X = np.column_stack((X, np.array(biasfeat)[:,np.newaxis]))\n",
    "X = np.hstack((X, np.ones((X.shape[0],1))))\n",
    "X = scaler.fit_transform(X)"
   ]
  },
  {
   "cell_type": "code",
   "execution_count": 8,
   "metadata": {},
   "outputs": [
    {
     "data": {
      "text/plain": [
       "(46544, 217)"
      ]
     },
     "execution_count": 8,
     "metadata": {},
     "output_type": "execute_result"
    }
   ],
   "source": [
    "#colnames\n",
    "X.shape"
   ]
  },
  {
   "cell_type": "markdown",
   "metadata": {},
   "source": [
    "### Create semi-synthetic labels Y1, Y2, Y using logit models"
   ]
  },
  {
   "cell_type": "code",
   "execution_count": 14,
   "metadata": {},
   "outputs": [
    {
     "name": "stderr",
     "output_type": "stream",
     "text": [
      "/zfsauton/home/mdeartea/anaconda3/lib/python3.7/site-packages/sklearn/utils/validation.py:578: DataConversionWarning: A column-vector y was passed when a 1d array was expected. Please change the shape of y to (n_samples, ), for example using ravel().\n",
      "  y = column_or_1d(y, warn=True)\n"
     ]
    },
    {
     "name": "stdout",
     "output_type": "stream",
     "text": [
      "0.7913285161634696\n",
      "44\n"
     ]
    },
    {
     "data": {
      "text/plain": [
       "[<matplotlib.lines.Line2D at 0x7f025586f1d0>]"
      ]
     },
     "execution_count": 14,
     "metadata": {},
     "output_type": "execute_result"
    },
    {
     "data": {
      "image/png": "[encoded data removed]",
      "text/plain": [
       "<Figure size 432x288 with 1 Axes>"
      ]
     },
     "metadata": {
      "needs_background": "light"
     },
     "output_type": "display_data"
    }
   ],
   "source": [
    "#Fit model to predict observed Y\n",
    "logit = linear_model.LogisticRegression(penalty = 'l1', C=0.005, random_state=42, fit_intercept=False)\n",
    "clf = logit.fit(X, Y_observed)\n",
    "Y_pred = clf.predict_proba(X)\n",
    "fpr, tpr,thres = sklearn.metrics.roc_curve(Y_observed, Y_pred[:,1])\n",
    "roc_auc = sklearn.metrics.auc(fpr, tpr)\n",
    "print(roc_auc)\n",
    "coef_pred_y = clf.coef_\n",
    "print(sum(coef_pred_y[0]!=0))\n",
    "plt.plot(fpr, tpr, color='darkorange',label='ROC curve (area = %0.2f)' % roc_auc)"
   ]
  },
  {
   "cell_type": "code",
   "execution_count": 15,
   "metadata": {},
   "outputs": [],
   "source": [
    "#Sample coefficients centered around the fitted coefficients\n",
    "def resample_coef(coef_pred_y):\n",
    "    for i in np.arange(len(coef_pred_y)):\n",
    "        if coef_pred_y[i]!=0:\n",
    "            np.random.seed(seed=0)\n",
    "            c_new = np.random.normal(loc = coef_pred_y[i],scale=1.0)\n",
    "            coef_pred_y[i] = c_new\n",
    "    coef_pred_y[-2] = 0\n",
    "    return coef_pred_y\n"
   ]
  },
  {
   "cell_type": "code",
   "execution_count": 16,
   "metadata": {},
   "outputs": [],
   "source": [
    "def f_label(x,coef):\n",
    "    z=np.dot(x,coef)\n",
    "    pr = 1/(1+np.exp(-z))\n",
    "    y = np.zeros(shape=pr.shape)\n",
    "    for i in np.arange(pr.shape[0]):\n",
    "        np.random.seed(seed=None)\n",
    "        y[i] = np.random.binomial(1,pr[i])\n",
    "    return y"
   ]
  },
  {
   "cell_type": "code",
   "execution_count": 17,
   "metadata": {},
   "outputs": [],
   "source": [
    "#Resample coefficients and use this to generate synthetic Y_1\n",
    "y1_coef=resample_coef(coef_pred_y[0])\n",
    "Y_1 = f_label(X, y1_coef)"
   ]
  },
  {
   "cell_type": "code",
   "execution_count": 18,
   "metadata": {},
   "outputs": [
    {
     "data": {
      "text/plain": [
       "True"
      ]
     },
     "execution_count": 18,
     "metadata": {},
     "output_type": "execute_result"
    }
   ],
   "source": [
    "np.array(Y_2)[117]"
   ]
  },
  {
   "cell_type": "code",
   "execution_count": 9,
   "metadata": {},
   "outputs": [],
   "source": [
    "#Synthetic Y_1 is union of Y_1 and Y_2"
   ]
  },
  {
   "cell_type": "code",
   "execution_count": 19,
   "metadata": {},
   "outputs": [],
   "source": [
    "Y = np.array([max(Y_1[i],Y_2[i]) for i in np.arange(len(Y_1))])"
   ]
  },
  {
   "cell_type": "code",
   "execution_count": 20,
   "metadata": {},
   "outputs": [
    {
     "name": "stdout",
     "output_type": "stream",
     "text": [
      "Number of Y1 = 1:  20524.0\n",
      "Number of Y2 = 1:  13762\n",
      "Number of Y = 1:  25285.0\n",
      "Portion of Y_2=1 for which Y_1=1  0.6540473768347624\n"
     ]
    }
   ],
   "source": [
    "print(\"Number of Y1 = 1: \", sum(Y_1))\n",
    "print(\"Number of Y2 = 1: \", sum(Y_2))\n",
    "print(\"Number of Y = 1: \", sum(Y))\n",
    "print(\"Portion of Y_2=1 for which Y_1=1 \", sum(np.array(Y_1)[Y_2])/np.float(sum(Y_2)))"
   ]
  },
  {
   "cell_type": "code",
   "execution_count": 21,
   "metadata": {},
   "outputs": [
    {
     "name": "stdout",
     "output_type": "stream",
     "text": [
      "Mutual info Y_1, Y_2:  0.060131448925003314\n",
      "Mutual info Y_1, Y:  0.6155591638473489\n",
      "Mutual info Y_2, Y:  0.3597331254373652\n"
     ]
    }
   ],
   "source": [
    "print('Mutual info Y_1, Y_2: ',normalized_mutual_info_score(Y_1,Y_2))\n",
    "print('Mutual info Y_1, Y: ',normalized_mutual_info_score(Y_1,Y))\n",
    "print('Mutual info Y_2, Y: ',normalized_mutual_info_score(Y_2,Y))"
   ]
  },
  {
   "cell_type": "code",
   "execution_count": 22,
   "metadata": {},
   "outputs": [
    {
     "name": "stdout",
     "output_type": "stream",
     "text": [
      "0.5870906502135738\n",
      "0.44803037494067394\n",
      "0.7351684859990508\n"
     ]
    }
   ],
   "source": [
    "#Check labels for individuals for whom the 'bias' indicator is on\n",
    "print(sum(Y_1[np.array(dat_sorted['TOTAL_C_19_PERP']!=0)])/sum(dat_sorted['TOTAL_C_19_PERP']!=0))\n",
    "print(sum(Y_2[np.array(dat_sorted['TOTAL_C_19_PERP']!=0)])/sum(dat_sorted['TOTAL_C_19_PERP']!=0))\n",
    "print(sum(Y[np.array(dat_sorted['TOTAL_C_19_PERP']!=0)])/sum(dat_sorted['TOTAL_C_19_PERP']!=0))"
   ]
  },
  {
   "cell_type": "markdown",
   "metadata": {},
   "source": [
    "### Extract coefficients that will be used to create semi-synthetic human label D"
   ]
  },
  {
   "cell_type": "code",
   "execution_count": 23,
   "metadata": {
    "scrolled": true
   },
   "outputs": [
    {
     "name": "stdout",
     "output_type": "stream",
     "text": [
      "0.9831514869441283\n"
     ]
    },
    {
     "data": {
      "text/plain": [
       "[<matplotlib.lines.Line2D at 0x7f0254e01278>]"
      ]
     },
     "execution_count": 23,
     "metadata": {},
     "output_type": "execute_result"
    },
    {
     "data": {
      "image/png": "[encoded data removed]",
      "text/plain": [
       "<Figure size 432x288 with 1 Axes>"
      ]
     },
     "metadata": {
      "needs_background": "light"
     },
     "output_type": "display_data"
    }
   ],
   "source": [
    "#build model to predict y1, we should be able to recover it almost perfectly\n",
    "#add noise (sampler from a distribution defined for each decision maker)\n",
    "logit = linear_model.LogisticRegression(penalty = 'l1', C=0.01, random_state=42, fit_intercept=False)\n",
    "clf = logit.fit(X, Y)\n",
    "Y_pred = clf.predict_proba(X)\n",
    "fpr, tpr,thres = sklearn.metrics.roc_curve(Y, Y_pred[:,1])\n",
    "roc_auc = sklearn.metrics.auc(fpr, tpr)\n",
    "print(roc_auc)\n",
    "plt.plot(fpr, tpr, color='darkorange',label='ROC curve (area = %0.2f)' % roc_auc)"
   ]
  },
  {
   "cell_type": "code",
   "execution_count": 24,
   "metadata": {},
   "outputs": [
    {
     "data": {
      "text/plain": [
       "86"
      ]
     },
     "execution_count": 24,
     "metadata": {},
     "output_type": "execute_result"
    }
   ],
   "source": [
    "coef_pred_y = clf.coef_\n",
    "sum(coef_pred_y[0]!=0)"
   ]
  },
  {
   "cell_type": "markdown",
   "metadata": {},
   "source": [
    "## Pickle data "
   ]
  },
  {
   "cell_type": "code",
   "execution_count": 26,
   "metadata": {},
   "outputs": [],
   "source": [
    "# with open('../../data/semi_synthetic/X.pkl', 'wb') as file:\n",
    "#     pkl.dump(X,file)\n",
    "with open(data_file, 'wb') as file:\n",
    "    pkl.dump([X,Y_1,Y_2,Y,D_0,refer_ids,screener_ids,coef_pred_y],file)"
   ]
  },
  {
   "cell_type": "code",
   "execution_count": 21,
   "metadata": {},
   "outputs": [],
   "source": [
    "# with open('../../data/semi_synthetic/labels.pkl', 'rb') as handle:\n",
    "#     b = pkl.load(handle)"
   ]
  }
 ],
 "metadata": {
  "kernelspec": {
   "display_name": "Python 3",
   "language": "python",
   "name": "python3"
  },
  "language_info": {
   "codemirror_mode": {
    "name": "ipython",
    "version": 3
   },
   "file_extension": ".py",
   "mimetype": "text/x-python",
   "name": "python",
   "nbconvert_exporter": "python",
   "pygments_lexer": "ipython3",
   "version": "3.7.6"
  }
 },
 "nbformat": 4,
 "nbformat_minor": 1
}

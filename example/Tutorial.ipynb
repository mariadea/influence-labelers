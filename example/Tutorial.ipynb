{
 "cells": [
  {
   "cell_type": "code",
   "execution_count": 33,
   "metadata": {},
   "outputs": [],
   "source": [
    "import sys\n",
    "sys.path.append('../')\n",
    "\n",
    "from model import *\n",
    "import pandas as pd\n",
    "from sklearn.metrics import roc_auc_score\n",
    "from sklearn.model_selection import train_test_split\n",
    "\n",
    "import seaborn as sns\n",
    "sns.set_theme()\n",
    "import matplotlib.pyplot as plt"
   ]
  },
  {
   "cell_type": "markdown",
   "metadata": {},
   "source": [
    "# Tutorial"
   ]
  },
  {
   "cell_type": "markdown",
   "metadata": {},
   "source": [
    "This notebook explores how to choose the parameters of interest on the MIMIC example, and explore how to measure potential bias reinforcement. It shows step by step how to:\n",
    "1. Build the proposed amalgamation approach\n",
    "2. Compute performance\n",
    "3. Measure the influence (per group)\n",
    "4. Measure the different metrics (per group)\n",
    "5. Measure the percentage of amalgamation"
   ]
  },
  {
   "cell_type": "code",
   "execution_count": 2,
   "metadata": {},
   "outputs": [],
   "source": [
    "data_set = \"../data/triage_scenario_4bis.csv\" # Opne data of interest 4bis corresponds to the biased scenario.\n",
    "selective_labels = False # Is it a case of selective labels (only observe the outcome for patients filtered by nurse: D == 1)"
   ]
  },
  {
   "cell_type": "markdown",
   "metadata": {},
   "source": [
    "### Data"
   ]
  },
  {
   "cell_type": "code",
   "execution_count": 3,
   "metadata": {},
   "outputs": [],
   "source": [
    "triage = pd.read_csv(data_set, index_col = [0, 1])\n",
    "covariates, target, nurses = triage.drop(columns = ['D', 'Y1', 'Y2', 'YC', 'nurse']), triage[['D', 'Y1', 'Y2', 'YC']], triage['nurse']"
   ]
  },
  {
   "cell_type": "markdown",
   "metadata": {},
   "source": [
    "Split data in a 80% train, 20% test"
   ]
  },
  {
   "cell_type": "code",
   "execution_count": 4,
   "metadata": {},
   "outputs": [],
   "source": [
    "cov_train, cov_test, tar_train, tar_test, nur_train, nur_test = train_test_split(covariates, target, nurses, test_size = 0.2, random_state = 42)"
   ]
  },
  {
   "cell_type": "markdown",
   "metadata": {},
   "source": [
    "### Modelling"
   ]
  },
  {
   "cell_type": "code",
   "execution_count": 5,
   "metadata": {},
   "outputs": [],
   "source": [
    "# Model's characteristics\n",
    "params = {'layers': [[50]]} # If = [[]] equivalent to a simple logistic regression"
   ]
  },
  {
   "cell_type": "code",
   "execution_count": 10,
   "metadata": {},
   "outputs": [],
   "source": [
    "def evaluate(predictions, p = 0.3):\n",
    "    # Overall Performances\n",
    "    print('Performance')\n",
    "    for tar in ['Y1', 'Y2', 'YC', 'D']:\n",
    "        print('{} - AUC: {:.3f}'.format(tar, roc_auc_score(tar_test[tar], predictions)))\n",
    "\n",
    "        try:\n",
    "            predictions = pd.Series(predictions, index = tar_test.index)\n",
    "            bot = predictions.nsmallest(n = int(p * len(predictions)), keep = 'all').index\n",
    "            female = covariates.loc[predictions.index].Group == 1\n",
    "            bot_female = bot.intersection(female[female].index)\n",
    "            bot_male = bot.intersection(female[~female].index)\n",
    "\n",
    "            print('{} - Female TNR: {:.3f}'.format(tar, 1 - tar_test[tar].loc[bot_female].mean()))\n",
    "            print('{} - Female PNR: {:.3f}'.format(tar, len(bot_female) / female.sum()))\n",
    "            print()\n",
    "        except:\n",
    "            pass"
   ]
  },
  {
   "cell_type": "markdown",
   "metadata": {},
   "source": [
    "##### 1. Train on decision\n",
    "\n",
    "Similarly to `Triage - MIMIC.ipynb`, we first train a model and estimate the influence."
   ]
  },
  {
   "cell_type": "code",
   "execution_count": 11,
   "metadata": {},
   "outputs": [
    {
     "name": "stderr",
     "output_type": "stream",
     "text": [
      "Loss: 0.253: 100%|██████████| 1/1 [00:01<00:00,  1.91s/it]\n"
     ]
    },
    {
     "name": "stdout",
     "output_type": "stream",
     "text": [
      "ROC Performance\n",
      "Y1 - AUC: 0.589\n",
      "Y1 - Female TNR: 0.434\n",
      "Y1 - Female PNR: 0.547\n",
      "\n",
      "Y2 - AUC: 0.498\n",
      "Y2 - Female TNR: 0.423\n",
      "Y2 - Female PNR: 0.547\n",
      "\n",
      "YC - AUC: 0.586\n",
      "YC - Female TNR: 0.115\n",
      "YC - Female PNR: 0.547\n",
      "\n",
      "D - AUC: 0.966\n",
      "D - Female TNR: 0.956\n",
      "D - Female PNR: 0.547\n",
      "\n"
     ]
    }
   ],
   "source": [
    "f_H = BinaryMLP(**params)\n",
    "f_H = f_H.fit(cov_train, tar_train['D'], nur_train, platt_calibration = True)\n",
    "predictions_d = f_H.predict(cov_test)\n",
    "evaluate(predictions_d) "
   ]
  },
  {
   "cell_type": "markdown",
   "metadata": {},
   "source": [
    "This first model mimic the human decision. We measure the true negative rate and predicted rate in the protected group."
   ]
  },
  {
   "cell_type": "markdown",
   "metadata": {},
   "source": [
    "##### 2. Agreement computation \n",
    "\n",
    "Measure of agreement are estimated in a cross validation fashion on the train set."
   ]
  },
  {
   "cell_type": "code",
   "execution_count": 13,
   "metadata": {},
   "outputs": [
    {
     "name": "stderr",
     "output_type": "stream",
     "text": [
      "Loss: 0.252: 100%|██████████| 1/1 [00:01<00:00,  1.22s/it]\n",
      "Loss: 0.250: 100%|██████████| 1/1 [00:01<00:00,  1.19s/it]\n",
      "Loss: 0.256: 100%|██████████| 1/1 [00:01<00:00,  1.29s/it]\n"
     ]
    }
   ],
   "source": [
    "# Fold evaluation of influences\n",
    "folds, predictions, influence = influence_cv(BinaryMLP, cov_train, tar_train['D'], nur_train, params = params, l1_penalties = [0.001, 0.01, 0.1, 1])"
   ]
  },
  {
   "cell_type": "markdown",
   "metadata": {},
   "source": [
    "This step compute the influence of the training point in a cross validation fashion. One can then look at (per group)\n",
    "- Distribution of prediction\n",
    "- Distribution of influence"
   ]
  },
  {
   "cell_type": "code",
   "execution_count": 35,
   "metadata": {},
   "outputs": [
    {
     "name": "stderr",
     "output_type": "stream",
     "text": [
      "/tmp/ipykernel_7621/1816948343.py:2: FutureWarning: In a future version of pandas all arguments of concat except for the argument 'objs' will be keyword-only\n",
      "  sns.histplot(x ='f_H', hue = 'Group', data = pd.concat([cov_train.Group.replace({0: 'Male', 1: 'Female'}), pred_series], 1))\n"
     ]
    },
    {
     "data": {
      "text/plain": [
       "<AxesSubplot:xlabel='f_H', ylabel='Count'>"
      ]
     },
     "execution_count": 35,
     "metadata": {},
     "output_type": "execute_result"
    },
    {
     "data": {
      "image/png": "[encoded data removed]",
      "text/plain": [
       "<Figure size 432x288 with 1 Axes>"
      ]
     },
     "metadata": {},
     "output_type": "display_data"
    }
   ],
   "source": [
    "pred_series = pd.Series(predictions, index = cov_train.index, name = 'f_H')\n",
    "sns.histplot(x ='f_H', hue = 'Group', data = pd.concat([cov_train.Group.replace({0: 'Male', 1: 'Female'}), pred_series], 1))"
   ]
  },
  {
   "cell_type": "markdown",
   "metadata": {},
   "source": [
    "Unexplained group differences is sign that experts might be biased against one group. Nonetheless, user should take into account domain specific expertise as distribution might differ (e.g. breast cancer might impact male differently and the physician decision might reflect this difference)."
   ]
  },
  {
   "cell_type": "code",
   "execution_count": 51,
   "metadata": {},
   "outputs": [
    {
     "name": "stderr",
     "output_type": "stream",
     "text": [
      "/tmp/ipykernel_7621/3579979505.py:3: FutureWarning: In a future version of pandas all arguments of concat except for the argument 'objs' will be keyword-only\n",
      "  pd.concat([cov_train.Group.replace({0: 'Male', 1: 'Female'}), inf_series], 1).groupby('Group').mean().T.plot.scatter('Female', 'Male')\n",
      "*c* argument looks like a single numeric RGB or RGBA sequence, which should be avoided as value-mapping will have precedence in case its length matches with *x* & *y*.  Please use the *color* keyword-argument or provide a 2D array with a single row if you intend to specify the same RGB or RGBA value for all points.\n"
     ]
    },
    {
     "data": {
      "text/plain": [
       "<AxesSubplot:xlabel='Female', ylabel='Male'>"
      ]
     },
     "execution_count": 51,
     "metadata": {},
     "output_type": "execute_result"
    },
    {
     "data": {
      "image/png": "[encoded data removed]",
      "text/plain": [
       "<Figure size 432x288 with 1 Axes>"
      ]
     },
     "metadata": {},
     "output_type": "display_data"
    }
   ],
   "source": [
    "# Mean influence per group\n",
    "inf_series = pd.DataFrame(influence.T, index = cov_train.index)\n",
    "pd.concat([cov_train.Group.replace({0: 'Male', 1: 'Female'}), inf_series], 1).groupby('Group').mean().T.plot.scatter('Female', 'Male')"
   ]
  },
  {
   "cell_type": "markdown",
   "metadata": {},
   "source": [
    "Outliers in this plot represent expert who have a strong impact in a different direction than all other expert. "
   ]
  },
  {
   "cell_type": "code",
   "execution_count": 52,
   "metadata": {},
   "outputs": [],
   "source": [
    "# Compute metrics agreeability\n",
    "center_metric, opposing_metric = compute_agreeability(influence, predictions)"
   ]
  },
  {
   "cell_type": "code",
   "execution_count": 53,
   "metadata": {},
   "outputs": [],
   "source": [
    "# Analyze confident points\n",
    "delta = 0.05 # Control which point to consider from a confience point of view"
   ]
  },
  {
   "cell_type": "code",
   "execution_count": 57,
   "metadata": {},
   "outputs": [],
   "source": [
    "# Select points with high confidence\n",
    "high_conf = (predictions > (1 - delta)) | (predictions < delta)"
   ]
  },
  {
   "cell_type": "markdown",
   "metadata": {},
   "source": [
    "In the selected points, one can study the different metrics quantifying the consensus beteween expert obtained for each points."
   ]
  },
  {
   "cell_type": "code",
   "execution_count": 63,
   "metadata": {},
   "outputs": [
    {
     "name": "stderr",
     "output_type": "stream",
     "text": [
      "/tmp/ipykernel_7621/1424857866.py:2: FutureWarning: In a future version of pandas all arguments of concat except for the argument 'objs' will be keyword-only\n",
      "  sns.histplot(x ='m_1', hue = 'Group', data = pd.concat([cov_train.Group.replace({0: 'Male', 1: 'Female'}), m1_series], 1)[high_conf])\n"
     ]
    },
    {
     "data": {
      "text/plain": [
       "<AxesSubplot:xlabel='m_1', ylabel='Count'>"
      ]
     },
     "execution_count": 63,
     "metadata": {},
     "output_type": "execute_result"
    },
    {
     "data": {
      "image/png": "[encoded data removed]",
      "text/plain": [
       "<Figure size 432x288 with 1 Axes>"
      ]
     },
     "metadata": {},
     "output_type": "display_data"
    }
   ],
   "source": [
    "m1_series = pd.Series(center_metric, index = cov_train.index, name = 'm_1')\n",
    "sns.histplot(x ='m_1', hue = 'Group', data = pd.concat([cov_train.Group.replace({0: 'Male', 1: 'Female'}), m1_series], 1)[high_conf])"
   ]
  },
  {
   "cell_type": "markdown",
   "metadata": {},
   "source": [
    "This first metric measures the **center of mass**: *higher the value, more experts agrees*. In this scenario, note how the female distribution is shifted due to the bias of one expert. This shift indicates that less experts agree on this group. \n",
    "\n",
    "In this context choosing $\\gamma_1$ at 6 or 7 allows to capture a large amount of the agreement. "
   ]
  },
  {
   "cell_type": "code",
   "execution_count": 65,
   "metadata": {},
   "outputs": [
    {
     "name": "stderr",
     "output_type": "stream",
     "text": [
      "/tmp/ipykernel_7621/1572707156.py:2: FutureWarning: In a future version of pandas all arguments of concat except for the argument 'objs' will be keyword-only\n",
      "  sns.histplot(x ='m_2', hue = 'Group', data = pd.concat([cov_train.Group.replace({0: 'Male', 1: 'Female'}), m2_series], 1)[high_conf])\n"
     ]
    },
    {
     "data": {
      "text/plain": [
       "<AxesSubplot:xlabel='m_2', ylabel='Count'>"
      ]
     },
     "execution_count": 65,
     "metadata": {},
     "output_type": "execute_result"
    },
    {
     "data": {
      "image/png": "[encoded data removed]",
      "text/plain": [
       "<Figure size 432x288 with 1 Axes>"
      ]
     },
     "metadata": {},
     "output_type": "display_data"
    }
   ],
   "source": [
    "m2_series = pd.Series(opposing_metric, index = cov_train.index, name = 'm_2')\n",
    "sns.histplot(x ='m_2', hue = 'Group', data = pd.concat([cov_train.Group.replace({0: 'Male', 1: 'Female'}), m2_series], 1)[high_conf])"
   ]
  },
  {
   "cell_type": "markdown",
   "metadata": {},
   "source": [
    "This second metric measures how **aligned is the influence**: *larger it is, more expert are going in the same direction*.\n",
    "\n",
    "Here, the shift in the female distribution shows that a small set of expert is driving the decision for this group. To be conservative, one would want to correct for this non consensus, i.e. any threshold $\\gamma_2 > 0.4$ would ignore these points."
   ]
  },
  {
   "cell_type": "code",
   "execution_count": 69,
   "metadata": {},
   "outputs": [],
   "source": [
    "# Amalgation parameters choice\n",
    "pi_1 = 6 # Control criterion on centre mass metric\n",
    "pi_2 = 0.8 # Control criterion on opposing metric\n",
    "pi_3 = 0.002 # On flatness"
   ]
  },
  {
   "cell_type": "markdown",
   "metadata": {},
   "source": [
    "Following this choice, one can amalgamte the human decision and the observed outcome."
   ]
  },
  {
   "cell_type": "code",
   "execution_count": 67,
   "metadata": {},
   "outputs": [
    {
     "name": "stdout",
     "output_type": "stream",
     "text": [
      "This choice of parameters leads to an amalgamation of : 28.88 % of the data\n"
     ]
    }
   ],
   "source": [
    "# Apply criteria on amalgamation\n",
    "flat_influence = (np.abs(influence) > pi_3).sum(0) == 0\n",
    "high_agr = (((center_metric > pi_1) & (opposing_metric > pi_2)) | flat_influence) & high_conf\n",
    "high_agr_correct = ((predictions - tar_train['D']).abs() < delta) & high_agr\n",
    "print(\"This choice of parameters leads to an amalgamation of : {:.2f} % of the data\".format(100 * np.mean(high_agr_correct)))"
   ]
  },
  {
   "cell_type": "code",
   "execution_count": 68,
   "metadata": {},
   "outputs": [],
   "source": [
    "# Create amalgamated labels\n",
    "tar_train['Ya'] = tar_train['Y1'].astype(int) # Initialize as human decision\n",
    "tar_train.loc[high_agr_correct, 'Ya'] = tar_train['D'][high_agr_correct] # Change the point to amalgamate"
   ]
  },
  {
   "cell_type": "code",
   "execution_count": null,
   "metadata": {},
   "outputs": [
    {
     "name": "stdout",
     "output_type": "stream",
     "text": [
      "Use: 100.00 % of data\n"
     ]
    }
   ],
   "source": [
    "index_amalg = ((tar_train['D'] == 1) | high_agr_correct) if selective_labels else tar_train['D'].isin([0, 1]) # Retrain the model on the set of observed points\n",
    "print(\"Use: {:.2f} % of data\".format(100 * index_amalg.mean()))"
   ]
  },
  {
   "cell_type": "markdown",
   "metadata": {},
   "source": [
    "##### 3. Updated model"
   ]
  },
  {
   "cell_type": "code",
   "execution_count": null,
   "metadata": {},
   "outputs": [
    {
     "name": "stderr",
     "output_type": "stream",
     "text": [
      "Loss: 0.307: 100%|██████████| 10/10 [00:16<00:00,  1.69s/it]\n"
     ]
    },
    {
     "name": "stdout",
     "output_type": "stream",
     "text": [
      "ROC Performance\n",
      "Y1 - 0.638\n",
      "Y2 - 0.466\n",
      "YC - 0.604\n",
      "D - 0.947\n",
      "\n",
      "Predicted no risk - Group population\n",
      "Y1 - 0.871\n",
      "Y2 - 0.871\n",
      "YC - 0.871\n",
      "D - 0.871\n",
      "\n",
      "Real percentage - Group population\n",
      "Y1 - 0.303\n",
      "Y2 - 0.502\n",
      "YC - 0.079\n",
      "D - 0.954\n",
      "\n",
      "TNR - Group population\n",
      "Y1 - 0.320\n",
      "Y2 - 0.491\n",
      "YC - 0.082\n",
      "D - 0.955\n",
      "\n",
      "FNR - Group population\n",
      "Y1 - 4.595\n",
      "Y2 - 3.439\n",
      "YC - 6.207\n",
      "D - 0.306\n"
     ]
    }
   ],
   "source": [
    "f_A = BinaryMLP(**params)\n",
    "f_A = f_A.fit(cov_train[index_amalg], tar_train[index_amalg]['Ya'], nur_train[index_amalg])\n",
    "predictions_amal = f_A.predict(cov_test)\n",
    "evaluate(predictions_amal)"
   ]
  },
  {
   "cell_type": "markdown",
   "metadata": {},
   "source": [
    "##### 4. Train on observed data"
   ]
  },
  {
   "cell_type": "code",
   "execution_count": null,
   "metadata": {},
   "outputs": [],
   "source": [
    "index_observed = (tar_train['D'] == 1) if selective_labels else tar_train['D'].isin([0, 1])"
   ]
  },
  {
   "cell_type": "code",
   "execution_count": null,
   "metadata": {},
   "outputs": [
    {
     "name": "stderr",
     "output_type": "stream",
     "text": [
      "Loss: 0.390: 100%|██████████| 50/50 [01:50<00:00,  2.22s/it]"
     ]
    },
    {
     "name": "stdout",
     "output_type": "stream",
     "text": [
      "ROC Performance\n",
      "Y1 - 0.933\n",
      "Y2 - 0.261\n",
      "YC - 0.782\n",
      "D - 0.299\n"
     ]
    },
    {
     "name": "stderr",
     "output_type": "stream",
     "text": [
      "\n"
     ]
    }
   ],
   "source": [
    "f_Y = BinaryMLP(**params)\n",
    "f_Y = f_Y.fit(cov_train[index_observed], tar_train['Y1'][index_observed], nur_train[index_observed])\n",
    "predictions = f_Y.predict(cov_test)\n",
    "evaluate(predictions)"
   ]
  },
  {
   "cell_type": "markdown",
   "metadata": {},
   "source": [
    "-----------"
   ]
  },
  {
   "cell_type": "markdown",
   "metadata": {},
   "source": [
    "##### 5. Hybrid alternative\n",
    "\n",
    "- Leverage human model in the amalgamation set\n",
    "- Leverage outcome model on non amalgamation set\n",
    "\n",
    "Models need to be retrain on their respective subsets and calibrated to ensure to mix"
   ]
  },
  {
   "cell_type": "code",
   "execution_count": null,
   "metadata": {},
   "outputs": [],
   "source": [
    "predictions = predictions_d.copy()"
   ]
  },
  {
   "cell_type": "code",
   "execution_count": null,
   "metadata": {},
   "outputs": [
    {
     "name": "stderr",
     "output_type": "stream",
     "text": [
      "Loss: 0.521: 100%|██████████| 50/50 [01:50<00:00,  2.22s/it]\n"
     ]
    }
   ],
   "source": [
    "# Compute which test points are part of A for test set\n",
    "predictions_test, influence_test = influence_estimate(BinaryMLP, cov_train, tar_train['D'], nur_train, cov_test, params = params, l1_penalties = [0.001, 0.01, 0.1, 1])\n",
    "center_metric, opposing_metric = compute_agreeability(influence_test)\n",
    "flat_influence_test = (np.abs(influence_test) > pi_3).sum(0) == 0\n",
    "high_conf_test = (predictions_test > (1 - delta)) | (predictions_test < delta)\n",
    "high_agr_test = (((center_metric > pi_1) & (opposing_metric > pi_2)) | flat_influence_test) & high_conf_test\n",
    "high_agr_correct_test = ((predictions_test - tar_test['D']).abs() < delta) & high_agr_test"
   ]
  },
  {
   "cell_type": "code",
   "execution_count": null,
   "metadata": {},
   "outputs": [
    {
     "name": "stderr",
     "output_type": "stream",
     "text": [
      "Loss: 0.390: 100%|██████████| 50/50 [02:26<00:00,  2.93s/it]\n"
     ]
    },
    {
     "name": "stdout",
     "output_type": "stream",
     "text": [
      "ROC Performance\n",
      "Y1 - 0.618\n",
      "Y2 - 0.449\n",
      "YC - 0.759\n",
      "D - 0.467\n"
     ]
    }
   ],
   "source": [
    "# Retrain a model on non almagamation only and calibrate: Rely on observed\n",
    "f_hyb = BinaryMLP(**params)\n",
    "f_hyb = f_hyb.fit(cov_train[index_observed], tar_train['Y1'][index_observed], nur_train[index_observed], platt_calibration = True)\n",
    "predictions[~high_agr_correct_test] = f_hyb.predict(cov_test.loc[~high_agr_correct_test])\n",
    "evaluate(predictions)"
   ]
  }
 ],
 "metadata": {
  "interpreter": {
   "hash": "a54f3b3a447186e9a4a83057d2abe8df010acd7b8f131225203d307ef84eba48"
  },
  "kernelspec": {
   "display_name": "Python 3",
   "language": "python",
   "name": "python3"
  },
  "language_info": {
   "codemirror_mode": {
    "name": "ipython",
    "version": 3
   },
   "file_extension": ".py",
   "mimetype": "text/x-python",
   "name": "python",
   "nbconvert_exporter": "python",
   "pygments_lexer": "ipython3",
   "version": "3.9.7"
  }
 },
 "nbformat": 4,
 "nbformat_minor": 2
}

{
 "cells": [
  {
   "cell_type": "code",
   "execution_count": 1,
   "metadata": {},
   "outputs": [],
   "source": [
    "import sys\n",
    "sys.path.append('../')\n",
    "\n",
    "from model import *\n",
    "import pandas as pd\n",
    "from sklearn.metrics import roc_auc_score\n",
    "from sklearn.model_selection import train_test_split\n",
    "import pickle as pkl\n",
    "import matplotlib.pyplot as plt\n",
    "\n",
    "from utils_synthetic import *"
   ]
  },
  {
   "cell_type": "code",
   "execution_count": 2,
   "metadata": {},
   "outputs": [
    {
     "data": {
      "text/plain": [
       "'1.0.2'"
      ]
     },
     "execution_count": 2,
     "metadata": {},
     "output_type": "execute_result"
    }
   ],
   "source": [
    "import sklearn\n",
    "sklearn.__version__"
   ]
  },
  {
   "cell_type": "markdown",
   "metadata": {},
   "source": [
    "# Load child welfare synthetic data"
   ]
  },
  {
   "cell_type": "markdown",
   "metadata": {},
   "source": [
    "This notebook runs the analysis on the childwelfare data by leveraging experts' agreement\n",
    "1. Explore a model build on data ignoring experts \n",
    "2. Compute agreement between experts using influence function\n",
    "3. Retrain the model on the set of labels for which experts strongly agree\n",
    "\n",
    "The current analysis uses multi layer perceptrons in a single train / test split."
   ]
  },
  {
   "cell_type": "markdown",
   "metadata": {},
   "source": [
    "### Data"
   ]
  },
  {
   "cell_type": "markdown",
   "metadata": {},
   "source": [
    "Reopen the data created with the notebook in `data/`"
   ]
  },
  {
   "cell_type": "code",
   "execution_count": 3,
   "metadata": {},
   "outputs": [],
   "source": [
    "data_file = '../../../data/semi_synthetic/Data_semisynthetic_v1.pkl'"
   ]
  },
  {
   "cell_type": "code",
   "execution_count": 4,
   "metadata": {},
   "outputs": [],
   "source": [
    "with open(data_file, 'rb') as handle:\n",
    "    X,Y_1,Y_2,Y,D_0,refer_ids,screener_ids,coef_pred_y = pkl.load(handle)"
   ]
  },
  {
   "cell_type": "code",
   "execution_count": 5,
   "metadata": {},
   "outputs": [],
   "source": [
    "#drop instances if expert assessed a single case\n",
    "\n",
    "drop_experts = []\n",
    "for num in screener_ids:\n",
    "\n",
    "    if screener_ids.count(num) < 10:\n",
    "\n",
    "        drop_experts.append(num)"
   ]
  },
  {
   "cell_type": "code",
   "execution_count": 6,
   "metadata": {},
   "outputs": [],
   "source": [
    "drop_idx = []\n",
    "for index, elem in enumerate(screener_ids):\n",
    "    if elem in drop_experts:\n",
    "        drop_idx.append(index)"
   ]
  },
  {
   "cell_type": "code",
   "execution_count": 7,
   "metadata": {},
   "outputs": [],
   "source": [
    "X = np.delete(X,drop_idx,axis=0)\n",
    "Y_1 = np.delete(Y_1,drop_idx,axis=0)\n",
    "Y_2 = np.delete(Y_2,drop_idx,axis=0)\n",
    "Y = np.delete(Y,drop_idx,axis=0)\n",
    "D_0 = np.delete(D_0,drop_idx,axis=0)\n",
    "refer_ids = np.delete(refer_ids,drop_idx,axis=0)\n",
    "screener_ids = np.delete(screener_ids,drop_idx,axis=0)"
   ]
  },
  {
   "cell_type": "code",
   "execution_count": 8,
   "metadata": {},
   "outputs": [],
   "source": [
    "selective_labels = True\n",
    "#noise = True\n",
    "opb = True\n",
    "opb_blind = False\n",
    "\n",
    "unobservables = False\n",
    "unobs_k = 5 #number of unobsevables, k features with largest coefficient\n",
    "\n",
    "change_some_coef = False #resample some coefficients for each human?\n",
    "change_same = False\n",
    "n=44#how many coefficients to change if change_some_coef == True\n",
    "shared_bias = False\n",
    "bias_opposite = False #if shared_bias true, should the bias overestimate the importance of use it in the opposite direction?\n",
    "\n",
    "bias_assignment = False\n",
    "change_all_coef = False#resample all non-zero coefficients?\n",
    "\n",
    "random_if_not_good = False\n",
    "\n",
    "#If opb_out, modeled as a business rule?\n",
    "business_rule = False\n",
    "\n",
    "#selective labels? Do we only observe label when D=1?\n",
    "\n",
    "\n",
    "#HUMAN DECISIONS MODEL PARAMETERS\n",
    "\n",
    "rand = False #are decisions made by humans random?"
   ]
  },
  {
   "cell_type": "code",
   "execution_count": 9,
   "metadata": {},
   "outputs": [
    {
     "name": "stdout",
     "output_type": "stream",
     "text": [
      "0.17584906671067793\n",
      "-0.005476205209537613\n",
      "1.0158579746721639\n",
      "-0.13334347768524532\n",
      "0.07014955719172215\n",
      "0.3329449181487438\n",
      "-0.4086493273803663\n",
      "-0.3018175886512342\n",
      "0.09250516286156582\n",
      "-1.0031182711365132\n",
      "-0.3784776049719885\n",
      "0.19874481830162835\n",
      "-0.5468587407138282\n",
      "0.3529082087017505\n",
      "0.5670509311808631\n",
      "0.20859670722565707\n",
      "-0.12610547111967024\n",
      "0.08038419015972693\n",
      "0.5047070964236448\n",
      "0.010926227093504983\n",
      "-0.3106767793084854\n",
      "0.5577910711695088\n",
      "-0.7715301614859382\n",
      "-0.4529215392175088\n",
      "-0.4464027245647797\n",
      "0.11769069367302863\n",
      "1.0788170849786094\n",
      "-0.33291363606493224\n",
      "-0.6309321965791945\n",
      "-0.21311287432555168\n",
      "-0.028117872789295086\n",
      "0.49441764396169613\n",
      "-1.5880920094736304\n",
      "0.453017537826685\n",
      "0.453017537826685\n",
      "0.8816626547455296\n"
     ]
    }
   ],
   "source": [
    "if not opb:\n",
    "        Y = Y_1\n",
    "elif opb_blind and not business_rule:\n",
    "    Y = np.array([((Y_1[i]==1)&(D_0[i]==0)) for i in np.arange(len(Y_1))])\n",
    "    Y_2 = 1-D_0\n",
    "    logit = linear_model.LogisticRegression(penalty = 'l1', C=0.01, random_state=42, fit_intercept=False)\n",
    "    clf = logit.fit(X, Y)\n",
    "    Y_pred = clf.predict_proba(X)\n",
    "    fpr, tpr,thres = sklearn.metrics.roc_curve(Y, Y_pred[:,1])\n",
    "    roc_auc = sklearn.metrics.auc(fpr, tpr)\n",
    "    #print(roc_auc)\n",
    "    coef_pred_y = clf.coef_\n",
    "    #print(sum(coef_pred_y[0]!=0))\n",
    "    #plt.plot(fpr, tpr, color='darkorange',label='ROC curve (area = %0.2f)' % roc_auc)\n",
    "elif opb_blind and business_rule:\n",
    "    Y_2 = 1-D_0\n",
    "\n",
    "\n",
    "\n",
    "if unobservables: #delete one of the variables that receive a lot of weight\n",
    "    X_obs = np.delete(X,np.argsort(coef_pred_y[0])[-(unobs_k+2):-2],1)\n",
    "else:\n",
    "    X_obs = X\n",
    "\n",
    "if bias_assignment:\n",
    "    screener_ids = np.array(screener_ids)\n",
    "    screener_ids[X[:,-2] == max(X[:,-2])] = 'TNew'\n",
    "    screener_ids=list(screener_ids)\n",
    "\n",
    "screener_set = np.array([x for x in set(screener_ids) if str(x)!='nan'])\n",
    "\n",
    "D, alphas = decision_model(X, screener_ids, screener_set, coef_pred_y[0], change_coef = change_some_coef, change_same = change_same, change_all=change_all_coef, n=n,  shared_bias=shared_bias, rand= rand, bias_opposite=bias_opposite, bias_assignment= bias_assignment, random_if_not_good = random_if_not_good)\n",
    "\n",
    "if opb and opb_blind and business_rule:\n",
    "    D[D_0] = 0\n",
    "    Y[D_0] = 0\n",
    "\n",
    "#     with open('../../data/semi_synthetic/Y_human_'+setting+'.pkl', 'wb') as file:\n",
    "#         pkl.dump([X,Y_1,Y_2,Y,D_0,refer_ids,screener_ids,coef_pred_y,D],file)\n",
    "print(sum(D)/len(D))   \n",
    "print(sum(D==Y)/len(D)   )"
   ]
  },
  {
   "cell_type": "code",
   "execution_count": 10,
   "metadata": {},
   "outputs": [],
   "source": [
    "Y_2 = Y_2*1"
   ]
  },
  {
   "cell_type": "code",
   "execution_count": 11,
   "metadata": {},
   "outputs": [],
   "source": [
    "YC = [max(Y_1[i], Y_2[i]) for i in np.arange(len(Y_1))]"
   ]
  },
  {
   "cell_type": "code",
   "execution_count": 12,
   "metadata": {},
   "outputs": [],
   "source": [
    "target = pd.DataFrame({'D': D, 'Y1': Y_1, 'Y2': Y_2, 'YC': YC})"
   ]
  },
  {
   "cell_type": "code",
   "execution_count": 58,
   "metadata": {},
   "outputs": [
    {
     "name": "stdout",
     "output_type": "stream",
     "text": [
      "D!=Y1:  7480\n",
      "Y2!=Y1:  16276\n"
     ]
    }
   ],
   "source": [
    "print(\"D!=Y1: \",sum(target['D']!=target['Y1']))\n",
    "print(\"Y2!=Y1: \",sum(target['Y2']!=target['Y1']))"
   ]
  },
  {
   "cell_type": "code",
   "execution_count": 14,
   "metadata": {},
   "outputs": [],
   "source": [
    "\n",
    "#covariates, target, nurses = triage.drop(columns = ['D', 'Y1', 'Y2', 'YC', 'acuity', 'nurse']), triage[['D', 'Y1', 'Y2', 'YC']], triage['nurse']"
   ]
  },
  {
   "cell_type": "code",
   "execution_count": 15,
   "metadata": {},
   "outputs": [],
   "source": [
    "# ids_map = {}\n",
    "# screener_ids\n",
    "# for i in range(len(set(screener_ids))):\n",
    "#     ids_map[]"
   ]
  },
  {
   "cell_type": "code",
   "execution_count": 16,
   "metadata": {},
   "outputs": [],
   "source": [
    "#convert screener ids to integers\n",
    "#screener_ids = [int(i[2:]) for i in screener_ids]"
   ]
  },
  {
   "cell_type": "markdown",
   "metadata": {},
   "source": [
    "Split data in a 80% train, 20% test"
   ]
  },
  {
   "cell_type": "code",
   "execution_count": 17,
   "metadata": {},
   "outputs": [],
   "source": [
    "cov_train, cov_test, tar_train, tar_test, nur_train, nur_test = train_test_split(pd.DataFrame(X), target, pd.Series(screener_ids), test_size = 0.2, random_state = 42)"
   ]
  },
  {
   "cell_type": "markdown",
   "metadata": {},
   "source": [
    "### Modelling"
   ]
  },
  {
   "cell_type": "code",
   "execution_count": 18,
   "metadata": {},
   "outputs": [],
   "source": [
    "# Model's characteristics\n",
    "params = {'layers': []} # If = [] equivalent to a simple logistic regression\n",
    "\n",
    "# Amalgation parameters\n",
    "rho = 0.05 # Control which point to consider from a confience point of view\n",
    "pi_1 = 4.0 # Control criterion on centre mass metric\n",
    "pi_2 = 0.8 # Control criterion on opposing metric\n",
    "tau = 1.0  # Balance between observed and expert labels"
   ]
  },
  {
   "cell_type": "markdown",
   "metadata": {},
   "source": [
    "##### 1. Train on decision\n",
    "\n",
    "This model models the nurse decision based on covariates"
   ]
  },
  {
   "cell_type": "code",
   "execution_count": 19,
   "metadata": {},
   "outputs": [
    {
     "name": "stderr",
     "output_type": "stream",
     "text": [
      "Loss: 0.321: 100%|██████████| 1/1 [00:00<00:00,  2.22it/s]\n"
     ]
    }
   ],
   "source": [
    "for l1_penalty in [0.001, 0.01]:\n",
    "    try:\n",
    "        model = BinaryMLP(**params)\n",
    "        model = model.fit(cov_train, tar_train['D'], nur_train, l1_penalty = l1_penalty)\n",
    "        break\n",
    "    except Exception as e:\n",
    "        print(e, l1_penalty)\n",
    "        pass"
   ]
  },
  {
   "cell_type": "code",
   "execution_count": 20,
   "metadata": {},
   "outputs": [
    {
     "data": {
      "text/plain": [
       "0.9198839623361809"
      ]
     },
     "execution_count": 20,
     "metadata": {},
     "output_type": "execute_result"
    }
   ],
   "source": [
    "# Naive performance\n",
    "roc_auc_score(tar_test['Y1'], model.predict(cov_test))"
   ]
  },
  {
   "cell_type": "code",
   "execution_count": 21,
   "metadata": {},
   "outputs": [
    {
     "data": {
      "text/plain": [
       "0.8606763678171592"
      ]
     },
     "execution_count": 21,
     "metadata": {},
     "output_type": "execute_result"
    }
   ],
   "source": [
    "# Yc performance\n",
    "roc_auc_score(tar_test['Y2'], model.predict(cov_test))"
   ]
  },
  {
   "cell_type": "code",
   "execution_count": 22,
   "metadata": {},
   "outputs": [
    {
     "data": {
      "text/plain": [
       "0.9495581761886109"
      ]
     },
     "execution_count": 22,
     "metadata": {},
     "output_type": "execute_result"
    }
   ],
   "source": [
    "roc_auc_score(tar_test['YC'], model.predict(cov_test))"
   ]
  },
  {
   "cell_type": "code",
   "execution_count": 23,
   "metadata": {},
   "outputs": [
    {
     "data": {
      "text/plain": [
       "0.9598954104641586"
      ]
     },
     "execution_count": 23,
     "metadata": {},
     "output_type": "execute_result"
    }
   ],
   "source": [
    "roc_auc_score(tar_test['D'], model.predict(cov_test))"
   ]
  },
  {
   "cell_type": "markdown",
   "metadata": {},
   "source": [
    "##### 2. Agreement computation \n",
    "\n",
    "Measure of agreeability are estimated in a cross validation fashion on the train set."
   ]
  },
  {
   "cell_type": "code",
   "execution_count": 24,
   "metadata": {
    "scrolled": true
   },
   "outputs": [
    {
     "name": "stderr",
     "output_type": "stream",
     "text": [
      "Loss: 0.373: 100%|██████████| 1/1 [00:00<00:00,  3.17it/s]\n",
      "Loss: 0.366: 100%|██████████| 1/1 [00:00<00:00,  4.28it/s]\n",
      "Loss: 0.366: 100%|██████████| 1/1 [00:00<00:00,  3.98it/s]\n"
     ]
    }
   ],
   "source": [
    "# Fold evaluation of influences\n",
    "folds, predictions, influence = influence_cv(BinaryMLP, cov_train, tar_train['D'], nur_train, params = params)"
   ]
  },
  {
   "cell_type": "code",
   "execution_count": 25,
   "metadata": {},
   "outputs": [],
   "source": [
    "# Compute metrics agreeability\n",
    "center_metric, opposing_metric = compute_agreeability(influence)"
   ]
  },
  {
   "cell_type": "code",
   "execution_count": 26,
   "metadata": {},
   "outputs": [
    {
     "data": {
      "text/plain": [
       "<matplotlib.collections.PathCollection at 0x7fa1f9579650>"
      ]
     },
     "execution_count": 26,
     "metadata": {},
     "output_type": "execute_result"
    },
    {
     "data": {
      "image/png": "[encoded data removed]",
      "text/plain": [
       "<Figure size 432x288 with 1 Axes>"
      ]
     },
     "metadata": {
      "needs_background": "light"
     },
     "output_type": "display_data"
    }
   ],
   "source": [
    "import matplotlib.pyplot as plt\n",
    "plt.scatter(center_metric, opposing_metric)"
   ]
  },
  {
   "cell_type": "code",
   "execution_count": 27,
   "metadata": {},
   "outputs": [],
   "source": [
    "# Apply criteria on amalgamation\n",
    "high_conf = (predictions > (1 - rho)) | (predictions < rho)\n",
    "high_agr = (center_metric > pi_1) & (opposing_metric > pi_2) & high_conf\n",
    "high_agr_correct = ((predictions - tar_train['D']).abs() < rho) & high_agr"
   ]
  },
  {
   "cell_type": "code",
   "execution_count": 28,
   "metadata": {},
   "outputs": [
    {
     "data": {
      "text/plain": [
       "(array([12547.,  3584.,  2043.,  1565.,  1395.,  1427.,  1388.,  1704.,\n",
       "         2541.,  9028.]),\n",
       " array([0.01245681, 0.11037426, 0.20829172, 0.30620918, 0.40412663,\n",
       "        0.50204409, 0.59996155, 0.697879  , 0.79579646, 0.89371392,\n",
       "        0.99163137]),\n",
       " <a list of 10 Patch objects>)"
      ]
     },
     "execution_count": 28,
     "metadata": {},
     "output_type": "execute_result"
    },
    {
     "data": {
      "image/png": "[encoded data removed]",
      "text/plain": [
       "<Figure size 432x288 with 1 Axes>"
      ]
     },
     "metadata": {
      "needs_background": "light"
     },
     "output_type": "display_data"
    }
   ],
   "source": [
    "plt.hist(predictions)"
   ]
  },
  {
   "cell_type": "code",
   "execution_count": 29,
   "metadata": {},
   "outputs": [
    {
     "name": "stdout",
     "output_type": "stream",
     "text": [
      "high_conf: 13684\n",
      "high_agr: 7722\n",
      "high_agr_correct: 7671\n"
     ]
    }
   ],
   "source": [
    "print('high_conf:', sum(high_conf))\n",
    "print('high_agr:', sum(high_agr))\n",
    "print('high_agr_correct:', sum(high_agr_correct))"
   ]
  },
  {
   "cell_type": "code",
   "execution_count": 30,
   "metadata": {},
   "outputs": [
    {
     "data": {
      "text/plain": [
       "[<matplotlib.lines.Line2D at 0x7fa1f747b110>]"
      ]
     },
     "execution_count": 30,
     "metadata": {},
     "output_type": "execute_result"
    },
    {
     "data": {
      "image/png": "[encoded data removed]",
      "text/plain": [
       "<Figure size 432x288 with 1 Axes>"
      ]
     },
     "metadata": {
      "needs_background": "light"
     },
     "output_type": "display_data"
    }
   ],
   "source": [
    "from sklearn.calibration import calibration_curve\n",
    "prob_true, prob_pred = calibration_curve(tar_train['D'], predictions, n_bins=7)\n",
    "plt.plot(prob_true,prob_pred, marker='o', linewidth=1, label='logreg')\n"
   ]
  },
  {
   "cell_type": "code",
   "execution_count": 31,
   "metadata": {},
   "outputs": [
    {
     "name": "stderr",
     "output_type": "stream",
     "text": [
      "/zfsauton2/home/mdeartea/anaconda3/lib/python3.7/site-packages/ipykernel_launcher.py:4: SettingWithCopyWarning: \n",
      "A value is trying to be set on a copy of a slice from a DataFrame\n",
      "\n",
      "See the caveats in the documentation: https://pandas.pydata.org/pandas-docs/stable/user_guide/indexing.html#returning-a-view-versus-a-copy\n",
      "  after removing the cwd from sys.path.\n"
     ]
    }
   ],
   "source": [
    "# Create amalgamated labels\n",
    "tar_train['Ya'] = tar_train['Y1'].copy()\n",
    "tar_train['Ya'][high_agr_correct] = (1 - tau) * tar_train['Y1'][high_agr_correct] \\\n",
    "                                    + tau * tar_train['D'][high_agr_correct]"
   ]
  },
  {
   "cell_type": "code",
   "execution_count": 63,
   "metadata": {},
   "outputs": [
    {
     "data": {
      "text/plain": [
       "5987"
      ]
     },
     "execution_count": 63,
     "metadata": {},
     "output_type": "execute_result"
    }
   ],
   "source": [
    "sum(tar_train['D']!=tar_train['Y1'])"
   ]
  },
  {
   "cell_type": "code",
   "execution_count": 61,
   "metadata": {},
   "outputs": [
    {
     "data": {
      "text/plain": [
       "21884    0.0\n",
       "437      0.0\n",
       "15274    1.0\n",
       "15291    0.0\n",
       "29008    0.0\n",
       "        ... \n",
       "39188    0.0\n",
       "2433     0.0\n",
       "16023    0.0\n",
       "44732    0.0\n",
       "15795    1.0\n",
       "Name: Y1, Length: 7671, dtype: float64"
      ]
     },
     "execution_count": 61,
     "metadata": {},
     "output_type": "execute_result"
    }
   ],
   "source": [
    "tar_train['Y1'][high_agr_correct]"
   ]
  },
  {
   "cell_type": "code",
   "execution_count": 54,
   "metadata": {},
   "outputs": [
    {
     "data": {
      "text/plain": [
       "91"
      ]
     },
     "execution_count": 54,
     "metadata": {},
     "output_type": "execute_result"
    }
   ],
   "source": [
    "sum(tar_train['Ya']!=tar_train['Y1'])"
   ]
  },
  {
   "cell_type": "code",
   "execution_count": 38,
   "metadata": {},
   "outputs": [],
   "source": [
    "#index for selective labels\n",
    "index_amalg = [i==1.0 for i in tar_train['D']] | high_agr_correct"
   ]
  },
  {
   "cell_type": "code",
   "execution_count": 42,
   "metadata": {},
   "outputs": [
    {
     "data": {
      "text/plain": [
       "22979"
      ]
     },
     "execution_count": 42,
     "metadata": {},
     "output_type": "execute_result"
    }
   ],
   "source": []
  },
  {
   "cell_type": "markdown",
   "metadata": {},
   "source": [
    "##### 3. Updated model"
   ]
  },
  {
   "cell_type": "code",
   "execution_count": 43,
   "metadata": {},
   "outputs": [
    {
     "name": "stderr",
     "output_type": "stream",
     "text": [
      "Loss: 0.333: 100%|██████████| 1/1 [00:00<00:00,  4.77it/s]\n"
     ]
    }
   ],
   "source": [
    "#model with selective labels\n",
    "model = BinaryMLP(**params)\n",
    "model = model.fit(cov_train[index_amalg], tar_train[index_amalg]['Ya'], nur_train[index_amalg])"
   ]
  },
  {
   "cell_type": "code",
   "execution_count": 46,
   "metadata": {},
   "outputs": [
    {
     "name": "stderr",
     "output_type": "stream",
     "text": [
      "Loss: 0.328: 100%|██████████| 1/1 [00:00<00:00,  2.76it/s]\n"
     ]
    }
   ],
   "source": [
    "#model without selective labels\n",
    "model = BinaryMLP(**params)\n",
    "model = model.fit(cov_train, tar_train['Ya'], nur_train[index_amalg])"
   ]
  },
  {
   "cell_type": "code",
   "execution_count": 47,
   "metadata": {},
   "outputs": [
    {
     "data": {
      "text/plain": [
       "0.9537844218683099"
      ]
     },
     "execution_count": 47,
     "metadata": {},
     "output_type": "execute_result"
    }
   ],
   "source": [
    "# Naive performance\n",
    "roc_auc_score(tar_test['Y1'], model.predict(cov_test))"
   ]
  },
  {
   "cell_type": "code",
   "execution_count": 48,
   "metadata": {},
   "outputs": [
    {
     "data": {
      "text/plain": [
       "0.9336817562904519"
      ]
     },
     "execution_count": 48,
     "metadata": {},
     "output_type": "execute_result"
    }
   ],
   "source": [
    "# Yc performance\n",
    "roc_auc_score(tar_test['YC'],model.predict(cov_test))"
   ]
  },
  {
   "cell_type": "code",
   "execution_count": 49,
   "metadata": {},
   "outputs": [
    {
     "data": {
      "text/plain": [
       "0.7786067101520714"
      ]
     },
     "execution_count": 49,
     "metadata": {},
     "output_type": "execute_result"
    }
   ],
   "source": [
    "roc_auc_score(tar_test['Y2'],model.predict(cov_test))"
   ]
  },
  {
   "cell_type": "code",
   "execution_count": 50,
   "metadata": {},
   "outputs": [
    {
     "data": {
      "text/plain": [
       "0.9400366767318405"
      ]
     },
     "execution_count": 50,
     "metadata": {},
     "output_type": "execute_result"
    }
   ],
   "source": [
    "roc_auc_score(tar_test['D'],model.predict(cov_test))"
   ]
  },
  {
   "cell_type": "markdown",
   "metadata": {},
   "source": [
    "##### 4. Train on observed data"
   ]
  },
  {
   "cell_type": "code",
   "execution_count": 51,
   "metadata": {},
   "outputs": [
    {
     "name": "stderr",
     "output_type": "stream",
     "text": [
      "Loss: 0.329: 100%|██████████| 1/1 [00:00<00:00,  2.17it/s]\n"
     ]
    }
   ],
   "source": [
    "model = BinaryMLP(**params)\n",
    "model = model.fit(cov_train, tar_train['Y1'], nur_train)"
   ]
  },
  {
   "cell_type": "code",
   "execution_count": 52,
   "metadata": {},
   "outputs": [
    {
     "data": {
      "text/plain": [
       "0.9556428733969897"
      ]
     },
     "execution_count": 52,
     "metadata": {},
     "output_type": "execute_result"
    }
   ],
   "source": [
    "# Naive performance\n",
    "roc_auc_score(tar_test['Y1'], model.predict(cov_test))"
   ]
  },
  {
   "cell_type": "code",
   "execution_count": 53,
   "metadata": {},
   "outputs": [
    {
     "data": {
      "text/plain": [
       "0.9319276574711357"
      ]
     },
     "execution_count": 53,
     "metadata": {},
     "output_type": "execute_result"
    }
   ],
   "source": [
    "# Yc performance\n",
    "roc_auc_score(tar_test['YC'],model.predict(cov_test))"
   ]
  },
  {
   "cell_type": "code",
   "execution_count": 59,
   "metadata": {},
   "outputs": [
    {
     "data": {
      "text/plain": [
       "0.7723829355515714"
      ]
     },
     "execution_count": 59,
     "metadata": {},
     "output_type": "execute_result"
    }
   ],
   "source": [
    "roc_auc_score(tar_test['Y2'],model.predict(cov_test))"
   ]
  },
  {
   "cell_type": "code",
   "execution_count": null,
   "metadata": {},
   "outputs": [],
   "source": []
  }
 ],
 "metadata": {
  "interpreter": {
   "hash": "a54f3b3a447186e9a4a83057d2abe8df010acd7b8f131225203d307ef84eba48"
  },
  "kernelspec": {
   "display_name": "Python 3",
   "language": "python",
   "name": "python3"
  },
  "language_info": {
   "codemirror_mode": {
    "name": "ipython",
    "version": 3
   },
   "file_extension": ".py",
   "mimetype": "text/x-python",
   "name": "python",
   "nbconvert_exporter": "python",
   "pygments_lexer": "ipython3",
   "version": "3.7.6"
  }
 },
 "nbformat": 4,
 "nbformat_minor": 2
}

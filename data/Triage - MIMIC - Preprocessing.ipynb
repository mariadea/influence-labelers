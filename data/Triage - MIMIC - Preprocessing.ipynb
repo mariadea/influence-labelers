{
 "cells": [
  {
   "cell_type": "markdown",
   "metadata": {},
   "source": [
    "# Triage MIMIC - Emergency Department"
   ]
  },
  {
   "cell_type": "markdown",
   "metadata": {},
   "source": [
    "This analysis relies on the emergency data from the MIMIC IV dataset (Refer to https://physionet.org/content/mimic-iv-ed/1.0/ for the original dataset.) "
   ]
  },
  {
   "cell_type": "markdown",
   "metadata": {},
   "source": [
    "First, you need to download the data from Physionet website, following the instructions on the website.\n",
    "\n",
    "```\n",
    "wget -r -N -c -np --user USERNAME --ask-password https://physionet.org/files/mimic-iv-ed/1.0/  \n",
    "wget -r -N -c -np --user USERNAME --ask-password https://physionet.org/files/mimiciv/1.0/core/\n",
    "```\n",
    "\n",
    "This will result in a `physionet.org` folder in which the `ed` directory will contains all relevant data."
   ]
  },
  {
   "cell_type": "code",
   "execution_count": 1,
   "metadata": {},
   "outputs": [],
   "source": [
    "path = 'physionet.org/files/'"
   ]
  },
  {
   "cell_type": "markdown",
   "metadata": {},
   "source": [
    "##### Extract data of interest"
   ]
  },
  {
   "cell_type": "code",
   "execution_count": 2,
   "metadata": {},
   "outputs": [],
   "source": [
    "from sklearn.preprocessing import StandardScaler\n",
    "import pandas as pd\n",
    "import numpy as np\n",
    "import os"
   ]
  },
  {
   "cell_type": "code",
   "execution_count": 3,
   "metadata": {},
   "outputs": [],
   "source": [
    "# Open data\n",
    "demo = pd.read_csv(os.path.join(path, 'mimiciv/1.0/core/patients.csv.gz'), index_col = 0)\n",
    "triage = pd.read_csv(os.path.join(path, 'mimic-iv-ed/1.0/ed/triage.csv.gz'), index_col = [0, 1])\n",
    "ed = pd.read_csv(os.path.join(path, 'mimic-iv-ed/1.0/ed/edstays.csv.gz'), index_col = [0, 2], parse_dates = ['intime', 'outtime'])"
   ]
  },
  {
   "cell_type": "code",
   "execution_count": 4,
   "metadata": {},
   "outputs": [
    {
     "name": "stderr",
     "output_type": "stream",
     "text": [
      "/tmp/ipykernel_20231/1066841533.py:3: FutureWarning: In a future version of pandas all arguments of DataFrame.dropna will be keyword-only\n",
      "  triage = triage.dropna(0, 'any')\n"
     ]
    },
    {
     "data": {
      "text/html": [
       "<div>\n",
       "<style scoped>\n",
       "    .dataframe tbody tr th:only-of-type {\n",
       "        vertical-align: middle;\n",
       "    }\n",
       "\n",
       "    .dataframe tbody tr th {\n",
       "        vertical-align: top;\n",
       "    }\n",
       "\n",
       "    .dataframe thead th {\n",
       "        text-align: right;\n",
       "    }\n",
       "</style>\n",
       "<table border=\"1\" class=\"dataframe\">\n",
       "  <thead>\n",
       "    <tr style=\"text-align: right;\">\n",
       "      <th></th>\n",
       "      <th></th>\n",
       "      <th>temperature</th>\n",
       "      <th>heartrate</th>\n",
       "      <th>resprate</th>\n",
       "      <th>o2sat</th>\n",
       "      <th>sbp</th>\n",
       "      <th>dbp</th>\n",
       "      <th>pain</th>\n",
       "      <th>acuity</th>\n",
       "    </tr>\n",
       "    <tr>\n",
       "      <th>subject_id</th>\n",
       "      <th>stay_id</th>\n",
       "      <th></th>\n",
       "      <th></th>\n",
       "      <th></th>\n",
       "      <th></th>\n",
       "      <th></th>\n",
       "      <th></th>\n",
       "      <th></th>\n",
       "      <th></th>\n",
       "    </tr>\n",
       "  </thead>\n",
       "  <tbody>\n",
       "    <tr>\n",
       "      <th>15585360</th>\n",
       "      <th>37573921</th>\n",
       "      <td>97.0</td>\n",
       "      <td>87.0</td>\n",
       "      <td>18.0</td>\n",
       "      <td>100.0</td>\n",
       "      <td>150.0</td>\n",
       "      <td>71.0</td>\n",
       "      <td>10.0</td>\n",
       "      <td>3.0</td>\n",
       "    </tr>\n",
       "    <tr>\n",
       "      <th>15248757</th>\n",
       "      <th>32172727</th>\n",
       "      <td>97.1</td>\n",
       "      <td>112.0</td>\n",
       "      <td>20.0</td>\n",
       "      <td>100.0</td>\n",
       "      <td>147.0</td>\n",
       "      <td>97.0</td>\n",
       "      <td>8.0</td>\n",
       "      <td>4.0</td>\n",
       "    </tr>\n",
       "    <tr>\n",
       "      <th>16648037</th>\n",
       "      <th>38946064</th>\n",
       "      <td>98.5</td>\n",
       "      <td>59.0</td>\n",
       "      <td>18.0</td>\n",
       "      <td>99.0</td>\n",
       "      <td>160.0</td>\n",
       "      <td>86.0</td>\n",
       "      <td>2.0</td>\n",
       "      <td>2.0</td>\n",
       "    </tr>\n",
       "    <tr>\n",
       "      <th>13492931</th>\n",
       "      <th>39828574</th>\n",
       "      <td>100.6</td>\n",
       "      <td>90.0</td>\n",
       "      <td>16.0</td>\n",
       "      <td>96.0</td>\n",
       "      <td>107.0</td>\n",
       "      <td>55.0</td>\n",
       "      <td>0.0</td>\n",
       "      <td>3.0</td>\n",
       "    </tr>\n",
       "    <tr>\n",
       "      <th>11475777</th>\n",
       "      <th>38193311</th>\n",
       "      <td>97.1</td>\n",
       "      <td>85.0</td>\n",
       "      <td>16.0</td>\n",
       "      <td>100.0</td>\n",
       "      <td>138.0</td>\n",
       "      <td>86.0</td>\n",
       "      <td>7.0</td>\n",
       "      <td>3.0</td>\n",
       "    </tr>\n",
       "    <tr>\n",
       "      <th>...</th>\n",
       "      <th>...</th>\n",
       "      <td>...</td>\n",
       "      <td>...</td>\n",
       "      <td>...</td>\n",
       "      <td>...</td>\n",
       "      <td>...</td>\n",
       "      <td>...</td>\n",
       "      <td>...</td>\n",
       "      <td>...</td>\n",
       "    </tr>\n",
       "    <tr>\n",
       "      <th>15913671</th>\n",
       "      <th>35574167</th>\n",
       "      <td>98.0</td>\n",
       "      <td>82.0</td>\n",
       "      <td>15.0</td>\n",
       "      <td>98.0</td>\n",
       "      <td>127.0</td>\n",
       "      <td>86.0</td>\n",
       "      <td>8.0</td>\n",
       "      <td>3.0</td>\n",
       "    </tr>\n",
       "    <tr>\n",
       "      <th>14913519</th>\n",
       "      <th>33280070</th>\n",
       "      <td>97.1</td>\n",
       "      <td>104.0</td>\n",
       "      <td>18.0</td>\n",
       "      <td>97.0</td>\n",
       "      <td>90.0</td>\n",
       "      <td>57.0</td>\n",
       "      <td>0.0</td>\n",
       "      <td>2.0</td>\n",
       "    </tr>\n",
       "    <tr>\n",
       "      <th>13537748</th>\n",
       "      <th>39146222</th>\n",
       "      <td>97.1</td>\n",
       "      <td>56.0</td>\n",
       "      <td>20.0</td>\n",
       "      <td>100.0</td>\n",
       "      <td>177.0</td>\n",
       "      <td>92.0</td>\n",
       "      <td>6.0</td>\n",
       "      <td>2.0</td>\n",
       "    </tr>\n",
       "    <tr>\n",
       "      <th>15608541</th>\n",
       "      <th>39109339</th>\n",
       "      <td>97.6</td>\n",
       "      <td>92.0</td>\n",
       "      <td>18.0</td>\n",
       "      <td>98.0</td>\n",
       "      <td>197.0</td>\n",
       "      <td>73.0</td>\n",
       "      <td>0.0</td>\n",
       "      <td>4.0</td>\n",
       "    </tr>\n",
       "    <tr>\n",
       "      <th>15632852</th>\n",
       "      <th>37860864</th>\n",
       "      <td>98.2</td>\n",
       "      <td>115.0</td>\n",
       "      <td>18.0</td>\n",
       "      <td>100.0</td>\n",
       "      <td>124.0</td>\n",
       "      <td>68.0</td>\n",
       "      <td>0.0</td>\n",
       "      <td>3.0</td>\n",
       "    </tr>\n",
       "  </tbody>\n",
       "</table>\n",
       "<p>401136 rows × 8 columns</p>\n",
       "</div>"
      ],
      "text/plain": [
       "                     temperature  heartrate  resprate  o2sat    sbp   dbp  \\\n",
       "subject_id stay_id                                                          \n",
       "15585360   37573921         97.0       87.0      18.0  100.0  150.0  71.0   \n",
       "15248757   32172727         97.1      112.0      20.0  100.0  147.0  97.0   \n",
       "16648037   38946064         98.5       59.0      18.0   99.0  160.0  86.0   \n",
       "13492931   39828574        100.6       90.0      16.0   96.0  107.0  55.0   \n",
       "11475777   38193311         97.1       85.0      16.0  100.0  138.0  86.0   \n",
       "...                          ...        ...       ...    ...    ...   ...   \n",
       "15913671   35574167         98.0       82.0      15.0   98.0  127.0  86.0   \n",
       "14913519   33280070         97.1      104.0      18.0   97.0   90.0  57.0   \n",
       "13537748   39146222         97.1       56.0      20.0  100.0  177.0  92.0   \n",
       "15608541   39109339         97.6       92.0      18.0   98.0  197.0  73.0   \n",
       "15632852   37860864         98.2      115.0      18.0  100.0  124.0  68.0   \n",
       "\n",
       "                     pain  acuity  \n",
       "subject_id stay_id                 \n",
       "15585360   37573921  10.0     3.0  \n",
       "15248757   32172727   8.0     4.0  \n",
       "16648037   38946064   2.0     2.0  \n",
       "13492931   39828574   0.0     3.0  \n",
       "11475777   38193311   7.0     3.0  \n",
       "...                   ...     ...  \n",
       "15913671   35574167   8.0     3.0  \n",
       "14913519   33280070   0.0     2.0  \n",
       "13537748   39146222   6.0     2.0  \n",
       "15608541   39109339   0.0     4.0  \n",
       "15632852   37860864   0.0     3.0  \n",
       "\n",
       "[401136 rows x 8 columns]"
      ]
     },
     "execution_count": 4,
     "metadata": {},
     "output_type": "execute_result"
    }
   ],
   "source": [
    "# Remove unnecessary columns and datapoints with any missing data\n",
    "triage = triage.drop(columns = 'chiefcomplaint')\n",
    "triage = triage.dropna(0, 'any')\n",
    "triage"
   ]
  },
  {
   "cell_type": "code",
   "execution_count": 5,
   "metadata": {},
   "outputs": [],
   "source": [
    "# Nurse assignment\n",
    "# Expertise and tiredness might play a role here and we assign the day of admission as proxies of these dimensions\n",
    "triage['nurse'] = np.random.choice(np.arange(20), size = len(triage))"
   ]
  },
  {
   "cell_type": "code",
   "execution_count": 6,
   "metadata": {},
   "outputs": [],
   "source": [
    "# Outcome - Y1\n",
    "# Defined as admission to the hospital\n",
    "triage['Y1'] = ed.hadm_id.isna()[triage.index]"
   ]
  },
  {
   "cell_type": "code",
   "execution_count": 7,
   "metadata": {},
   "outputs": [],
   "source": [
    "# Outcome - Y2\n",
    "# Defined as acuity\n",
    "triage['Y2'] = (triage.join(demo).anchor_age > 65) | (triage['pain'] >= 7)"
   ]
  },
  {
   "cell_type": "code",
   "execution_count": 8,
   "metadata": {},
   "outputs": [],
   "source": [
    "# Concept - Yc\n",
    "# Yc is definied as the union of Y1 and Y2\n",
    "triage['YC'] = triage['Y1'] | triage['Y2']"
   ]
  },
  {
   "cell_type": "code",
   "execution_count": 9,
   "metadata": {},
   "outputs": [
    {
     "data": {
      "text/html": [
       "<div>\n",
       "<style scoped>\n",
       "    .dataframe tbody tr th:only-of-type {\n",
       "        vertical-align: middle;\n",
       "    }\n",
       "\n",
       "    .dataframe tbody tr th {\n",
       "        vertical-align: top;\n",
       "    }\n",
       "\n",
       "    .dataframe thead th {\n",
       "        text-align: right;\n",
       "    }\n",
       "</style>\n",
       "<table border=\"1\" class=\"dataframe\">\n",
       "  <thead>\n",
       "    <tr style=\"text-align: right;\">\n",
       "      <th></th>\n",
       "      <th></th>\n",
       "      <th>temperature</th>\n",
       "      <th>heartrate</th>\n",
       "      <th>resprate</th>\n",
       "      <th>o2sat</th>\n",
       "      <th>sbp</th>\n",
       "      <th>dbp</th>\n",
       "      <th>pain</th>\n",
       "      <th>acuity</th>\n",
       "      <th>nurse</th>\n",
       "      <th>Y1</th>\n",
       "      <th>Y2</th>\n",
       "      <th>YC</th>\n",
       "    </tr>\n",
       "    <tr>\n",
       "      <th>subject_id</th>\n",
       "      <th>stay_id</th>\n",
       "      <th></th>\n",
       "      <th></th>\n",
       "      <th></th>\n",
       "      <th></th>\n",
       "      <th></th>\n",
       "      <th></th>\n",
       "      <th></th>\n",
       "      <th></th>\n",
       "      <th></th>\n",
       "      <th></th>\n",
       "      <th></th>\n",
       "      <th></th>\n",
       "    </tr>\n",
       "  </thead>\n",
       "  <tbody>\n",
       "    <tr>\n",
       "      <th>15585360</th>\n",
       "      <th>37573921</th>\n",
       "      <td>-0.270143</td>\n",
       "      <td>0.118331</td>\n",
       "      <td>0.019424</td>\n",
       "      <td>0.088325</td>\n",
       "      <td>0.312013</td>\n",
       "      <td>-0.009545</td>\n",
       "      <td>1.377716</td>\n",
       "      <td>3.0</td>\n",
       "      <td>2</td>\n",
       "      <td>True</td>\n",
       "      <td>True</td>\n",
       "      <td>True</td>\n",
       "    </tr>\n",
       "    <tr>\n",
       "      <th>15248757</th>\n",
       "      <th>32172727</th>\n",
       "      <td>-0.243475</td>\n",
       "      <td>1.536710</td>\n",
       "      <td>0.106396</td>\n",
       "      <td>0.088325</td>\n",
       "      <td>0.248943</td>\n",
       "      <td>0.015027</td>\n",
       "      <td>0.883808</td>\n",
       "      <td>4.0</td>\n",
       "      <td>18</td>\n",
       "      <td>True</td>\n",
       "      <td>True</td>\n",
       "      <td>True</td>\n",
       "    </tr>\n",
       "    <tr>\n",
       "      <th>16648037</th>\n",
       "      <th>38946064</th>\n",
       "      <td>0.129869</td>\n",
       "      <td>-1.470253</td>\n",
       "      <td>0.019424</td>\n",
       "      <td>0.028974</td>\n",
       "      <td>0.522249</td>\n",
       "      <td>0.004631</td>\n",
       "      <td>-0.597917</td>\n",
       "      <td>2.0</td>\n",
       "      <td>9</td>\n",
       "      <td>True</td>\n",
       "      <td>False</td>\n",
       "      <td>True</td>\n",
       "    </tr>\n",
       "    <tr>\n",
       "      <th>13492931</th>\n",
       "      <th>39828574</th>\n",
       "      <td>0.689884</td>\n",
       "      <td>0.288537</td>\n",
       "      <td>-0.067549</td>\n",
       "      <td>-0.149079</td>\n",
       "      <td>-0.592002</td>\n",
       "      <td>-0.024667</td>\n",
       "      <td>-1.091826</td>\n",
       "      <td>3.0</td>\n",
       "      <td>17</td>\n",
       "      <td>False</td>\n",
       "      <td>False</td>\n",
       "      <td>False</td>\n",
       "    </tr>\n",
       "    <tr>\n",
       "      <th>11475777</th>\n",
       "      <th>38193311</th>\n",
       "      <td>-0.243475</td>\n",
       "      <td>0.004861</td>\n",
       "      <td>-0.067549</td>\n",
       "      <td>0.088325</td>\n",
       "      <td>0.059730</td>\n",
       "      <td>0.004631</td>\n",
       "      <td>0.636853</td>\n",
       "      <td>3.0</td>\n",
       "      <td>8</td>\n",
       "      <td>False</td>\n",
       "      <td>True</td>\n",
       "      <td>True</td>\n",
       "    </tr>\n",
       "    <tr>\n",
       "      <th>...</th>\n",
       "      <th>...</th>\n",
       "      <td>...</td>\n",
       "      <td>...</td>\n",
       "      <td>...</td>\n",
       "      <td>...</td>\n",
       "      <td>...</td>\n",
       "      <td>...</td>\n",
       "      <td>...</td>\n",
       "      <td>...</td>\n",
       "      <td>...</td>\n",
       "      <td>...</td>\n",
       "      <td>...</td>\n",
       "      <td>...</td>\n",
       "    </tr>\n",
       "    <tr>\n",
       "      <th>15913671</th>\n",
       "      <th>35574167</th>\n",
       "      <td>-0.003468</td>\n",
       "      <td>-0.165345</td>\n",
       "      <td>-0.111035</td>\n",
       "      <td>-0.030377</td>\n",
       "      <td>-0.171530</td>\n",
       "      <td>0.004631</td>\n",
       "      <td>0.883808</td>\n",
       "      <td>3.0</td>\n",
       "      <td>15</td>\n",
       "      <td>True</td>\n",
       "      <td>True</td>\n",
       "      <td>True</td>\n",
       "    </tr>\n",
       "    <tr>\n",
       "      <th>14913519</th>\n",
       "      <th>33280070</th>\n",
       "      <td>-0.243475</td>\n",
       "      <td>1.082829</td>\n",
       "      <td>0.019424</td>\n",
       "      <td>-0.089728</td>\n",
       "      <td>-0.949403</td>\n",
       "      <td>-0.022777</td>\n",
       "      <td>-1.091826</td>\n",
       "      <td>2.0</td>\n",
       "      <td>14</td>\n",
       "      <td>False</td>\n",
       "      <td>False</td>\n",
       "      <td>False</td>\n",
       "    </tr>\n",
       "    <tr>\n",
       "      <th>13537748</th>\n",
       "      <th>39146222</th>\n",
       "      <td>-0.243475</td>\n",
       "      <td>-1.640459</td>\n",
       "      <td>0.106396</td>\n",
       "      <td>0.088325</td>\n",
       "      <td>0.879651</td>\n",
       "      <td>0.010302</td>\n",
       "      <td>0.389899</td>\n",
       "      <td>2.0</td>\n",
       "      <td>7</td>\n",
       "      <td>True</td>\n",
       "      <td>False</td>\n",
       "      <td>True</td>\n",
       "    </tr>\n",
       "    <tr>\n",
       "      <th>15608541</th>\n",
       "      <th>39109339</th>\n",
       "      <td>-0.110138</td>\n",
       "      <td>0.402007</td>\n",
       "      <td>0.019424</td>\n",
       "      <td>-0.030377</td>\n",
       "      <td>1.300123</td>\n",
       "      <td>-0.007655</td>\n",
       "      <td>-1.091826</td>\n",
       "      <td>4.0</td>\n",
       "      <td>15</td>\n",
       "      <td>True</td>\n",
       "      <td>True</td>\n",
       "      <td>True</td>\n",
       "    </tr>\n",
       "    <tr>\n",
       "      <th>15632852</th>\n",
       "      <th>37860864</th>\n",
       "      <td>0.049866</td>\n",
       "      <td>1.706915</td>\n",
       "      <td>0.019424</td>\n",
       "      <td>0.088325</td>\n",
       "      <td>-0.234600</td>\n",
       "      <td>-0.012381</td>\n",
       "      <td>-1.091826</td>\n",
       "      <td>3.0</td>\n",
       "      <td>9</td>\n",
       "      <td>True</td>\n",
       "      <td>False</td>\n",
       "      <td>True</td>\n",
       "    </tr>\n",
       "  </tbody>\n",
       "</table>\n",
       "<p>401136 rows × 12 columns</p>\n",
       "</div>"
      ],
      "text/plain": [
       "                     temperature  heartrate  resprate     o2sat       sbp  \\\n",
       "subject_id stay_id                                                          \n",
       "15585360   37573921    -0.270143   0.118331  0.019424  0.088325  0.312013   \n",
       "15248757   32172727    -0.243475   1.536710  0.106396  0.088325  0.248943   \n",
       "16648037   38946064     0.129869  -1.470253  0.019424  0.028974  0.522249   \n",
       "13492931   39828574     0.689884   0.288537 -0.067549 -0.149079 -0.592002   \n",
       "11475777   38193311    -0.243475   0.004861 -0.067549  0.088325  0.059730   \n",
       "...                          ...        ...       ...       ...       ...   \n",
       "15913671   35574167    -0.003468  -0.165345 -0.111035 -0.030377 -0.171530   \n",
       "14913519   33280070    -0.243475   1.082829  0.019424 -0.089728 -0.949403   \n",
       "13537748   39146222    -0.243475  -1.640459  0.106396  0.088325  0.879651   \n",
       "15608541   39109339    -0.110138   0.402007  0.019424 -0.030377  1.300123   \n",
       "15632852   37860864     0.049866   1.706915  0.019424  0.088325 -0.234600   \n",
       "\n",
       "                          dbp      pain  acuity  nurse     Y1     Y2     YC  \n",
       "subject_id stay_id                                                           \n",
       "15585360   37573921 -0.009545  1.377716     3.0      2   True   True   True  \n",
       "15248757   32172727  0.015027  0.883808     4.0     18   True   True   True  \n",
       "16648037   38946064  0.004631 -0.597917     2.0      9   True  False   True  \n",
       "13492931   39828574 -0.024667 -1.091826     3.0     17  False  False  False  \n",
       "11475777   38193311  0.004631  0.636853     3.0      8  False   True   True  \n",
       "...                       ...       ...     ...    ...    ...    ...    ...  \n",
       "15913671   35574167  0.004631  0.883808     3.0     15   True   True   True  \n",
       "14913519   33280070 -0.022777 -1.091826     2.0     14  False  False  False  \n",
       "13537748   39146222  0.010302  0.389899     2.0      7   True  False   True  \n",
       "15608541   39109339 -0.007655 -1.091826     4.0     15   True   True   True  \n",
       "15632852   37860864 -0.012381 -1.091826     3.0      9   True  False   True  \n",
       "\n",
       "[401136 rows x 12 columns]"
      ]
     },
     "execution_count": 9,
     "metadata": {},
     "output_type": "execute_result"
    }
   ],
   "source": [
    "# Normalize data\n",
    "triage.iloc[:, :-5] = StandardScaler().fit_transform(triage.iloc[:, :-5])\n",
    "triage"
   ]
  },
  {
   "cell_type": "markdown",
   "metadata": {},
   "source": [
    "### Verification"
   ]
  },
  {
   "cell_type": "markdown",
   "metadata": {},
   "source": [
    "We study what proportion of the population have these characteristics."
   ]
  },
  {
   "cell_type": "code",
   "execution_count": 10,
   "metadata": {},
   "outputs": [
    {
     "data": {
      "text/plain": [
       "0     0.050078\n",
       "1     0.049512\n",
       "2     0.050093\n",
       "3     0.050148\n",
       "4     0.050422\n",
       "5     0.050728\n",
       "6     0.050108\n",
       "7     0.049876\n",
       "8     0.050125\n",
       "9     0.050569\n",
       "10    0.049470\n",
       "11    0.049696\n",
       "12    0.050302\n",
       "13    0.049938\n",
       "14    0.049956\n",
       "15    0.049651\n",
       "16    0.049644\n",
       "17    0.049906\n",
       "18    0.049577\n",
       "19    0.050202\n",
       "Name: nurse, dtype: float64"
      ]
     },
     "execution_count": 10,
     "metadata": {},
     "output_type": "execute_result"
    }
   ],
   "source": [
    "# Nurse assignment\n",
    "triage['nurse'].value_counts().sort_index() / len(triage)"
   ]
  },
  {
   "cell_type": "code",
   "execution_count": 11,
   "metadata": {},
   "outputs": [
    {
     "data": {
      "text/plain": [
       "0.5445559610705596"
      ]
     },
     "execution_count": 11,
     "metadata": {},
     "output_type": "execute_result"
    }
   ],
   "source": [
    "# Outcome - Y1\n",
    "triage['Y1'].mean()"
   ]
  },
  {
   "cell_type": "code",
   "execution_count": 12,
   "metadata": {},
   "outputs": [
    {
     "data": {
      "text/plain": [
       "0.5479064456942284"
      ]
     },
     "execution_count": 12,
     "metadata": {},
     "output_type": "execute_result"
    }
   ],
   "source": [
    "# Outcome - Y2\n",
    "triage['Y2'].mean()"
   ]
  },
  {
   "cell_type": "code",
   "execution_count": 13,
   "metadata": {},
   "outputs": [
    {
     "data": {
      "text/plain": [
       "0.8152596625583344"
      ]
     },
     "execution_count": 13,
     "metadata": {},
     "output_type": "execute_result"
    }
   ],
   "source": [
    "# Concept - Yc\n",
    "triage['YC'].mean()"
   ]
  },
  {
   "cell_type": "code",
   "execution_count": 14,
   "metadata": {},
   "outputs": [
    {
     "data": {
      "text/plain": [
       "0.5090436319189163"
      ]
     },
     "execution_count": 14,
     "metadata": {},
     "output_type": "execute_result"
    }
   ],
   "source": [
    "# Intersection Y1 and Y2\n",
    "(triage['Y1'] & triage['Y2']).sum() / min(triage['Y1'].sum(), triage['Y2'].sum())"
   ]
  },
  {
   "cell_type": "code",
   "execution_count": 15,
   "metadata": {},
   "outputs": [
    {
     "data": {
      "text/plain": [
       "0.6679540103354432"
      ]
     },
     "execution_count": 15,
     "metadata": {},
     "output_type": "execute_result"
    }
   ],
   "source": [
    "# Intersection Y1 concept\n",
    "(triage['Y1'] & triage['YC']).sum() / triage['YC'].sum()"
   ]
  },
  {
   "cell_type": "code",
   "execution_count": 16,
   "metadata": {},
   "outputs": [
    {
     "data": {
      "text/plain": [
       "0.6720637250405161"
      ]
     },
     "execution_count": 16,
     "metadata": {},
     "output_type": "execute_result"
    }
   ],
   "source": [
    "# Intersection Y2 concept\n",
    "(triage['Y2'] & triage['YC']).sum() / triage['YC'].sum()"
   ]
  },
  {
   "cell_type": "markdown",
   "metadata": {},
   "source": [
    "------------"
   ]
  },
  {
   "cell_type": "markdown",
   "metadata": {},
   "source": [
    "# Semi - synthetic labels for scenarios\n",
    "\n",
    "We create semi synthetic labels using tree-based models to allow more control on the consistency scenarios"
   ]
  },
  {
   "cell_type": "code",
   "execution_count": 17,
   "metadata": {},
   "outputs": [],
   "source": [
    "from sklearn.metrics import roc_auc_score, precision_score\n",
    "from sklearn.tree import DecisionTreeClassifier\n",
    "import numpy as np"
   ]
  },
  {
   "cell_type": "markdown",
   "metadata": {},
   "source": [
    "#### Scenario 1 : Random errors\n",
    "\n",
    "\n",
    "1. Build a tree to predict Y1\n",
    "2. Build a tree to predict Y2\n",
    "3. Update synthetic labels (Y1, Y2 and YC) to be the one predicted by trees\n",
    "4. Create a tree to predict YC (aim for high auc)\n",
    "5. Analyze each leaves and take the leaves with high precision for Y1 (> 70%)and low intersection with Y2 (< 30%)\n",
    "6. Randomly draw a label for 100 % of the value in these nodes\n",
    "7. Update D to be the updated labels"
   ]
  },
  {
   "cell_type": "code",
   "execution_count": 18,
   "metadata": {},
   "outputs": [],
   "source": [
    "triages1 = triage.copy().drop(columns = ['acuity', 'pain'])\n",
    "covariates = triages1.drop(columns = ['nurse', 'Y1', 'Y2', 'YC'])"
   ]
  },
  {
   "cell_type": "code",
   "execution_count": 19,
   "metadata": {},
   "outputs": [
    {
     "data": {
      "text/plain": [
       "0.7099558050771544"
      ]
     },
     "execution_count": 19,
     "metadata": {},
     "output_type": "execute_result"
    }
   ],
   "source": [
    "# 1 - Model for Y1\n",
    "model_y1 = DecisionTreeClassifier(max_depth = 15, random_state = 42)\n",
    "model_y1.fit(covariates, triages1['Y1'])\n",
    "synth_y1 = model_y1.predict_proba(covariates)[:, 1]\n",
    "roc_auc_score(triages1['Y1'], synth_y1)"
   ]
  },
  {
   "cell_type": "code",
   "execution_count": 20,
   "metadata": {},
   "outputs": [
    {
     "data": {
      "text/plain": [
       "0.6933491130541255"
      ]
     },
     "execution_count": 20,
     "metadata": {},
     "output_type": "execute_result"
    }
   ],
   "source": [
    "# 2 - Model for Y2\n",
    "model_y2 = DecisionTreeClassifier(max_depth = 15, random_state = 42)\n",
    "model_y2.fit(covariates, triages1['Y2'])\n",
    "synth_y2 = model_y2.predict_proba(covariates)[:, 1]\n",
    "roc_auc_score(triages1['Y2'], synth_y2)"
   ]
  },
  {
   "cell_type": "code",
   "execution_count": 21,
   "metadata": {},
   "outputs": [],
   "source": [
    "# 3 - Update labels\n",
    "triages1['Y1'] = synth_y1 > 0.5\n",
    "triages1['Y2'] = synth_y2 > 0.5\n",
    "triages1['YC'] = triages1['Y1'] | triages1['Y2']"
   ]
  },
  {
   "cell_type": "code",
   "execution_count": 22,
   "metadata": {},
   "outputs": [
    {
     "data": {
      "text/plain": [
       "0.9078503686285475"
      ]
     },
     "execution_count": 22,
     "metadata": {},
     "output_type": "execute_result"
    }
   ],
   "source": [
    "# 4 - Model for D : Use a model for Yc and chance some of the leaved decision\n",
    "model_yc = DecisionTreeClassifier(max_depth = 10, random_state = 42)\n",
    "model_yc.fit(covariates, triages1['YC'])\n",
    "synth_yc = model_yc.predict_proba(covariates)[:, 1]\n",
    "roc_auc_score(triages1['YC'], synth_yc)"
   ]
  },
  {
   "cell_type": "code",
   "execution_count": 23,
   "metadata": {},
   "outputs": [
    {
     "name": "stdout",
     "output_type": "stream",
     "text": [
      "Tree contains 943 leaves\n"
     ]
    }
   ],
   "source": [
    "# 5 - Analyse leaves\n",
    "final_leave_yc = model_yc.apply(covariates)\n",
    "print('Tree contains {} leaves'.format(len(np.unique(final_leave_yc))))\n",
    "\n",
    "## Select leaves\n",
    "leaves_to_update = triages1.groupby(final_leave_yc).apply(lambda leaf: (leaf['Y1'].mean() > 0.7) & ((leaf['Y1'] & leaf['Y2']).mean() < 0.3))\n",
    "leaves_to_update = leaves_to_update[leaves_to_update].index"
   ]
  },
  {
   "cell_type": "code",
   "execution_count": 24,
   "metadata": {},
   "outputs": [
    {
     "name": "stdout",
     "output_type": "stream",
     "text": [
      "33 leaves selected covering: 45.19 % of the population\n"
     ]
    }
   ],
   "source": [
    "# 6 - Randomly draw predictions\n",
    "print(\"{} leaves selected covering: {:.2f} % of the population\".format(len(leaves_to_update), 100*pd.Series(final_leave_yc).isin(leaves_to_update).mean()))\n",
    "synth_yc_sc1 = synth_yc.copy()\n",
    "\n",
    "# For 100 % draw a random label\n",
    "noise = np.random.uniform(size = len(final_leave_yc)) > 0.\n",
    "for leaf in leaves_to_update:\n",
    "    selection = (final_leave_yc == leaf) & noise\n",
    "    synth_yc_sc1[selection] = np.random.choice([0, 1], size = np.sum(selection))"
   ]
  },
  {
   "cell_type": "code",
   "execution_count": 25,
   "metadata": {},
   "outputs": [],
   "source": [
    "# 7 - Update D\n",
    "triages1['D'] = synth_yc_sc1 > 0.5\n",
    "triages1.to_csv('triage_scenario_1.csv')"
   ]
  },
  {
   "cell_type": "markdown",
   "metadata": {},
   "source": [
    "#### Scenario 2: Incorrect and homogeneous believes\n",
    "\n",
    "Instead of 6., the whole population had a 75 % bias, meaning that all selected leaves are predicted not(Y1)."
   ]
  },
  {
   "cell_type": "code",
   "execution_count": 27,
   "metadata": {},
   "outputs": [],
   "source": [
    "triages2 = triages1.copy()"
   ]
  },
  {
   "cell_type": "code",
   "execution_count": 28,
   "metadata": {},
   "outputs": [],
   "source": [
    "# 6ter - Bias 50 %\n",
    "synth_yc_sc2 = synth_yc.copy()\n",
    "\n",
    "## Selection of 50%\n",
    "np.random.seed(42)\n",
    "biased = np.random.uniform(size = len(triages2)) > .25\n",
    "\n",
    "# Reverse leaves\n",
    "selection = biased & pd.Series(final_leave_yc, index = triages2.index).isin(leaves_to_update)\n",
    "synth_yc_sc2[selection] = ~triages2.Y1[selection]"
   ]
  },
  {
   "cell_type": "code",
   "execution_count": 29,
   "metadata": {},
   "outputs": [],
   "source": [
    "# 7ter - Update D\n",
    "triages2['D'] = synth_yc_sc2 > 0.5\n",
    "triages2.to_csv('triage_scenario_2.csv')"
   ]
  },
  {
   "cell_type": "markdown",
   "metadata": {},
   "source": [
    "#### Scenario 3: Incorrect and heterogeneous believes\n",
    "\n",
    "Instead of 6., each nurse has different level of biases $X_{nurse}$ between 70% and 100 %, meaning that the nurse is predicting not(Y1) in these leaves for $X_{nurse}$% of the patients."
   ]
  },
  {
   "cell_type": "code",
   "execution_count": 30,
   "metadata": {},
   "outputs": [],
   "source": [
    "triages3 = triages1.copy()"
   ]
  },
  {
   "cell_type": "code",
   "execution_count": 31,
   "metadata": {},
   "outputs": [],
   "source": [
    "# 6bis - Draw different rate for each nurse and update accordingly\n",
    "for lower in [0.3, 0.5, 0.7]:\n",
    "    synth_yc_sc3 = synth_yc.copy()\n",
    "\n",
    "    ## Create nurse-specific noise\n",
    "    np.random.seed(42)\n",
    "    proba_error = lower + 0.3 * np.random.uniform(size = len(np.unique(triages3.nurse)))\n",
    "    noises = {nurse: np.random.uniform(size = len(triages3)) > proba_error[nurse] for nurse in np.unique(triages3.nurse)}\n",
    "\n",
    "    # Draw random label\n",
    "    selection = pd.Series(final_leave_yc, index = triages3.index).isin(leaves_to_update)\n",
    "    for nurse in noises:\n",
    "        selection_nurse = selection & noises[nurse] & (triages3.nurse == nurse)\n",
    "        synth_yc_sc3[selection_nurse] = ~triages3.Y1[selection_nurse]\n",
    "\n",
    "    # 7bis - Update D\n",
    "    triages3['D'] = synth_yc_sc3 > 0.5\n",
    "    triages3.to_csv('triage_scenario_3_{}.csv'.format(lower))"
   ]
  },
  {
   "cell_type": "markdown",
   "metadata": {},
   "source": [
    "#### Scenario 4: One nurse biased against one group\n",
    "\n",
    "Instead of 6., a nurse is biased against female patient\n",
    "\n",
    "1. Create group\n",
    "2. Biased nurse prediction by underestimating risk for all patients in the group for a given nurse"
   ]
  },
  {
   "cell_type": "code",
   "execution_count": 32,
   "metadata": {},
   "outputs": [],
   "source": [
    "triages4 = triages1.copy()"
   ]
  },
  {
   "cell_type": "code",
   "execution_count": 33,
   "metadata": {},
   "outputs": [],
   "source": [
    "# 1 - Create group\n",
    "triages4['Group'] = (triages4.join(demo.gender).gender == 'F').astype(int)"
   ]
  },
  {
   "cell_type": "code",
   "execution_count": 34,
   "metadata": {},
   "outputs": [
    {
     "name": "stderr",
     "output_type": "stream",
     "text": [
      "/tmp/ipykernel_20231/3204335475.py:3: SettingWithCopyWarning: \n",
      "A value is trying to be set on a copy of a slice from a DataFrame\n",
      "\n",
      "See the caveats in the documentation: https://pandas.pydata.org/pandas-docs/stable/user_guide/indexing.html#returning-a-view-versus-a-copy\n",
      "  triages4['D'][selection_nurse] = False\n"
     ]
    }
   ],
   "source": [
    "# 2 - Bias nurse 0\n",
    "selection_nurse = (triages4.Group == 1) & (triages4.nurse == 0)\n",
    "triages4['D'][selection_nurse] = False"
   ]
  },
  {
   "cell_type": "code",
   "execution_count": 35,
   "metadata": {},
   "outputs": [],
   "source": [
    "triages4.to_csv('triage_scenario_4.csv')"
   ]
  },
  {
   "cell_type": "markdown",
   "metadata": {},
   "source": [
    "#### Scenario 4': One nurse biased against one group\n",
    "\n",
    "Same as before but non random assignment (90 % female patients to this nurse)."
   ]
  },
  {
   "cell_type": "code",
   "execution_count": 46,
   "metadata": {},
   "outputs": [],
   "source": [
    "triages4bis = triages4.copy()"
   ]
  },
  {
   "cell_type": "code",
   "execution_count": 48,
   "metadata": {},
   "outputs": [
    {
     "name": "stderr",
     "output_type": "stream",
     "text": [
      "/tmp/ipykernel_20231/3853649909.py:7: SettingWithCopyWarning: \n",
      "A value is trying to be set on a copy of a slice from a DataFrame\n",
      "\n",
      "See the caveats in the documentation: https://pandas.pydata.org/pandas-docs/stable/user_guide/indexing.html#returning-a-view-versus-a-copy\n",
      "  triages4bis['D'][selection_nurse] = False\n"
     ]
    }
   ],
   "source": [
    "# 2 - Bias nurse 0\n",
    "np.random.seed(42)\n",
    "selection_nurse = (triages4bis.Group == 1) \n",
    "triages4bis.loc[selection_nurse.sample(frac = 0.9, replace = False).index] = 0\n",
    "\n",
    "selection_nurse = selection_nurse & (triages4bis.nurse == 0)\n",
    "triages4bis['D'][selection_nurse] = False"
   ]
  },
  {
   "cell_type": "code",
   "execution_count": 49,
   "metadata": {},
   "outputs": [],
   "source": [
    "triages4bis.to_csv('triage_scenario_4bis.csv')"
   ]
  },
  {
   "cell_type": "markdown",
   "metadata": {},
   "source": [
    "#### Scenario 5: Half of the nurses biased against one group\n",
    "\n",
    "Same than before but biased half nurses"
   ]
  },
  {
   "cell_type": "code",
   "execution_count": 36,
   "metadata": {},
   "outputs": [],
   "source": [
    "triages5 = triages4.copy()"
   ]
  },
  {
   "cell_type": "code",
   "execution_count": 37,
   "metadata": {},
   "outputs": [
    {
     "name": "stderr",
     "output_type": "stream",
     "text": [
      "/tmp/ipykernel_20231/2032868192.py:3: SettingWithCopyWarning: \n",
      "A value is trying to be set on a copy of a slice from a DataFrame\n",
      "\n",
      "See the caveats in the documentation: https://pandas.pydata.org/pandas-docs/stable/user_guide/indexing.html#returning-a-view-versus-a-copy\n",
      "  triages5['D'][selection_nurse] = False\n"
     ]
    }
   ],
   "source": [
    "# 2bis - Bias half nurses\n",
    "selection_nurse = (triages5.Group == 1) & (triages5.nurse < 10)\n",
    "triages5['D'][selection_nurse] = False"
   ]
  },
  {
   "cell_type": "code",
   "execution_count": 38,
   "metadata": {},
   "outputs": [],
   "source": [
    "triages5.to_csv('triage_scenario_5.csv')"
   ]
  },
  {
   "cell_type": "markdown",
   "metadata": {},
   "source": [
    "#### Scenario 6: All nurses biased against one group\n",
    "\n",
    "Same than before but all nurses biased"
   ]
  },
  {
   "cell_type": "code",
   "execution_count": 39,
   "metadata": {},
   "outputs": [],
   "source": [
    "triages6 = triages5.copy()"
   ]
  },
  {
   "cell_type": "code",
   "execution_count": 40,
   "metadata": {},
   "outputs": [
    {
     "name": "stderr",
     "output_type": "stream",
     "text": [
      "/tmp/ipykernel_20231/2340008215.py:2: SettingWithCopyWarning: \n",
      "A value is trying to be set on a copy of a slice from a DataFrame\n",
      "\n",
      "See the caveats in the documentation: https://pandas.pydata.org/pandas-docs/stable/user_guide/indexing.html#returning-a-view-versus-a-copy\n",
      "  triages6['D'][triages6.Group == 1] = False\n"
     ]
    }
   ],
   "source": [
    "# 2bis - Bias all nurses\n",
    "triages6['D'][triages6.Group == 1] = False"
   ]
  },
  {
   "cell_type": "code",
   "execution_count": 42,
   "metadata": {},
   "outputs": [],
   "source": [
    "triages6.to_csv('triage_scenario_6.csv')"
   ]
  },
  {
   "cell_type": "markdown",
   "metadata": {},
   "source": [
    "#### Scenario 7: All nurses 80% - biased against one group\n",
    "\n",
    "Same than before but all nurses 80% biased"
   ]
  },
  {
   "cell_type": "code",
   "execution_count": 43,
   "metadata": {},
   "outputs": [],
   "source": [
    "triages7 = triages6.copy()"
   ]
  },
  {
   "cell_type": "code",
   "execution_count": 44,
   "metadata": {},
   "outputs": [
    {
     "name": "stderr",
     "output_type": "stream",
     "text": [
      "/home/vincent/miniconda3/envs/Jupyter/lib/python3.9/site-packages/pandas/core/indexing.py:1732: SettingWithCopyWarning: \n",
      "A value is trying to be set on a copy of a slice from a DataFrame\n",
      "\n",
      "See the caveats in the documentation: https://pandas.pydata.org/pandas-docs/stable/user_guide/indexing.html#returning-a-view-versus-a-copy\n",
      "  self._setitem_single_block(indexer, value, name)\n"
     ]
    }
   ],
   "source": [
    "# 2bis - Bias all nurses\n",
    "group = triages6[triages6.Group == 1].sample(frac = 0.8, replace = False).index\n",
    "triages7['D'].loc[group] = False"
   ]
  },
  {
   "cell_type": "code",
   "execution_count": 45,
   "metadata": {},
   "outputs": [],
   "source": [
    "triages7.to_csv('triage_scenario_7.csv')"
   ]
  },
  {
   "cell_type": "code",
   "execution_count": null,
   "metadata": {},
   "outputs": [],
   "source": []
  }
 ],
 "metadata": {
  "interpreter": {
   "hash": "a54f3b3a447186e9a4a83057d2abe8df010acd7b8f131225203d307ef84eba48"
  },
  "kernelspec": {
   "display_name": "Python 3.9.7 ('Jupyter')",
   "language": "python",
   "name": "python3"
  },
  "language_info": {
   "codemirror_mode": {
    "name": "ipython",
    "version": 3
   },
   "file_extension": ".py",
   "mimetype": "text/x-python",
   "name": "python",
   "nbconvert_exporter": "python",
   "pygments_lexer": "ipython3",
   "version": "3.9.7"
  },
  "orig_nbformat": 4
 },
 "nbformat": 4,
 "nbformat_minor": 2
}

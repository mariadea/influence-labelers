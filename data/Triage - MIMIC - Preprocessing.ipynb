{
 "cells": [
  {
   "cell_type": "markdown",
   "metadata": {},
   "source": [
    "# Triage MIMIC - Emergency Department"
   ]
  },
  {
   "cell_type": "markdown",
   "metadata": {},
   "source": [
    "This analysis relies on the emergency data from the MIMIC IV dataset (Refer to https://physionet.org/content/mimic-iv-ed/1.0/ for the original dataset.) "
   ]
  },
  {
   "cell_type": "markdown",
   "metadata": {},
   "source": [
    "First, you need to download the data from Physionet website, following the instructions on the website.\n",
    "\n",
    "```\n",
    "wget -r -N -c -np --user USERNAME --ask-password https://physionet.org/files/mimic-iv-ed/1.0/  \n",
    "wget -r -N -c -np --user USERNAME --ask-password https://physionet.org/files/mimiciv/1.0/core/\n",
    "```\n",
    "\n",
    "This will result in a `physionet.org` folder in which the `ed` directory will contains all relevant data."
   ]
  },
  {
   "cell_type": "code",
   "execution_count": null,
   "metadata": {},
   "outputs": [],
   "source": [
    "path = 'physionet.org/files/'"
   ]
  },
  {
   "cell_type": "markdown",
   "metadata": {},
   "source": [
    "##### Extract data of interest"
   ]
  },
  {
   "cell_type": "code",
   "execution_count": null,
   "metadata": {},
   "outputs": [],
   "source": [
    "from sklearn.preprocessing import StandardScaler\n",
    "import pandas as pd\n",
    "import os"
   ]
  },
  {
   "cell_type": "code",
   "execution_count": null,
   "metadata": {},
   "outputs": [],
   "source": [
    "# Open data\n",
    "demo = pd.read_csv(os.path.join(path, 'mimiciv/1.0/core/patients.csv.gz'), index_col = 0)\n",
    "triage = pd.read_csv(os.path.join(path, 'mimic-iv-ed/1.0/ed/triage.csv.gz'), index_col = [0, 1])\n",
    "ed = pd.read_csv(os.path.join(path, 'mimic-iv-ed/1.0/ed/edstays.csv.gz'), index_col = [0, 2], parse_dates = ['intime', 'outtime'])"
   ]
  },
  {
   "cell_type": "code",
   "execution_count": null,
   "metadata": {},
   "outputs": [],
   "source": [
    "# Remove unnecessary columns and datapoints with any missing data\n",
    "triage = triage.drop(columns = 'chiefcomplaint')\n",
    "triage = triage.dropna(0, 'any')\n",
    "triage"
   ]
  },
  {
   "cell_type": "code",
   "execution_count": null,
   "metadata": {},
   "outputs": [],
   "source": [
    "# Nurse assignment\n",
    "# Expertise and tiredness might play a role here and we assign the day of admission as proxies of these dimensions\n",
    "triage['nurse'] = ed.intime.dt.day_of_week[triage.index]"
   ]
  },
  {
   "cell_type": "code",
   "execution_count": null,
   "metadata": {},
   "outputs": [],
   "source": [
    "# Acuity binarization - D\n",
    "# Human decision\n",
    "triage['D'] = triage['acuity'] <= 2"
   ]
  },
  {
   "cell_type": "code",
   "execution_count": null,
   "metadata": {},
   "outputs": [],
   "source": [
    "# Outcome - Y1\n",
    "# Defined as admission to the hospital\n",
    "triage['Y1'] = ed.hadm_id.isna()[triage.index]"
   ]
  },
  {
   "cell_type": "code",
   "execution_count": null,
   "metadata": {},
   "outputs": [],
   "source": [
    "# Outcome - Y2\n",
    "# Defined as abnormal vital signs using Emergency Severity Index\n",
    "triage['Y2'] = (triage.o2sat < 92) | (triage.resprate > 20) | (triage.heartrate > 100)"
   ]
  },
  {
   "cell_type": "code",
   "execution_count": null,
   "metadata": {},
   "outputs": [],
   "source": [
    "# Concept - Yc\n",
    "# Yc is definied as the union of Y1 and Y2\n",
    "triage['YC'] = triage['Y1'] | triage['Y2']"
   ]
  },
  {
   "cell_type": "code",
   "execution_count": null,
   "metadata": {},
   "outputs": [],
   "source": [
    "# Normalize data\n",
    "triage.iloc[:, :-5] = StandardScaler().fit_transform(triage.iloc[:, :-5])"
   ]
  },
  {
   "cell_type": "code",
   "execution_count": null,
   "metadata": {},
   "outputs": [],
   "source": [
    "triage.to_csv('triage_clean.csv')"
   ]
  },
  {
   "cell_type": "markdown",
   "metadata": {},
   "source": [
    "### Verification"
   ]
  },
  {
   "cell_type": "markdown",
   "metadata": {},
   "source": [
    "We study what proportion of the population have these characteristics."
   ]
  },
  {
   "cell_type": "code",
   "execution_count": null,
   "metadata": {},
   "outputs": [],
   "source": [
    "# Nurse assignment\n",
    "triage['nurse'].value_counts().sort_index() / len(triage)"
   ]
  },
  {
   "cell_type": "code",
   "execution_count": null,
   "metadata": {},
   "outputs": [],
   "source": [
    "# Human decision D - Acuity\n",
    "triage['D'].mean()"
   ]
  },
  {
   "cell_type": "code",
   "execution_count": null,
   "metadata": {},
   "outputs": [],
   "source": [
    "# Outcome - Y1\n",
    "triage['Y1'].mean()"
   ]
  },
  {
   "cell_type": "code",
   "execution_count": null,
   "metadata": {},
   "outputs": [],
   "source": [
    "# Outcome - Y2\n",
    "triage['Y2'].mean()"
   ]
  },
  {
   "cell_type": "code",
   "execution_count": null,
   "metadata": {},
   "outputs": [],
   "source": [
    "# Concept - Yc\n",
    "triage['YC'].mean()"
   ]
  },
  {
   "cell_type": "code",
   "execution_count": null,
   "metadata": {},
   "outputs": [],
   "source": [
    "# Intersection Y1 and Y2\n",
    "(triage['Y1'] & triage['Y2']).sum() / min(triage['Y1'].sum(), triage['Y2'].sum())"
   ]
  },
  {
   "cell_type": "code",
   "execution_count": null,
   "metadata": {},
   "outputs": [],
   "source": [
    "# Intersection Y1 concept\n",
    "(triage['Y1'] & triage['YC']).sum() / triage['YC'].sum()"
   ]
  },
  {
   "cell_type": "code",
   "execution_count": null,
   "metadata": {},
   "outputs": [],
   "source": [
    "# Intersection Y2 concept\n",
    "(triage['Y2'] & triage['YC']).sum() / triage['YC'].sum()"
   ]
  },
  {
   "cell_type": "code",
   "execution_count": null,
   "metadata": {},
   "outputs": [],
   "source": [
    "# Intersection D concept\n",
    "(triage['D'] & triage['YC']).sum() / triage['YC'].sum()"
   ]
  },
  {
   "cell_type": "code",
   "execution_count": null,
   "metadata": {},
   "outputs": [],
   "source": [
    "# Intersection D concept\n",
    "(triage['D'] & triage['Y1']).sum() / min(triage['Y1'].sum(), triage['D'].sum())"
   ]
  },
  {
   "cell_type": "code",
   "execution_count": null,
   "metadata": {},
   "outputs": [],
   "source": [
    "# Intersection D concept\n",
    "(triage['D'] & triage['Y2']).sum() / min(triage['Y2'].sum(), triage['D'].sum())"
   ]
  },
  {
   "cell_type": "markdown",
   "metadata": {},
   "source": [
    "----------"
   ]
  },
  {
   "cell_type": "markdown",
   "metadata": {},
   "source": [
    "# Semi - synthetic labels for scenarios\n",
    "\n",
    "We create semi synthetic labels using tree-based models to allow more control on the consistency scenarios"
   ]
  },
  {
   "cell_type": "code",
   "execution_count": null,
   "metadata": {},
   "outputs": [],
   "source": [
    "from sklearn.metrics import roc_auc_score, precision_score\n",
    "from sklearn.tree import DecisionTreeClassifier\n",
    "import numpy as np"
   ]
  },
  {
   "cell_type": "code",
   "execution_count": null,
   "metadata": {},
   "outputs": [],
   "source": [
    "# To exhibit the desired properties in the synthetic dataset \n",
    "## Have more (but random) nurses\n",
    "triage['nurse'] = np.random.choice(np.arange(20), size = len(triage))"
   ]
  },
  {
   "cell_type": "markdown",
   "metadata": {},
   "source": [
    "**Scenario 1**: One model for all experts and randomness in high consistency for Y1 (experts agree on Y2 and might therefore benefit YC modelling)"
   ]
  },
  {
   "cell_type": "code",
   "execution_count": null,
   "metadata": {},
   "outputs": [],
   "source": [
    "# Model for Y1\n",
    "model_y1 = DecisionTreeClassifier(max_depth = 15, random_state = 42)\n",
    "model_y1.fit(triage.iloc[:, :7], triage['Y1'])\n",
    "synth_y1 = model_y1.predict_proba(triage.iloc[:, :7])[:, 1]\n",
    "roc_auc_score(triage['Y1'], synth_y1)"
   ]
  },
  {
   "cell_type": "code",
   "execution_count": null,
   "metadata": {},
   "outputs": [],
   "source": [
    "# Model for Y2\n",
    "model_y2 = DecisionTreeClassifier(max_depth = 2, random_state = 42)\n",
    "model_y2.fit(triage.iloc[:, :7], triage['Y2'])\n",
    "synth_y2 = model_y2.predict_proba(triage.iloc[:, :7])[:, 1]\n",
    "roc_auc_score(triage['Y2'], synth_y2)"
   ]
  },
  {
   "cell_type": "code",
   "execution_count": null,
   "metadata": {},
   "outputs": [],
   "source": [
    "# Update labels\n",
    "triage['Y1'] = synth_y1 > 0.5\n",
    "triage['Y2'] = synth_y2 > 0.5\n",
    "triage['YC'] = triage['Y1'] | triage['Y2']"
   ]
  },
  {
   "cell_type": "code",
   "execution_count": null,
   "metadata": {},
   "outputs": [],
   "source": [
    "# Model for D : Use a model for Yc and chance some of the leaved decision\n",
    "model_yc = DecisionTreeClassifier(max_depth = 4, random_state = 42)\n",
    "model_yc.fit(triage.iloc[:, :7], triage['YC'])\n",
    "synth_yc = model_yc.predict_proba(triage.iloc[:, :7])[:, 1]\n",
    "roc_auc_score(triage['YC'], synth_yc)"
   ]
  },
  {
   "cell_type": "code",
   "execution_count": null,
   "metadata": {},
   "outputs": [],
   "source": [
    "# Compute last leaves of each point\n",
    "final_leave_yc = model_yc.apply(triage.iloc[:, :7])\n",
    "\n",
    "# Compute precision in Y2 for each leave\n",
    "for leaf in np.unique(final_leave_yc):\n",
    "    selection = final_leave_yc == leaf\n",
    "    print('\\n{} -> {} patients ({:.2f} % population)'.format(leaf, selection.sum(), 100*selection.mean()))\n",
    "    print('Y1 -> {:.2f} precision - {:.2f} % patients'.format(precision_score(triage['Y1'][selection], synth_yc[selection] > 0.5, zero_division = 0), 100*triage['Y1'][selection].mean()))\n",
    "    print('Y2 -> {:.2f} precision - {:.2f} % patients'.format(precision_score(triage['Y2'][selection], synth_yc[selection] > 0.5, zero_division = 0), 100*triage['Y2'][selection].mean()))"
   ]
  },
  {
   "cell_type": "code",
   "execution_count": null,
   "metadata": {},
   "outputs": [],
   "source": [
    "# Randomly change prediction for leaves with high precision for Y1\n",
    "leaves_to_update = [8, 16, 20, 21, 23, 24]\n",
    "synth_yc_sc1 = synth_yc.copy()\n",
    "\n",
    "noise = np.random.uniform(size = len(final_leave_yc)) > 0.3\n",
    "for leaf in leaves_to_update:\n",
    "    selection = final_leave_yc == leaf\n",
    "    synth_yc_sc1[selection & noise & triage.Y1] = 0\n",
    "    synth_yc_sc1[selection & noise & ~triage.Y1] = 1\n",
    "    print(leaf, np.mean(synth_yc_sc1[selection] > 0.5))"
   ]
  },
  {
   "cell_type": "code",
   "execution_count": null,
   "metadata": {},
   "outputs": [],
   "source": [
    "triage['D'] = synth_yc_sc1 > 0.5"
   ]
  },
  {
   "cell_type": "code",
   "execution_count": null,
   "metadata": {},
   "outputs": [],
   "source": [
    "triage.to_csv('triage_scenario_1.csv')"
   ]
  },
  {
   "cell_type": "markdown",
   "metadata": {},
   "source": [
    "**Scenario 2**: Non random assignment with bias. Older patients are assigned to one expert who is biased by underestimating their risk (D == 0)."
   ]
  },
  {
   "cell_type": "code",
   "execution_count": null,
   "metadata": {},
   "outputs": [],
   "source": [
    "triages2 = triage.copy()\n",
    "triages2['D'] = triages2['YC'] # Initialize close to oracle"
   ]
  },
  {
   "cell_type": "code",
   "execution_count": null,
   "metadata": {},
   "outputs": [],
   "source": [
    "age = triages2.join(demo).anchor_age\n",
    "triages2.loc[age > 70, 'nurse'] = 15 # Non random assignment with new nurse\n",
    "triages2.loc[age > 70, 'D'] = 0 "
   ]
  },
  {
   "cell_type": "code",
   "execution_count": null,
   "metadata": {},
   "outputs": [],
   "source": [
    "triages2.to_csv('triage_scenario_2.csv')"
   ]
  },
  {
   "cell_type": "markdown",
   "metadata": {},
   "source": [
    "**Scenario 4**: Noise dependent on experts. Different experts come with different expertise. We model this with expert-specific noise."
   ]
  },
  {
   "cell_type": "code",
   "execution_count": null,
   "metadata": {},
   "outputs": [],
   "source": [
    "proba_error = np.random.uniform(size = len(np.unique(triage.nurse)))\n",
    "noises = {nurse: np.random.uniform(size = len(triage)) > proba_error[nurse] for nurse in np.unique(triage.nurse)}"
   ]
  },
  {
   "cell_type": "code",
   "execution_count": null,
   "metadata": {},
   "outputs": [],
   "source": [
    "triages4 = triage.copy()"
   ]
  },
  {
   "cell_type": "code",
   "execution_count": null,
   "metadata": {},
   "outputs": [],
   "source": [
    "# Randomly change prediction for leaves with high precision for Y1\n",
    "synth_yc_sc4 = synth_yc.copy()\n",
    "\n",
    "for leaf in leaves_to_update:\n",
    "    selection = final_leave_yc == leaf\n",
    "\n",
    "    for nurse in noises:\n",
    "        selection_nurse = selection & noises[nurse] & (triage.nurse == nurse)\n",
    "        synth_yc_sc4[selection_nurse & triage.Y1] = 0\n",
    "        synth_yc_sc4[selection_nurse & ~triage.Y1] = 1\n",
    "        print(leaf, nurse, np.mean(synth_yc_sc4[selection_nurse] > 0.5))\n",
    "    print(leaf, np.mean(synth_yc_sc4[selection] > 0.5), '\\n')"
   ]
  },
  {
   "cell_type": "code",
   "execution_count": null,
   "metadata": {},
   "outputs": [],
   "source": [
    "triage['D'] = synth_yc_sc4 > 0.5"
   ]
  },
  {
   "cell_type": "code",
   "execution_count": null,
   "metadata": {},
   "outputs": [],
   "source": [
    "triages4.to_csv('triage_scenario_4.csv')"
   ]
  },
  {
   "cell_type": "code",
   "execution_count": null,
   "metadata": {},
   "outputs": [],
   "source": []
  }
 ],
 "metadata": {
  "interpreter": {
   "hash": "a54f3b3a447186e9a4a83057d2abe8df010acd7b8f131225203d307ef84eba48"
  },
  "kernelspec": {
   "display_name": "Python 3.9.7 ('Jupyter')",
   "language": "python",
   "name": "python3"
  },
  "language_info": {
   "codemirror_mode": {
    "name": "ipython",
    "version": 3
   },
   "file_extension": ".py",
   "mimetype": "text/x-python",
   "name": "python",
   "nbconvert_exporter": "python",
   "pygments_lexer": "ipython3",
   "version": "3.9.7"
  },
  "orig_nbformat": 4
 },
 "nbformat": 4,
 "nbformat_minor": 2
}

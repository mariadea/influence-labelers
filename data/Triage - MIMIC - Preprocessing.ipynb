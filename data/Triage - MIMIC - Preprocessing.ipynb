{
 "cells": [
  {
   "cell_type": "markdown",
   "metadata": {},
   "source": [
    "# Triage MIMIC - Emergency Department"
   ]
  },
  {
   "cell_type": "markdown",
   "metadata": {},
   "source": [
    "This analysis relies on the emergency data from the MIMIC IV dataset (Refer to https://physionet.org/content/mimic-iv-ed/1.0/ for the original dataset.) "
   ]
  },
  {
   "cell_type": "markdown",
   "metadata": {},
   "source": [
    "First, you need to download the data from Physionet website, following the instructions on the website.\n",
    "\n",
    "```\n",
    "wget -r -N -c -np --user USERNAME --ask-password https://physionet.org/files/mimic-iv-ed/1.0/  \n",
    "wget -r -N -c -np --user USERNAME --ask-password https://physionet.org/files/mimiciv/1.0/core/\n",
    "```\n",
    "\n",
    "This will result in a `physionet.org` folder in which the `ed` directory will contains all relevant data."
   ]
  },
  {
   "cell_type": "code",
   "execution_count": 1,
   "metadata": {},
   "outputs": [],
   "source": [
    "path = 'physionet.org/files/'"
   ]
  },
  {
   "cell_type": "markdown",
   "metadata": {},
   "source": [
    "##### Extract data of interest"
   ]
  },
  {
   "cell_type": "code",
   "execution_count": 2,
   "metadata": {},
   "outputs": [],
   "source": [
    "from sklearn.preprocessing import StandardScaler\n",
    "import pandas as pd\n",
    "import os"
   ]
  },
  {
   "cell_type": "code",
   "execution_count": 3,
   "metadata": {},
   "outputs": [],
   "source": [
    "# Open data\n",
    "demo = pd.read_csv(os.path.join(path, 'mimiciv/1.0/core/patients.csv.gz'), index_col = 0)\n",
    "triage = pd.read_csv(os.path.join(path, 'mimic-iv-ed/1.0/ed/triage.csv.gz'), index_col = [0, 1])\n",
    "ed = pd.read_csv(os.path.join(path, 'mimic-iv-ed/1.0/ed/edstays.csv.gz'), index_col = [0, 2], parse_dates = ['intime', 'outtime'])"
   ]
  },
  {
   "cell_type": "code",
   "execution_count": 4,
   "metadata": {},
   "outputs": [
    {
     "name": "stderr",
     "output_type": "stream",
     "text": [
      "/tmp/ipykernel_24811/1066841533.py:3: FutureWarning: In a future version of pandas all arguments of DataFrame.dropna will be keyword-only\n",
      "  triage = triage.dropna(0, 'any')\n"
     ]
    },
    {
     "data": {
      "text/html": [
       "<div>\n",
       "<style scoped>\n",
       "    .dataframe tbody tr th:only-of-type {\n",
       "        vertical-align: middle;\n",
       "    }\n",
       "\n",
       "    .dataframe tbody tr th {\n",
       "        vertical-align: top;\n",
       "    }\n",
       "\n",
       "    .dataframe thead th {\n",
       "        text-align: right;\n",
       "    }\n",
       "</style>\n",
       "<table border=\"1\" class=\"dataframe\">\n",
       "  <thead>\n",
       "    <tr style=\"text-align: right;\">\n",
       "      <th></th>\n",
       "      <th></th>\n",
       "      <th>temperature</th>\n",
       "      <th>heartrate</th>\n",
       "      <th>resprate</th>\n",
       "      <th>o2sat</th>\n",
       "      <th>sbp</th>\n",
       "      <th>dbp</th>\n",
       "      <th>pain</th>\n",
       "      <th>acuity</th>\n",
       "    </tr>\n",
       "    <tr>\n",
       "      <th>subject_id</th>\n",
       "      <th>stay_id</th>\n",
       "      <th></th>\n",
       "      <th></th>\n",
       "      <th></th>\n",
       "      <th></th>\n",
       "      <th></th>\n",
       "      <th></th>\n",
       "      <th></th>\n",
       "      <th></th>\n",
       "    </tr>\n",
       "  </thead>\n",
       "  <tbody>\n",
       "    <tr>\n",
       "      <th>15585360</th>\n",
       "      <th>37573921</th>\n",
       "      <td>97.0</td>\n",
       "      <td>87.0</td>\n",
       "      <td>18.0</td>\n",
       "      <td>100.0</td>\n",
       "      <td>150.0</td>\n",
       "      <td>71.0</td>\n",
       "      <td>10.0</td>\n",
       "      <td>3.0</td>\n",
       "    </tr>\n",
       "    <tr>\n",
       "      <th>15248757</th>\n",
       "      <th>32172727</th>\n",
       "      <td>97.1</td>\n",
       "      <td>112.0</td>\n",
       "      <td>20.0</td>\n",
       "      <td>100.0</td>\n",
       "      <td>147.0</td>\n",
       "      <td>97.0</td>\n",
       "      <td>8.0</td>\n",
       "      <td>4.0</td>\n",
       "    </tr>\n",
       "    <tr>\n",
       "      <th>16648037</th>\n",
       "      <th>38946064</th>\n",
       "      <td>98.5</td>\n",
       "      <td>59.0</td>\n",
       "      <td>18.0</td>\n",
       "      <td>99.0</td>\n",
       "      <td>160.0</td>\n",
       "      <td>86.0</td>\n",
       "      <td>2.0</td>\n",
       "      <td>2.0</td>\n",
       "    </tr>\n",
       "    <tr>\n",
       "      <th>13492931</th>\n",
       "      <th>39828574</th>\n",
       "      <td>100.6</td>\n",
       "      <td>90.0</td>\n",
       "      <td>16.0</td>\n",
       "      <td>96.0</td>\n",
       "      <td>107.0</td>\n",
       "      <td>55.0</td>\n",
       "      <td>0.0</td>\n",
       "      <td>3.0</td>\n",
       "    </tr>\n",
       "    <tr>\n",
       "      <th>11475777</th>\n",
       "      <th>38193311</th>\n",
       "      <td>97.1</td>\n",
       "      <td>85.0</td>\n",
       "      <td>16.0</td>\n",
       "      <td>100.0</td>\n",
       "      <td>138.0</td>\n",
       "      <td>86.0</td>\n",
       "      <td>7.0</td>\n",
       "      <td>3.0</td>\n",
       "    </tr>\n",
       "    <tr>\n",
       "      <th>...</th>\n",
       "      <th>...</th>\n",
       "      <td>...</td>\n",
       "      <td>...</td>\n",
       "      <td>...</td>\n",
       "      <td>...</td>\n",
       "      <td>...</td>\n",
       "      <td>...</td>\n",
       "      <td>...</td>\n",
       "      <td>...</td>\n",
       "    </tr>\n",
       "    <tr>\n",
       "      <th>15913671</th>\n",
       "      <th>35574167</th>\n",
       "      <td>98.0</td>\n",
       "      <td>82.0</td>\n",
       "      <td>15.0</td>\n",
       "      <td>98.0</td>\n",
       "      <td>127.0</td>\n",
       "      <td>86.0</td>\n",
       "      <td>8.0</td>\n",
       "      <td>3.0</td>\n",
       "    </tr>\n",
       "    <tr>\n",
       "      <th>14913519</th>\n",
       "      <th>33280070</th>\n",
       "      <td>97.1</td>\n",
       "      <td>104.0</td>\n",
       "      <td>18.0</td>\n",
       "      <td>97.0</td>\n",
       "      <td>90.0</td>\n",
       "      <td>57.0</td>\n",
       "      <td>0.0</td>\n",
       "      <td>2.0</td>\n",
       "    </tr>\n",
       "    <tr>\n",
       "      <th>13537748</th>\n",
       "      <th>39146222</th>\n",
       "      <td>97.1</td>\n",
       "      <td>56.0</td>\n",
       "      <td>20.0</td>\n",
       "      <td>100.0</td>\n",
       "      <td>177.0</td>\n",
       "      <td>92.0</td>\n",
       "      <td>6.0</td>\n",
       "      <td>2.0</td>\n",
       "    </tr>\n",
       "    <tr>\n",
       "      <th>15608541</th>\n",
       "      <th>39109339</th>\n",
       "      <td>97.6</td>\n",
       "      <td>92.0</td>\n",
       "      <td>18.0</td>\n",
       "      <td>98.0</td>\n",
       "      <td>197.0</td>\n",
       "      <td>73.0</td>\n",
       "      <td>0.0</td>\n",
       "      <td>4.0</td>\n",
       "    </tr>\n",
       "    <tr>\n",
       "      <th>15632852</th>\n",
       "      <th>37860864</th>\n",
       "      <td>98.2</td>\n",
       "      <td>115.0</td>\n",
       "      <td>18.0</td>\n",
       "      <td>100.0</td>\n",
       "      <td>124.0</td>\n",
       "      <td>68.0</td>\n",
       "      <td>0.0</td>\n",
       "      <td>3.0</td>\n",
       "    </tr>\n",
       "  </tbody>\n",
       "</table>\n",
       "<p>401136 rows × 8 columns</p>\n",
       "</div>"
      ],
      "text/plain": [
       "                     temperature  heartrate  resprate  o2sat    sbp   dbp  \\\n",
       "subject_id stay_id                                                          \n",
       "15585360   37573921         97.0       87.0      18.0  100.0  150.0  71.0   \n",
       "15248757   32172727         97.1      112.0      20.0  100.0  147.0  97.0   \n",
       "16648037   38946064         98.5       59.0      18.0   99.0  160.0  86.0   \n",
       "13492931   39828574        100.6       90.0      16.0   96.0  107.0  55.0   \n",
       "11475777   38193311         97.1       85.0      16.0  100.0  138.0  86.0   \n",
       "...                          ...        ...       ...    ...    ...   ...   \n",
       "15913671   35574167         98.0       82.0      15.0   98.0  127.0  86.0   \n",
       "14913519   33280070         97.1      104.0      18.0   97.0   90.0  57.0   \n",
       "13537748   39146222         97.1       56.0      20.0  100.0  177.0  92.0   \n",
       "15608541   39109339         97.6       92.0      18.0   98.0  197.0  73.0   \n",
       "15632852   37860864         98.2      115.0      18.0  100.0  124.0  68.0   \n",
       "\n",
       "                     pain  acuity  \n",
       "subject_id stay_id                 \n",
       "15585360   37573921  10.0     3.0  \n",
       "15248757   32172727   8.0     4.0  \n",
       "16648037   38946064   2.0     2.0  \n",
       "13492931   39828574   0.0     3.0  \n",
       "11475777   38193311   7.0     3.0  \n",
       "...                   ...     ...  \n",
       "15913671   35574167   8.0     3.0  \n",
       "14913519   33280070   0.0     2.0  \n",
       "13537748   39146222   6.0     2.0  \n",
       "15608541   39109339   0.0     4.0  \n",
       "15632852   37860864   0.0     3.0  \n",
       "\n",
       "[401136 rows x 8 columns]"
      ]
     },
     "execution_count": 4,
     "metadata": {},
     "output_type": "execute_result"
    }
   ],
   "source": [
    "# Remove unnecessary columns and datapoints with any missing data\n",
    "triage = triage.drop(columns = 'chiefcomplaint')\n",
    "triage = triage.dropna(0, 'any')\n",
    "triage"
   ]
  },
  {
   "cell_type": "code",
   "execution_count": 5,
   "metadata": {},
   "outputs": [],
   "source": [
    "# Nurse assignment\n",
    "# Expertise and tiredness might play a role here and we assign the day of admission as proxies of these dimensions\n",
    "triage['nurse'] = ed.intime.dt.day_of_week[triage.index]"
   ]
  },
  {
   "cell_type": "code",
   "execution_count": 6,
   "metadata": {},
   "outputs": [],
   "source": [
    "# Acuity binarization - D\n",
    "# Human decision\n",
    "triage['D'] = triage['acuity'] <= 2"
   ]
  },
  {
   "cell_type": "code",
   "execution_count": 7,
   "metadata": {},
   "outputs": [],
   "source": [
    "# Outcome - Y1\n",
    "# Defined as admission to the hospital\n",
    "triage['Y1'] = ed.hadm_id.isna()[triage.index]"
   ]
  },
  {
   "cell_type": "code",
   "execution_count": 8,
   "metadata": {},
   "outputs": [],
   "source": [
    "# Outcome - Y2\n",
    "# Defined as abnormal vital signs using Emergency Severity Index\n",
    "triage['Y2'] = (triage.o2sat < 92) | (triage.resprate > 20) | (triage.heartrate > 100)"
   ]
  },
  {
   "cell_type": "code",
   "execution_count": 9,
   "metadata": {},
   "outputs": [],
   "source": [
    "# Concept - Yc\n",
    "# Yc is definied as the union of Y1 and Y2\n",
    "triage['YC'] = triage['Y1'] | triage['Y2']"
   ]
  },
  {
   "cell_type": "code",
   "execution_count": 10,
   "metadata": {},
   "outputs": [],
   "source": [
    "# Normalize data\n",
    "triage.iloc[:, :-5] = StandardScaler().fit_transform(triage.iloc[:, :-5])"
   ]
  },
  {
   "cell_type": "code",
   "execution_count": 11,
   "metadata": {},
   "outputs": [],
   "source": [
    "triage.to_csv('triage_clean.csv')"
   ]
  },
  {
   "cell_type": "markdown",
   "metadata": {},
   "source": [
    "### Verification"
   ]
  },
  {
   "cell_type": "markdown",
   "metadata": {},
   "source": [
    "We study what proportion of the population have these characteristics."
   ]
  },
  {
   "cell_type": "code",
   "execution_count": 12,
   "metadata": {},
   "outputs": [
    {
     "data": {
      "text/plain": [
       "0    0.143822\n",
       "1    0.142558\n",
       "2    0.142089\n",
       "3    0.143345\n",
       "4    0.142443\n",
       "5    0.142326\n",
       "6    0.143418\n",
       "Name: nurse, dtype: float64"
      ]
     },
     "execution_count": 12,
     "metadata": {},
     "output_type": "execute_result"
    }
   ],
   "source": [
    "# Nurse assignment\n",
    "triage['nurse'].value_counts().sort_index() / len(triage)"
   ]
  },
  {
   "cell_type": "code",
   "execution_count": 13,
   "metadata": {},
   "outputs": [
    {
     "data": {
      "text/plain": [
       "0.36397630728730407"
      ]
     },
     "execution_count": 13,
     "metadata": {},
     "output_type": "execute_result"
    }
   ],
   "source": [
    "# Human decision D - Acuity\n",
    "triage['D'].mean()"
   ]
  },
  {
   "cell_type": "code",
   "execution_count": 14,
   "metadata": {},
   "outputs": [
    {
     "data": {
      "text/plain": [
       "0.5445559610705596"
      ]
     },
     "execution_count": 14,
     "metadata": {},
     "output_type": "execute_result"
    }
   ],
   "source": [
    "# Outcome - Y1\n",
    "triage['Y1'].mean()"
   ]
  },
  {
   "cell_type": "code",
   "execution_count": 15,
   "metadata": {},
   "outputs": [
    {
     "data": {
      "text/plain": [
       "0.20116369510589924"
      ]
     },
     "execution_count": 15,
     "metadata": {},
     "output_type": "execute_result"
    }
   ],
   "source": [
    "# Outcome - Y2\n",
    "triage['Y2'].mean()"
   ]
  },
  {
   "cell_type": "code",
   "execution_count": 16,
   "metadata": {},
   "outputs": [
    {
     "data": {
      "text/plain": [
       "0.4336381887129155"
      ]
     },
     "execution_count": 16,
     "metadata": {},
     "output_type": "execute_result"
    }
   ],
   "source": [
    "# Concept - Yc\n",
    "(triage['Y1'] & triage['Y2']).sum() / triage['Y2'].sum()"
   ]
  },
  {
   "cell_type": "markdown",
   "metadata": {},
   "source": [
    "----------"
   ]
  },
  {
   "cell_type": "markdown",
   "metadata": {},
   "source": [
    "# Semi - synthetic labels for scenarios\n",
    "\n",
    "We create semi synthetic labels using tree-based models to allow more control on the consistency scenarios"
   ]
  },
  {
   "cell_type": "code",
   "execution_count": 17,
   "metadata": {},
   "outputs": [],
   "source": [
    "from sklearn.metrics import roc_auc_score, precision_score\n",
    "from sklearn.tree import DecisionTreeClassifier\n",
    "import numpy as np"
   ]
  },
  {
   "cell_type": "markdown",
   "metadata": {},
   "source": [
    "**Scenario 1**: One model for each experts and randomness in high consistency for Y1 (experts agree on Y2 and might therefore benefit YC modelling)"
   ]
  },
  {
   "cell_type": "code",
   "execution_count": 18,
   "metadata": {},
   "outputs": [
    {
     "data": {
      "text/plain": [
       "0.6871421377988849"
      ]
     },
     "execution_count": 18,
     "metadata": {},
     "output_type": "execute_result"
    }
   ],
   "source": [
    "# Model for Y1\n",
    "model_y1 = DecisionTreeClassifier(max_depth = 9, random_state = 42)\n",
    "model_y1.fit(triage.iloc[:, :7], triage['Y1'])\n",
    "synth_y1 = model_y1.predict_proba(triage.iloc[:, :7])[:, 1]\n",
    "roc_auc_score(triage['Y1'], synth_y1)"
   ]
  },
  {
   "cell_type": "code",
   "execution_count": 19,
   "metadata": {},
   "outputs": [
    {
     "data": {
      "text/plain": [
       "0.9928681190670929"
      ]
     },
     "execution_count": 19,
     "metadata": {},
     "output_type": "execute_result"
    }
   ],
   "source": [
    "# Model for Y2\n",
    "model_y2 = DecisionTreeClassifier(max_depth = 2, random_state = 42)\n",
    "model_y2.fit(triage.iloc[:, :7], triage['Y2'])\n",
    "synth_y2 = model_y2.predict_proba(triage.iloc[:, :7])[:, 1]\n",
    "roc_auc_score(triage['Y2'], synth_y2)"
   ]
  },
  {
   "cell_type": "code",
   "execution_count": 20,
   "metadata": {},
   "outputs": [],
   "source": [
    "# Update labels\n",
    "triage['Y1'] = synth_y1 > 0.5\n",
    "triage['Y2'] = synth_y2 > 0.5\n",
    "triage['YC'] = triage['Y1'] | triage['Y2']"
   ]
  },
  {
   "cell_type": "code",
   "execution_count": 21,
   "metadata": {},
   "outputs": [
    {
     "data": {
      "text/plain": [
       "0.9659704778145679"
      ]
     },
     "execution_count": 21,
     "metadata": {},
     "output_type": "execute_result"
    }
   ],
   "source": [
    "# Model for D : Use a model for Yc and chance some of the leaved decision with random noise\n",
    "model_yc = DecisionTreeClassifier(max_depth = 4, random_state = 42)\n",
    "model_yc.fit(triage.iloc[:, :7], triage['YC'])\n",
    "synth_yc = model_yc.predict_proba(triage.iloc[:, :7])[:, 1]\n",
    "roc_auc_score(triage['YC'], synth_yc)"
   ]
  },
  {
   "cell_type": "code",
   "execution_count": 22,
   "metadata": {},
   "outputs": [
    {
     "name": "stderr",
     "output_type": "stream",
     "text": [
      "/home/vincent/miniconda3/envs/Jupyter/lib/python3.9/site-packages/sklearn/metrics/_classification.py:1318: UndefinedMetricWarning: Precision is ill-defined and being set to 0.0 due to no predicted samples. Use `zero_division` parameter to control this behavior.\n",
      "  _warn_prf(average, modifier, msg_start, len(result))\n",
      "/home/vincent/miniconda3/envs/Jupyter/lib/python3.9/site-packages/sklearn/metrics/_classification.py:1318: UndefinedMetricWarning: Precision is ill-defined and being set to 0.0 due to no predicted samples. Use `zero_division` parameter to control this behavior.\n",
      "  _warn_prf(average, modifier, msg_start, len(result))\n",
      "/home/vincent/miniconda3/envs/Jupyter/lib/python3.9/site-packages/sklearn/metrics/_classification.py:1318: UndefinedMetricWarning: Precision is ill-defined and being set to 0.0 due to no predicted samples. Use `zero_division` parameter to control this behavior.\n",
      "  _warn_prf(average, modifier, msg_start, len(result))\n",
      "/home/vincent/miniconda3/envs/Jupyter/lib/python3.9/site-packages/sklearn/metrics/_classification.py:1318: UndefinedMetricWarning: Precision is ill-defined and being set to 0.0 due to no predicted samples. Use `zero_division` parameter to control this behavior.\n",
      "  _warn_prf(average, modifier, msg_start, len(result))\n",
      "/home/vincent/miniconda3/envs/Jupyter/lib/python3.9/site-packages/sklearn/metrics/_classification.py:1318: UndefinedMetricWarning: Precision is ill-defined and being set to 0.0 due to no predicted samples. Use `zero_division` parameter to control this behavior.\n",
      "  _warn_prf(average, modifier, msg_start, len(result))\n",
      "/home/vincent/miniconda3/envs/Jupyter/lib/python3.9/site-packages/sklearn/metrics/_classification.py:1318: UndefinedMetricWarning: Precision is ill-defined and being set to 0.0 due to no predicted samples. Use `zero_division` parameter to control this behavior.\n",
      "  _warn_prf(average, modifier, msg_start, len(result))\n",
      "/home/vincent/miniconda3/envs/Jupyter/lib/python3.9/site-packages/sklearn/metrics/_classification.py:1318: UndefinedMetricWarning: Precision is ill-defined and being set to 0.0 due to no predicted samples. Use `zero_division` parameter to control this behavior.\n",
      "  _warn_prf(average, modifier, msg_start, len(result))\n",
      "/home/vincent/miniconda3/envs/Jupyter/lib/python3.9/site-packages/sklearn/metrics/_classification.py:1318: UndefinedMetricWarning: Precision is ill-defined and being set to 0.0 due to no predicted samples. Use `zero_division` parameter to control this behavior.\n",
      "  _warn_prf(average, modifier, msg_start, len(result))\n",
      "/home/vincent/miniconda3/envs/Jupyter/lib/python3.9/site-packages/sklearn/metrics/_classification.py:1318: UndefinedMetricWarning: Precision is ill-defined and being set to 0.0 due to no predicted samples. Use `zero_division` parameter to control this behavior.\n",
      "  _warn_prf(average, modifier, msg_start, len(result))\n",
      "/home/vincent/miniconda3/envs/Jupyter/lib/python3.9/site-packages/sklearn/metrics/_classification.py:1318: UndefinedMetricWarning: Precision is ill-defined and being set to 0.0 due to no predicted samples. Use `zero_division` parameter to control this behavior.\n",
      "  _warn_prf(average, modifier, msg_start, len(result))\n"
     ]
    },
    {
     "name": "stdout",
     "output_type": "stream",
     "text": [
      "Y1 4 -> 0.00 precision - 50679 patients\n",
      "Y2 4 -> 0.00 precision - 50679 patients\n",
      "Y1 5 -> 0.00 precision - 2756 patients\n",
      "Y2 5 -> 1.00 precision - 2756 patients\n",
      "Y1 6 -> 0.00 precision - 12646 patients\n",
      "Y2 6 -> 1.00 precision - 12646 patients\n",
      "Y1 9 -> 0.00 precision - 26867 patients\n",
      "Y2 9 -> 0.00 precision - 26867 patients\n",
      "Y1 10 -> 0.27 precision - 7321 patients\n",
      "Y2 10 -> 1.00 precision - 7321 patients\n",
      "Y1 12 -> 0.00 precision - 4127 patients\n",
      "Y2 12 -> 0.00 precision - 4127 patients\n",
      "Y1 13 -> 0.83 precision - 60272 patients\n",
      "Y2 13 -> 0.21 precision - 60272 patients\n",
      "Y1 17 -> 0.00 precision - 10747 patients\n",
      "Y2 17 -> 0.00 precision - 10747 patients\n",
      "Y1 18 -> 0.02 precision - 1196 patients\n",
      "Y2 18 -> 1.00 precision - 1196 patients\n",
      "Y1 20 -> 0.87 precision - 17501 patients\n",
      "Y2 20 -> 0.13 precision - 17501 patients\n",
      "Y1 21 -> 0.00 precision - 949 patients\n",
      "Y2 21 -> 0.00 precision - 949 patients\n",
      "Y1 24 -> 0.97 precision - 177069 patients\n",
      "Y2 24 -> 0.15 precision - 177069 patients\n",
      "Y1 25 -> 0.57 precision - 25450 patients\n",
      "Y2 25 -> 0.43 precision - 25450 patients\n",
      "Y1 27 -> 0.00 precision - 2924 patients\n",
      "Y2 27 -> 0.00 precision - 2924 patients\n",
      "Y1 28 -> 0.02 precision - 632 patients\n",
      "Y2 28 -> 1.00 precision - 632 patients\n"
     ]
    },
    {
     "name": "stderr",
     "output_type": "stream",
     "text": [
      "/home/vincent/miniconda3/envs/Jupyter/lib/python3.9/site-packages/sklearn/metrics/_classification.py:1318: UndefinedMetricWarning: Precision is ill-defined and being set to 0.0 due to no predicted samples. Use `zero_division` parameter to control this behavior.\n",
      "  _warn_prf(average, modifier, msg_start, len(result))\n",
      "/home/vincent/miniconda3/envs/Jupyter/lib/python3.9/site-packages/sklearn/metrics/_classification.py:1318: UndefinedMetricWarning: Precision is ill-defined and being set to 0.0 due to no predicted samples. Use `zero_division` parameter to control this behavior.\n",
      "  _warn_prf(average, modifier, msg_start, len(result))\n"
     ]
    }
   ],
   "source": [
    "# Compute last leaves of each point\n",
    "final_leave_yc = model_yc.apply(triage.iloc[:, :7])\n",
    "\n",
    "# Compute precision in Y2 for each leave\n",
    "for leaf in np.unique(final_leave_yc):\n",
    "    selection = final_leave_yc == leaf\n",
    "    print('Y1 {} -> {:.2f} precision - {} patients'.format(leaf, \n",
    "            precision_score(triage['Y1'][selection], synth_yc[selection] > 0.5), selection.sum()))\n",
    "    print('Y2 {} -> {:.2f} precision - {} patients'.format(leaf, \n",
    "            precision_score(triage['Y2'][selection], synth_yc[selection] > 0.5), selection.sum()))"
   ]
  },
  {
   "cell_type": "code",
   "execution_count": 23,
   "metadata": {},
   "outputs": [
    {
     "name": "stdout",
     "output_type": "stream",
     "text": [
      "13 0.6067162198035572\n",
      "20 0.6111650762813553\n",
      "24 0.621051680418368\n"
     ]
    }
   ],
   "source": [
    "# Change prediction with noise for leaves with high precision for Y1\n",
    "leaves_to_update = [13, 20, 24]\n",
    "\n",
    "\n",
    "eps = 2 # Noise to add\n",
    "for leaf in leaves_to_update:\n",
    "    selection = final_leave_yc == leaf\n",
    "    noise = (np.random.random(np.sum(selection)) - 0.5) * 2 * eps\n",
    "    synth_yc[selection] = np.minimum(np.maximum(synth_yc[selection] + noise, 0), 1)\n",
    "    print(leaf, np.mean(synth_yc[selection] > 0.5))"
   ]
  },
  {
   "cell_type": "code",
   "execution_count": 24,
   "metadata": {},
   "outputs": [],
   "source": [
    "triage['D'] = synth_yc > 0.5"
   ]
  },
  {
   "cell_type": "code",
   "execution_count": 25,
   "metadata": {},
   "outputs": [],
   "source": [
    "triage.to_csv('triage_scenario_1.csv')"
   ]
  },
  {
   "cell_type": "markdown",
   "metadata": {},
   "source": [
    "**Scenario 2**: Non random assignment with bias. Women are assigned to one expert who is biased by overestimating their risk (D == 1)."
   ]
  },
  {
   "cell_type": "code",
   "execution_count": 26,
   "metadata": {},
   "outputs": [],
   "source": [
    "triages2 = triage.copy()\n",
    "triages2['D'] = triages2['YC'] # Initialize close to oracle"
   ]
  },
  {
   "cell_type": "code",
   "execution_count": 27,
   "metadata": {},
   "outputs": [],
   "source": [
    "gender = triages2.join(demo).gender\n",
    "index_women = (gender == 'F').sample(frac = 0.5,random_state = 42).index # Select 50% women\n",
    "triages2.loc[index_women, 'nurse'] = 1 # Non random assignment\n",
    "triages2.loc[index_women, 'D'] = 1 # Increase from 75% to 100%"
   ]
  },
  {
   "cell_type": "code",
   "execution_count": 28,
   "metadata": {},
   "outputs": [],
   "source": [
    "triages2.to_csv('triage_scenario_2.csv')"
   ]
  },
  {
   "cell_type": "markdown",
   "metadata": {},
   "source": [
    "**Scenario 3**: Shared biases. All experts overestimate risk for female."
   ]
  },
  {
   "cell_type": "code",
   "execution_count": 29,
   "metadata": {},
   "outputs": [],
   "source": [
    "triages2.loc[gender == 'F', 'D'] = 1 # Biased against women"
   ]
  },
  {
   "cell_type": "code",
   "execution_count": 30,
   "metadata": {},
   "outputs": [],
   "source": [
    "triages2.to_csv('triage_scenario_3.csv')"
   ]
  },
  {
   "cell_type": "markdown",
   "metadata": {},
   "source": [
    "**Scenario 4**: Noise dependent on experts. Different experts come with different expertise. We model this with one nurse (50 % correct) and one (0% correct)."
   ]
  },
  {
   "cell_type": "code",
   "execution_count": 31,
   "metadata": {},
   "outputs": [],
   "source": [
    "triages4 = triage.copy()\n",
    "triages4['D'] = triages4['YC']"
   ]
  },
  {
   "cell_type": "code",
   "execution_count": 33,
   "metadata": {},
   "outputs": [
    {
     "name": "stderr",
     "output_type": "stream",
     "text": [
      "/home/vincent/miniconda3/envs/Jupyter/lib/python3.9/site-packages/pandas/core/generic.py:5516: SettingWithCopyWarning: \n",
      "A value is trying to be set on a copy of a slice from a DataFrame.\n",
      "Try using .loc[row_indexer,col_indexer] = value instead\n",
      "\n",
      "See the caveats in the documentation: https://pandas.pydata.org/pandas-docs/stable/user_guide/indexing.html#returning-a-view-versus-a-copy\n",
      "  self[name] = value\n"
     ]
    }
   ],
   "source": [
    "nurse0 = triages4[triages4.nurse == 0]\n",
    "nurse0.D = ~nurse0.Y1 # Always wrong\n",
    "\n",
    "nurse1 = triages4[triages4.nurse == 1]\n",
    "nurse1.D = ~nurse1.Y1 # Always wrong\n",
    "\n",
    "selection = nurse1.sample(frac = 0.5,random_state = 42).index\n",
    "nurse1.loc[selection].D = nurse1.loc[selection].Y1 # 50% right"
   ]
  },
  {
   "cell_type": "code",
   "execution_count": 34,
   "metadata": {},
   "outputs": [],
   "source": [
    "triage.to_csv('triage_scenario_4.csv')"
   ]
  }
 ],
 "metadata": {
  "interpreter": {
   "hash": "a54f3b3a447186e9a4a83057d2abe8df010acd7b8f131225203d307ef84eba48"
  },
  "kernelspec": {
   "display_name": "Python 3.9.7 ('Jupyter')",
   "language": "python",
   "name": "python3"
  },
  "language_info": {
   "codemirror_mode": {
    "name": "ipython",
    "version": 3
   },
   "file_extension": ".py",
   "mimetype": "text/x-python",
   "name": "python",
   "nbconvert_exporter": "python",
   "pygments_lexer": "ipython3",
   "version": "3.9.7"
  },
  "orig_nbformat": 4
 },
 "nbformat": 4,
 "nbformat_minor": 2
}

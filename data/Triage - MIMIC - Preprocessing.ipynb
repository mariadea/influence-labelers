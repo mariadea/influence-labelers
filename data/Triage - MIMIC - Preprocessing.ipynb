{
 "cells": [
  {
   "cell_type": "markdown",
   "metadata": {},
   "source": [
    "# Triage MIMIC - Emergency Department"
   ]
  },
  {
   "cell_type": "markdown",
   "metadata": {},
   "source": [
    "This analysis relies on the emergency data from the MIMIC IV dataset (Refer to https://physionet.org/content/mimic-iv-ed/1.0/ for the original dataset.) "
   ]
  },
  {
   "cell_type": "markdown",
   "metadata": {},
   "source": [
    "First, you need to download the data from Physionet website, following the instructions on the website.\n",
    "\n",
    "```\n",
    "wget -r -N -c -np --user USERNAME --ask-password https://physionet.org/files/mimic-iv-ed/1.0/  \n",
    "wget -r -N -c -np --user USERNAME --ask-password https://physionet.org/files/mimiciv/1.0/core/\n",
    "```\n",
    "\n",
    "This will result in a `physionet.org` folder in which the `ed` directory will contains all relevant data."
   ]
  },
  {
   "cell_type": "code",
   "execution_count": null,
   "metadata": {},
   "outputs": [],
   "source": [
    "path = 'physionet.org/files/'"
   ]
  },
  {
   "cell_type": "markdown",
   "metadata": {},
   "source": [
    "##### Extract data of interest"
   ]
  },
  {
   "cell_type": "code",
   "execution_count": null,
   "metadata": {},
   "outputs": [],
   "source": [
    "from sklearn.preprocessing import StandardScaler\n",
    "import pandas as pd\n",
    "import os"
   ]
  },
  {
   "cell_type": "code",
   "execution_count": null,
   "metadata": {},
   "outputs": [],
   "source": [
    "# Open data\n",
    "demo = pd.read_csv(os.path.join(path, 'mimiciv/1.0/core/patients.csv.gz'), index_col = 0)\n",
    "triage = pd.read_csv(os.path.join(path, 'mimic-iv-ed/1.0/ed/triage.csv.gz'), index_col = [0, 1])\n",
    "ed = pd.read_csv(os.path.join(path, 'mimic-iv-ed/1.0/ed/edstays.csv.gz'), index_col = [0, 2], parse_dates = ['intime', 'outtime'])"
   ]
  },
  {
   "cell_type": "code",
   "execution_count": null,
   "metadata": {},
   "outputs": [],
   "source": [
    "# Remove unnecessary columns and datapoints with any missing data\n",
    "triage = triage.drop(columns = 'chiefcomplaint')\n",
    "triage = triage.dropna(0, 'any')\n",
    "triage"
   ]
  },
  {
   "cell_type": "code",
   "execution_count": null,
   "metadata": {},
   "outputs": [],
   "source": [
    "# Nurse assignment\n",
    "# Expertise and tiredness might play a role here and we assign the day of admission as proxies of these dimensions\n",
    "triage['nurse'] = ed.intime.dt.day_of_week[triage.index]"
   ]
  },
  {
   "cell_type": "code",
   "execution_count": null,
   "metadata": {},
   "outputs": [],
   "source": [
    "# Acuity binarization - D\n",
    "# Human decision\n",
    "triage['D'] = triage['acuity'] <= 2"
   ]
  },
  {
   "cell_type": "code",
   "execution_count": null,
   "metadata": {},
   "outputs": [],
   "source": [
    "# Outcome - Y1\n",
    "# Defined as admission to the hospital\n",
    "triage['Y1'] = ed.hadm_id.isna()[triage.index]"
   ]
  },
  {
   "cell_type": "code",
   "execution_count": null,
   "metadata": {},
   "outputs": [],
   "source": [
    "# Outcome - Y2\n",
    "# Defined as abnormal vital signs using Emergency Severity Index\n",
    "triage['Y2'] = (triage.o2sat < 92) | (triage.resprate > 20) | (triage.heartrate > 100)"
   ]
  },
  {
   "cell_type": "code",
   "execution_count": null,
   "metadata": {},
   "outputs": [],
   "source": [
    "# Concept - Yc\n",
    "# Yc is definied as the union of Y1 and Y2\n",
    "triage['YC'] = triage['Y1'] | triage['Y2']"
   ]
  },
  {
   "cell_type": "code",
   "execution_count": null,
   "metadata": {},
   "outputs": [],
   "source": [
    "# Normalize data\n",
    "triage.iloc[:, :-5] = StandardScaler().fit_transform(triage.iloc[:, :-5])"
   ]
  },
  {
   "cell_type": "code",
   "execution_count": null,
   "metadata": {},
   "outputs": [],
   "source": [
    "triage.to_csv('triage_clean.csv')"
   ]
  },
  {
   "cell_type": "markdown",
   "metadata": {},
   "source": [
    "### Verification"
   ]
  },
  {
   "cell_type": "markdown",
   "metadata": {},
   "source": [
    "We study what proportion of the population have these characteristics."
   ]
  },
  {
   "cell_type": "code",
   "execution_count": null,
   "metadata": {},
   "outputs": [],
   "source": [
    "# Nurse assignment\n",
    "triage['nurse'].value_counts().sort_index() / len(triage)"
   ]
  },
  {
   "cell_type": "code",
   "execution_count": null,
   "metadata": {},
   "outputs": [],
   "source": [
    "# Human decision D - Acuity\n",
    "triage['D'].mean()"
   ]
  },
  {
   "cell_type": "code",
   "execution_count": null,
   "metadata": {},
   "outputs": [],
   "source": [
    "# Outcome - Y1\n",
    "triage['Y1'].mean()"
   ]
  },
  {
   "cell_type": "code",
   "execution_count": null,
   "metadata": {},
   "outputs": [],
   "source": [
    "# Outcome - Y2\n",
    "triage['Y2'].mean()"
   ]
  },
  {
   "cell_type": "code",
   "execution_count": null,
   "metadata": {},
   "outputs": [],
   "source": [
    "# Concept - Yc\n",
    "(triage['Y1'] & triage['Y2']).sum() / triage['Y2'].sum()"
   ]
  },
  {
   "cell_type": "markdown",
   "metadata": {},
   "source": [
    "----------"
   ]
  },
  {
   "cell_type": "markdown",
   "metadata": {},
   "source": [
    "# Semi - synthetic labels for scenarios\n",
    "\n",
    "We create semi synthetic labels using tree-based models to allow more control on the consistency scenarios"
   ]
  },
  {
   "cell_type": "code",
   "execution_count": null,
   "metadata": {},
   "outputs": [],
   "source": [
    "from sklearn.metrics import roc_auc_score, precision_score\n",
    "from sklearn.tree import DecisionTreeClassifier\n",
    "import numpy as np"
   ]
  },
  {
   "cell_type": "markdown",
   "metadata": {},
   "source": [
    "**Scenario 1**: One model for each experts and randomness in high consistency for Y1 (experts agree on Y2 and might therefore benefit YC modelling)"
   ]
  },
  {
   "cell_type": "code",
   "execution_count": null,
   "metadata": {},
   "outputs": [],
   "source": [
    "# Model for Y1\n",
    "model_y1 = DecisionTreeClassifier(max_depth = 9, random_state = 42)\n",
    "model_y1.fit(triage.iloc[:, :7], triage['Y1'])\n",
    "synth_y1 = model_y1.predict_proba(triage.iloc[:, :7])[:, 1]\n",
    "roc_auc_score(triage['Y1'], synth_y1)"
   ]
  },
  {
   "cell_type": "code",
   "execution_count": null,
   "metadata": {},
   "outputs": [],
   "source": [
    "# Model for Y2\n",
    "model_y2 = DecisionTreeClassifier(max_depth = 2, random_state = 42)\n",
    "model_y2.fit(triage.iloc[:, :7], triage['Y2'])\n",
    "synth_y2 = model_y2.predict_proba(triage.iloc[:, :7])[:, 1]\n",
    "roc_auc_score(triage['Y2'], synth_y2)"
   ]
  },
  {
   "cell_type": "code",
   "execution_count": null,
   "metadata": {},
   "outputs": [],
   "source": [
    "# Update labels\n",
    "triage['Y1'] = synth_y1 > 0.5\n",
    "triage['Y2'] = synth_y2 > 0.5\n",
    "triage['YC'] = triage['Y1'] | triage['Y2']"
   ]
  },
  {
   "cell_type": "code",
   "execution_count": null,
   "metadata": {},
   "outputs": [],
   "source": [
    "# Model for D : Use a model for Yc and chance some of the leaved decision with random noise\n",
    "model_yc = DecisionTreeClassifier(max_depth = 4, random_state = 42)\n",
    "model_yc.fit(triage.iloc[:, :7], triage['YC'])\n",
    "synth_yc = model_yc.predict_proba(triage.iloc[:, :7])[:, 1]\n",
    "roc_auc_score(triage['YC'], synth_yc)"
   ]
  },
  {
   "cell_type": "code",
   "execution_count": null,
   "metadata": {},
   "outputs": [],
   "source": [
    "# Compute last leaves of each point\n",
    "final_leave_yc = model_yc.apply(triage.iloc[:, :7])\n",
    "\n",
    "# Compute precision in Y2 for each leave\n",
    "for leaf in np.unique(final_leave_yc):\n",
    "    selection = final_leave_yc == leaf\n",
    "    print('Y1 {} -> {:.2f} precision - {} patients'.format(leaf, \n",
    "            precision_score(triage['Y1'][selection], synth_yc[selection] > 0.5), selection.sum()))\n",
    "    print('Y2 {} -> {:.2f} precision - {} patients'.format(leaf, \n",
    "            precision_score(triage['Y2'][selection], synth_yc[selection] > 0.5), selection.sum()))"
   ]
  },
  {
   "cell_type": "code",
   "execution_count": null,
   "metadata": {},
   "outputs": [],
   "source": [
    "# Change prediction with noise for leaves with high precision for Y1\n",
    "leaves_to_update = [13, 20, 24]\n",
    "\n",
    "\n",
    "eps = 2 # Noise to add\n",
    "for leaf in leaves_to_update:\n",
    "    selection = final_leave_yc == leaf\n",
    "    noise = (np.random.random(np.sum(selection)) - 0.5) * 2 * eps\n",
    "    synth_yc[selection] = np.minimum(np.maximum(synth_yc[selection] + noise, 0), 1)\n",
    "    print(leaf, np.mean(synth_yc[selection] > 0.5))"
   ]
  },
  {
   "cell_type": "code",
   "execution_count": null,
   "metadata": {},
   "outputs": [],
   "source": [
    "triage['D'] = synth_yc > 0.5"
   ]
  },
  {
   "cell_type": "code",
   "execution_count": null,
   "metadata": {},
   "outputs": [],
   "source": [
    "triage.to_csv('triage_scenario_1.csv')"
   ]
  },
  {
   "cell_type": "markdown",
   "metadata": {},
   "source": [
    "**Scenario 2**: Non random assignment with bias. Women are assigned to one expert who is biased by overestimating their risk (D == 1)."
   ]
  },
  {
   "cell_type": "code",
   "execution_count": null,
   "metadata": {},
   "outputs": [],
   "source": [
    "triages2 = triage.copy()\n",
    "triages2['D'] = triages2['YC'] # Initialize close to oracle"
   ]
  },
  {
   "cell_type": "code",
   "execution_count": null,
   "metadata": {},
   "outputs": [],
   "source": [
    "gender = triages2.join(demo).gender\n",
    "index_women = (gender == 'F').sample(frac = 0.5,random_state = 42).index # Select 50% women\n",
    "triages2.loc[index_women, 'nurse'] = 1 # Non random assignment\n",
    "triages2.loc[index_women, 'D'] = True # Increase from 75% to 100%"
   ]
  },
  {
   "cell_type": "code",
   "execution_count": null,
   "metadata": {},
   "outputs": [],
   "source": [
    "triages2.to_csv('triage_scenario_2.csv')"
   ]
  },
  {
   "cell_type": "markdown",
   "metadata": {},
   "source": [
    "**Scenario 3**: Shared biases. All experts overestimate risk for female."
   ]
  },
  {
   "cell_type": "code",
   "execution_count": null,
   "metadata": {},
   "outputs": [],
   "source": [
    "triages2.loc[gender == 'F', 'D'] = True # Biased against women"
   ]
  },
  {
   "cell_type": "code",
   "execution_count": null,
   "metadata": {},
   "outputs": [],
   "source": [
    "triages2.to_csv('triage_scenario_3.csv')"
   ]
  },
  {
   "cell_type": "markdown",
   "metadata": {},
   "source": [
    "**Scenario 4**: Noise dependent on experts. Different experts come with different expertise. We model this with one nurse (50 % correct) and one (0% correct)."
   ]
  },
  {
   "cell_type": "code",
   "execution_count": null,
   "metadata": {},
   "outputs": [],
   "source": [
    "triages4 = triage.copy()\n",
    "triages4['D'] = triages4['YC']"
   ]
  },
  {
   "cell_type": "code",
   "execution_count": null,
   "metadata": {},
   "outputs": [],
   "source": [
    "nurse0 = triages4[triages4.nurse == 0]\n",
    "nurse0.D = ~nurse0.Y1 # Always wrong\n",
    "\n",
    "nurse1 = triages4[triages4.nurse == 1]\n",
    "nurse1.D = ~nurse1.Y1 # Always wrong\n",
    "\n",
    "selection = nurse1.sample(frac = 0.5,random_state = 42).index\n",
    "nurse1.loc[selection].D = nurse1.loc[selection].Y1 # 50% right"
   ]
  },
  {
   "cell_type": "code",
   "execution_count": null,
   "metadata": {},
   "outputs": [],
   "source": [
    "triage.to_csv('triage_scenario_4.csv')"
   ]
  }
 ],
 "metadata": {
  "interpreter": {
   "hash": "a54f3b3a447186e9a4a83057d2abe8df010acd7b8f131225203d307ef84eba48"
  },
  "kernelspec": {
   "display_name": "Python 3.9.7 ('Jupyter')",
   "language": "python",
   "name": "python3"
  },
  "language_info": {
   "codemirror_mode": {
    "name": "ipython",
    "version": 3
   },
   "file_extension": ".py",
   "mimetype": "text/x-python",
   "name": "python",
   "nbconvert_exporter": "python",
   "pygments_lexer": "ipython3",
   "version": "3.9.7"
  },
  "orig_nbformat": 4
 },
 "nbformat": 4,
 "nbformat_minor": 2
}

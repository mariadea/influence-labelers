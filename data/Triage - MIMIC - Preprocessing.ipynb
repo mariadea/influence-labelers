{
 "cells": [
  {
   "cell_type": "markdown",
   "metadata": {},
   "source": [
    "# Triage MIMIC - Emergency Department"
   ]
  },
  {
   "cell_type": "markdown",
   "metadata": {},
   "source": [
    "This analysis relies on the emergency data from the MIMIC IV dataset (Refer to https://physionet.org/content/mimic-iv-ed/1.0/ for the original dataset.) "
   ]
  },
  {
   "cell_type": "markdown",
   "metadata": {},
   "source": [
    "First, you need to download the data from Physionet website, following the instructions on the website.\n",
    "\n",
    "```\n",
    "wget -r -N -c -np --user USERNAME --ask-password https://physionet.org/files/mimic-iv-ed/1.0/  \n",
    "wget -r -N -c -np --user USERNAME --ask-password https://physionet.org/files/mimiciv/1.0/core/\n",
    "```\n",
    "\n",
    "This will result in a `physionet.org` folder in which the `ed` directory will contains all relevant data."
   ]
  },
  {
   "cell_type": "code",
   "execution_count": 1,
   "metadata": {},
   "outputs": [],
   "source": [
    "path = 'physionet.org/files/'"
   ]
  },
  {
   "cell_type": "markdown",
   "metadata": {},
   "source": [
    "##### Extract data of interest"
   ]
  },
  {
   "cell_type": "code",
   "execution_count": 2,
   "metadata": {},
   "outputs": [],
   "source": [
    "from sklearn.preprocessing import StandardScaler\n",
    "import pandas as pd\n",
    "import os"
   ]
  },
  {
   "cell_type": "code",
   "execution_count": 3,
   "metadata": {},
   "outputs": [],
   "source": [
    "# Open data\n",
    "demo = pd.read_csv(os.path.join(path, 'mimiciv/1.0/core/patients.csv.gz'), index_col = 0)\n",
    "triage = pd.read_csv(os.path.join(path, 'mimic-iv-ed/1.0/ed/triage.csv.gz'), index_col = [0, 1])\n",
    "ed = pd.read_csv(os.path.join(path, 'mimic-iv-ed/1.0/ed/edstays.csv.gz'), index_col = [0, 2], parse_dates = ['intime', 'outtime'])"
   ]
  },
  {
   "cell_type": "code",
   "execution_count": 4,
   "metadata": {},
   "outputs": [
    {
     "name": "stderr",
     "output_type": "stream",
     "text": [
      "/tmp/ipykernel_17608/1066841533.py:3: FutureWarning: In a future version of pandas all arguments of DataFrame.dropna will be keyword-only\n",
      "  triage = triage.dropna(0, 'any')\n"
     ]
    },
    {
     "data": {
      "text/html": [
       "<div>\n",
       "<style scoped>\n",
       "    .dataframe tbody tr th:only-of-type {\n",
       "        vertical-align: middle;\n",
       "    }\n",
       "\n",
       "    .dataframe tbody tr th {\n",
       "        vertical-align: top;\n",
       "    }\n",
       "\n",
       "    .dataframe thead th {\n",
       "        text-align: right;\n",
       "    }\n",
       "</style>\n",
       "<table border=\"1\" class=\"dataframe\">\n",
       "  <thead>\n",
       "    <tr style=\"text-align: right;\">\n",
       "      <th></th>\n",
       "      <th></th>\n",
       "      <th>temperature</th>\n",
       "      <th>heartrate</th>\n",
       "      <th>resprate</th>\n",
       "      <th>o2sat</th>\n",
       "      <th>sbp</th>\n",
       "      <th>dbp</th>\n",
       "      <th>pain</th>\n",
       "      <th>acuity</th>\n",
       "    </tr>\n",
       "    <tr>\n",
       "      <th>subject_id</th>\n",
       "      <th>stay_id</th>\n",
       "      <th></th>\n",
       "      <th></th>\n",
       "      <th></th>\n",
       "      <th></th>\n",
       "      <th></th>\n",
       "      <th></th>\n",
       "      <th></th>\n",
       "      <th></th>\n",
       "    </tr>\n",
       "  </thead>\n",
       "  <tbody>\n",
       "    <tr>\n",
       "      <th>15585360</th>\n",
       "      <th>37573921</th>\n",
       "      <td>97.0</td>\n",
       "      <td>87.0</td>\n",
       "      <td>18.0</td>\n",
       "      <td>100.0</td>\n",
       "      <td>150.0</td>\n",
       "      <td>71.0</td>\n",
       "      <td>10.0</td>\n",
       "      <td>3.0</td>\n",
       "    </tr>\n",
       "    <tr>\n",
       "      <th>15248757</th>\n",
       "      <th>32172727</th>\n",
       "      <td>97.1</td>\n",
       "      <td>112.0</td>\n",
       "      <td>20.0</td>\n",
       "      <td>100.0</td>\n",
       "      <td>147.0</td>\n",
       "      <td>97.0</td>\n",
       "      <td>8.0</td>\n",
       "      <td>4.0</td>\n",
       "    </tr>\n",
       "    <tr>\n",
       "      <th>16648037</th>\n",
       "      <th>38946064</th>\n",
       "      <td>98.5</td>\n",
       "      <td>59.0</td>\n",
       "      <td>18.0</td>\n",
       "      <td>99.0</td>\n",
       "      <td>160.0</td>\n",
       "      <td>86.0</td>\n",
       "      <td>2.0</td>\n",
       "      <td>2.0</td>\n",
       "    </tr>\n",
       "    <tr>\n",
       "      <th>13492931</th>\n",
       "      <th>39828574</th>\n",
       "      <td>100.6</td>\n",
       "      <td>90.0</td>\n",
       "      <td>16.0</td>\n",
       "      <td>96.0</td>\n",
       "      <td>107.0</td>\n",
       "      <td>55.0</td>\n",
       "      <td>0.0</td>\n",
       "      <td>3.0</td>\n",
       "    </tr>\n",
       "    <tr>\n",
       "      <th>11475777</th>\n",
       "      <th>38193311</th>\n",
       "      <td>97.1</td>\n",
       "      <td>85.0</td>\n",
       "      <td>16.0</td>\n",
       "      <td>100.0</td>\n",
       "      <td>138.0</td>\n",
       "      <td>86.0</td>\n",
       "      <td>7.0</td>\n",
       "      <td>3.0</td>\n",
       "    </tr>\n",
       "    <tr>\n",
       "      <th>...</th>\n",
       "      <th>...</th>\n",
       "      <td>...</td>\n",
       "      <td>...</td>\n",
       "      <td>...</td>\n",
       "      <td>...</td>\n",
       "      <td>...</td>\n",
       "      <td>...</td>\n",
       "      <td>...</td>\n",
       "      <td>...</td>\n",
       "    </tr>\n",
       "    <tr>\n",
       "      <th>15913671</th>\n",
       "      <th>35574167</th>\n",
       "      <td>98.0</td>\n",
       "      <td>82.0</td>\n",
       "      <td>15.0</td>\n",
       "      <td>98.0</td>\n",
       "      <td>127.0</td>\n",
       "      <td>86.0</td>\n",
       "      <td>8.0</td>\n",
       "      <td>3.0</td>\n",
       "    </tr>\n",
       "    <tr>\n",
       "      <th>14913519</th>\n",
       "      <th>33280070</th>\n",
       "      <td>97.1</td>\n",
       "      <td>104.0</td>\n",
       "      <td>18.0</td>\n",
       "      <td>97.0</td>\n",
       "      <td>90.0</td>\n",
       "      <td>57.0</td>\n",
       "      <td>0.0</td>\n",
       "      <td>2.0</td>\n",
       "    </tr>\n",
       "    <tr>\n",
       "      <th>13537748</th>\n",
       "      <th>39146222</th>\n",
       "      <td>97.1</td>\n",
       "      <td>56.0</td>\n",
       "      <td>20.0</td>\n",
       "      <td>100.0</td>\n",
       "      <td>177.0</td>\n",
       "      <td>92.0</td>\n",
       "      <td>6.0</td>\n",
       "      <td>2.0</td>\n",
       "    </tr>\n",
       "    <tr>\n",
       "      <th>15608541</th>\n",
       "      <th>39109339</th>\n",
       "      <td>97.6</td>\n",
       "      <td>92.0</td>\n",
       "      <td>18.0</td>\n",
       "      <td>98.0</td>\n",
       "      <td>197.0</td>\n",
       "      <td>73.0</td>\n",
       "      <td>0.0</td>\n",
       "      <td>4.0</td>\n",
       "    </tr>\n",
       "    <tr>\n",
       "      <th>15632852</th>\n",
       "      <th>37860864</th>\n",
       "      <td>98.2</td>\n",
       "      <td>115.0</td>\n",
       "      <td>18.0</td>\n",
       "      <td>100.0</td>\n",
       "      <td>124.0</td>\n",
       "      <td>68.0</td>\n",
       "      <td>0.0</td>\n",
       "      <td>3.0</td>\n",
       "    </tr>\n",
       "  </tbody>\n",
       "</table>\n",
       "<p>401136 rows × 8 columns</p>\n",
       "</div>"
      ],
      "text/plain": [
       "                     temperature  heartrate  resprate  o2sat    sbp   dbp  \\\n",
       "subject_id stay_id                                                          \n",
       "15585360   37573921         97.0       87.0      18.0  100.0  150.0  71.0   \n",
       "15248757   32172727         97.1      112.0      20.0  100.0  147.0  97.0   \n",
       "16648037   38946064         98.5       59.0      18.0   99.0  160.0  86.0   \n",
       "13492931   39828574        100.6       90.0      16.0   96.0  107.0  55.0   \n",
       "11475777   38193311         97.1       85.0      16.0  100.0  138.0  86.0   \n",
       "...                          ...        ...       ...    ...    ...   ...   \n",
       "15913671   35574167         98.0       82.0      15.0   98.0  127.0  86.0   \n",
       "14913519   33280070         97.1      104.0      18.0   97.0   90.0  57.0   \n",
       "13537748   39146222         97.1       56.0      20.0  100.0  177.0  92.0   \n",
       "15608541   39109339         97.6       92.0      18.0   98.0  197.0  73.0   \n",
       "15632852   37860864         98.2      115.0      18.0  100.0  124.0  68.0   \n",
       "\n",
       "                     pain  acuity  \n",
       "subject_id stay_id                 \n",
       "15585360   37573921  10.0     3.0  \n",
       "15248757   32172727   8.0     4.0  \n",
       "16648037   38946064   2.0     2.0  \n",
       "13492931   39828574   0.0     3.0  \n",
       "11475777   38193311   7.0     3.0  \n",
       "...                   ...     ...  \n",
       "15913671   35574167   8.0     3.0  \n",
       "14913519   33280070   0.0     2.0  \n",
       "13537748   39146222   6.0     2.0  \n",
       "15608541   39109339   0.0     4.0  \n",
       "15632852   37860864   0.0     3.0  \n",
       "\n",
       "[401136 rows x 8 columns]"
      ]
     },
     "execution_count": 4,
     "metadata": {},
     "output_type": "execute_result"
    }
   ],
   "source": [
    "# Remove unnecessary columns and datapoints with any missing data\n",
    "triage = triage.drop(columns = 'chiefcomplaint')\n",
    "triage = triage.dropna(0, 'any')\n",
    "triage"
   ]
  },
  {
   "cell_type": "code",
   "execution_count": 5,
   "metadata": {},
   "outputs": [],
   "source": [
    "# Nurse assignment\n",
    "# Expertise and tiredness might play a role here and we assign the day of admission as proxies of these dimensions\n",
    "triage['nurse'] = ed.intime.dt.day_of_week[triage.index]"
   ]
  },
  {
   "cell_type": "code",
   "execution_count": 6,
   "metadata": {},
   "outputs": [],
   "source": [
    "# Acuity binarization - D\n",
    "# Human decision\n",
    "triage['D'] = triage['acuity'] <= 2"
   ]
  },
  {
   "cell_type": "code",
   "execution_count": 7,
   "metadata": {},
   "outputs": [],
   "source": [
    "# Outcome - Y1\n",
    "# Defined as admission to the hospital\n",
    "triage['Y1'] = ed.hadm_id.isna()[triage.index]"
   ]
  },
  {
   "cell_type": "code",
   "execution_count": 8,
   "metadata": {},
   "outputs": [],
   "source": [
    "# Outcome - Y2\n",
    "# Defined as abnormal vital signs using Emergency Severity Index\n",
    "triage['Y2'] = (triage.o2sat < 92) | (triage.resprate > 20) | (triage.heartrate > 100) | (triage.join(demo).anchor_age > 75)"
   ]
  },
  {
   "cell_type": "code",
   "execution_count": 9,
   "metadata": {},
   "outputs": [],
   "source": [
    "# Concept - Yc\n",
    "# Yc is definied as the union of Y1 and Y2\n",
    "triage['YC'] = triage['Y1'] | triage['Y2']"
   ]
  },
  {
   "cell_type": "code",
   "execution_count": 10,
   "metadata": {},
   "outputs": [],
   "source": [
    "# Normalize data\n",
    "triage.iloc[:, :-5] = StandardScaler().fit_transform(triage.iloc[:, :-5])"
   ]
  },
  {
   "cell_type": "code",
   "execution_count": 11,
   "metadata": {},
   "outputs": [],
   "source": [
    "#triage.to_csv('triage_clean.csv')"
   ]
  },
  {
   "cell_type": "markdown",
   "metadata": {},
   "source": [
    "### Verification"
   ]
  },
  {
   "cell_type": "markdown",
   "metadata": {},
   "source": [
    "We study what proportion of the population have these characteristics."
   ]
  },
  {
   "cell_type": "code",
   "execution_count": 12,
   "metadata": {},
   "outputs": [
    {
     "data": {
      "text/plain": [
       "0    0.143822\n",
       "1    0.142558\n",
       "2    0.142089\n",
       "3    0.143345\n",
       "4    0.142443\n",
       "5    0.142326\n",
       "6    0.143418\n",
       "Name: nurse, dtype: float64"
      ]
     },
     "execution_count": 12,
     "metadata": {},
     "output_type": "execute_result"
    }
   ],
   "source": [
    "# Nurse assignment\n",
    "triage['nurse'].value_counts().sort_index() / len(triage)"
   ]
  },
  {
   "cell_type": "code",
   "execution_count": 13,
   "metadata": {},
   "outputs": [
    {
     "data": {
      "text/plain": [
       "0.36397630728730407"
      ]
     },
     "execution_count": 13,
     "metadata": {},
     "output_type": "execute_result"
    }
   ],
   "source": [
    "# Human decision D - Acuity\n",
    "triage['D'].mean()"
   ]
  },
  {
   "cell_type": "code",
   "execution_count": 14,
   "metadata": {},
   "outputs": [
    {
     "data": {
      "text/plain": [
       "0.5445559610705596"
      ]
     },
     "execution_count": 14,
     "metadata": {},
     "output_type": "execute_result"
    }
   ],
   "source": [
    "# Outcome - Y1\n",
    "triage['Y1'].mean()"
   ]
  },
  {
   "cell_type": "code",
   "execution_count": 15,
   "metadata": {},
   "outputs": [
    {
     "data": {
      "text/plain": [
       "0.3019748913086833"
      ]
     },
     "execution_count": 15,
     "metadata": {},
     "output_type": "execute_result"
    }
   ],
   "source": [
    "# Outcome - Y2\n",
    "triage['Y2'].mean()"
   ]
  },
  {
   "cell_type": "code",
   "execution_count": 16,
   "metadata": {},
   "outputs": [
    {
     "data": {
      "text/plain": [
       "0.7284187906345977"
      ]
     },
     "execution_count": 16,
     "metadata": {},
     "output_type": "execute_result"
    }
   ],
   "source": [
    "# Concept - Yc\n",
    "triage['YC'].mean()"
   ]
  },
  {
   "cell_type": "code",
   "execution_count": 17,
   "metadata": {},
   "outputs": [
    {
     "data": {
      "text/plain": [
       "0.3911320614531135"
      ]
     },
     "execution_count": 17,
     "metadata": {},
     "output_type": "execute_result"
    }
   ],
   "source": [
    "# Intersection Y1 and Y2\n",
    "(triage['Y1'] & triage['Y2']).sum() / min(triage['Y1'].sum(), triage['Y2'].sum())"
   ]
  },
  {
   "cell_type": "code",
   "execution_count": 18,
   "metadata": {},
   "outputs": [
    {
     "data": {
      "text/plain": [
       "0.7475863721145126"
      ]
     },
     "execution_count": 18,
     "metadata": {},
     "output_type": "execute_result"
    }
   ],
   "source": [
    "# Intersection Y1 concept\n",
    "(triage['Y1'] & triage['YC']).sum() / triage['YC'].sum()"
   ]
  },
  {
   "cell_type": "code",
   "execution_count": 19,
   "metadata": {},
   "outputs": [
    {
     "data": {
      "text/plain": [
       "0.4145621930560071"
      ]
     },
     "execution_count": 19,
     "metadata": {},
     "output_type": "execute_result"
    }
   ],
   "source": [
    "# Intersection Y2 concept\n",
    "(triage['Y2'] & triage['YC']).sum() / triage['YC'].sum()"
   ]
  },
  {
   "cell_type": "code",
   "execution_count": 20,
   "metadata": {},
   "outputs": [
    {
     "data": {
      "text/plain": [
       "0.31115864405619537"
      ]
     },
     "execution_count": 20,
     "metadata": {},
     "output_type": "execute_result"
    }
   ],
   "source": [
    "# Intersection D concept\n",
    "(triage['D'] & triage['YC']).sum() / triage['YC'].sum()"
   ]
  },
  {
   "cell_type": "code",
   "execution_count": 21,
   "metadata": {},
   "outputs": [
    {
     "data": {
      "text/plain": [
       "0.31060107942248155"
      ]
     },
     "execution_count": 21,
     "metadata": {},
     "output_type": "execute_result"
    }
   ],
   "source": [
    "# Intersection D concept\n",
    "(triage['D'] & triage['Y1']).sum() / min(triage['Y1'].sum(), triage['D'].sum())"
   ]
  },
  {
   "cell_type": "code",
   "execution_count": 22,
   "metadata": {},
   "outputs": [
    {
     "data": {
      "text/plain": [
       "0.48884284216522333"
      ]
     },
     "execution_count": 22,
     "metadata": {},
     "output_type": "execute_result"
    }
   ],
   "source": [
    "# Intersection D concept\n",
    "(triage['D'] & triage['Y2']).sum() / min(triage['Y2'].sum(), triage['D'].sum())"
   ]
  },
  {
   "cell_type": "markdown",
   "metadata": {},
   "source": [
    "----------"
   ]
  },
  {
   "cell_type": "markdown",
   "metadata": {},
   "source": [
    "# Semi - synthetic labels for scenarios\n",
    "\n",
    "We create semi synthetic labels using tree-based models to allow more control on the consistency scenarios"
   ]
  },
  {
   "cell_type": "code",
   "execution_count": 23,
   "metadata": {},
   "outputs": [],
   "source": [
    "from sklearn.metrics import roc_auc_score, precision_score\n",
    "from sklearn.tree import DecisionTreeClassifier\n",
    "import numpy as np"
   ]
  },
  {
   "cell_type": "code",
   "execution_count": 24,
   "metadata": {},
   "outputs": [],
   "source": [
    "# To exhibit the desired properties in the synthetic dataset \n",
    "## Have more (but random) nurses\n",
    "triage['nurse'] = np.random.choice(np.arange(20), size = len(triage))\n",
    "triage = triage.join((demo.anchor_age > 70).astype(float))"
   ]
  },
  {
   "cell_type": "code",
   "execution_count": 25,
   "metadata": {},
   "outputs": [],
   "source": [
    "covariates = triage.drop(columns = ['acuity', 'nurse', 'D', 'Y1', 'Y2', 'YC'])"
   ]
  },
  {
   "cell_type": "markdown",
   "metadata": {},
   "source": [
    "**Scenario 1**: One model for all experts and randomness in high consistency for Y1 (experts agree on Y2 and might therefore benefit YC modelling)"
   ]
  },
  {
   "cell_type": "code",
   "execution_count": 26,
   "metadata": {},
   "outputs": [
    {
     "data": {
      "text/plain": [
       "0.7035090998058837"
      ]
     },
     "execution_count": 26,
     "metadata": {},
     "output_type": "execute_result"
    }
   ],
   "source": [
    "# Model for Y1\n",
    "model_y1 = DecisionTreeClassifier(max_depth = 9, random_state = 42)\n",
    "model_y1.fit(covariates, triage['Y1'])\n",
    "synth_y1 = model_y1.predict_proba(covariates)[:, 1]\n",
    "roc_auc_score(triage['Y1'], synth_y1)"
   ]
  },
  {
   "cell_type": "code",
   "execution_count": 27,
   "metadata": {},
   "outputs": [
    {
     "data": {
      "text/plain": [
       "0.9555263589748657"
      ]
     },
     "execution_count": 27,
     "metadata": {},
     "output_type": "execute_result"
    }
   ],
   "source": [
    "# Model for Y2\n",
    "model_y2 = DecisionTreeClassifier(max_depth = 2, random_state = 42)\n",
    "model_y2.fit(covariates, triage['Y2'])\n",
    "synth_y2 = model_y2.predict_proba(covariates)[:, 1]\n",
    "roc_auc_score(triage['Y2'], synth_y2)"
   ]
  },
  {
   "cell_type": "code",
   "execution_count": 28,
   "metadata": {},
   "outputs": [],
   "source": [
    "# Update labels\n",
    "triage['Y1'] = synth_y1 > 0.5\n",
    "triage['Y2'] = synth_y2 > 0.5\n",
    "triage['YC'] = triage['Y1'] | triage['Y2']"
   ]
  },
  {
   "cell_type": "code",
   "execution_count": 29,
   "metadata": {},
   "outputs": [
    {
     "data": {
      "text/plain": [
       "0.9431259214041656"
      ]
     },
     "execution_count": 29,
     "metadata": {},
     "output_type": "execute_result"
    }
   ],
   "source": [
    "# Model for D : Use a model for Yc and chance some of the leaved decision\n",
    "model_yc = DecisionTreeClassifier(max_depth = 4, random_state = 42)\n",
    "model_yc.fit(covariates, triage['YC'])\n",
    "synth_yc = model_yc.predict_proba(covariates)[:, 1]\n",
    "roc_auc_score(triage['YC'], synth_yc)"
   ]
  },
  {
   "cell_type": "code",
   "execution_count": 30,
   "metadata": {},
   "outputs": [
    {
     "name": "stdout",
     "output_type": "stream",
     "text": [
      "\n",
      "4 -> 20579 patients (5.13 % population)\n",
      "Y1 -> 0.00 precision - 0.02 % patients\n",
      "Y2 -> 0.00 precision - 0.00 % patients\n",
      "\n",
      "5 -> 6331 patients (1.58 % population)\n",
      "Y1 -> 0.00 precision - 0.03 % patients\n",
      "Y2 -> 1.00 precision - 100.00 % patients\n",
      "\n",
      "7 -> 5613 patients (1.40 % population)\n",
      "Y1 -> 0.00 precision - 0.21 % patients\n",
      "Y2 -> 0.00 precision - 29.40 % patients\n",
      "\n",
      "8 -> 39656 patients (9.89 % population)\n",
      "Y1 -> 0.77 precision - 76.94 % patients\n",
      "Y2 -> 0.22 precision - 21.78 % patients\n",
      "\n",
      "9 -> 28981 patients (7.22 % population)\n",
      "Y1 -> 0.00 precision - 0.22 % patients\n",
      "Y2 -> 1.00 precision - 100.00 % patients\n",
      "\n",
      "13 -> 7673 patients (1.91 % population)\n",
      "Y1 -> 0.00 precision - 32.83 % patients\n",
      "Y2 -> 0.00 precision - 12.60 % patients\n",
      "\n",
      "14 -> 14201 patients (3.54 % population)\n",
      "Y1 -> 0.80 precision - 80.13 % patients\n",
      "Y2 -> 0.12 precision - 12.10 % patients\n",
      "\n",
      "15 -> 9527 patients (2.38 % population)\n",
      "Y1 -> 0.00 precision - 0.07 % patients\n",
      "Y2 -> 1.00 precision - 100.00 % patients\n",
      "\n",
      "18 -> 255301 patients (63.64 % population)\n",
      "Y1 -> 0.84 precision - 84.04 % patients\n",
      "Y2 -> 0.26 precision - 26.21 % patients\n",
      "\n",
      "19 -> 4845 patients (1.21 % population)\n",
      "Y1 -> 0.30 precision - 30.03 % patients\n",
      "Y2 -> 0.43 precision - 43.08 % patients\n",
      "\n",
      "21 -> 5076 patients (1.27 % population)\n",
      "Y1 -> 0.27 precision - 26.77 % patients\n",
      "Y2 -> 0.25 precision - 25.32 % patients\n",
      "\n",
      "22 -> 3353 patients (0.84 % population)\n",
      "Y1 -> 0.13 precision - 13.36 % patients\n",
      "Y2 -> 1.00 precision - 100.00 % patients\n"
     ]
    }
   ],
   "source": [
    "# Compute last leaves of each point\n",
    "final_leave_yc = model_yc.apply(covariates)\n",
    "\n",
    "# Compute precision in Y2 for each leave\n",
    "for leaf in np.unique(final_leave_yc):\n",
    "    selection = final_leave_yc == leaf\n",
    "    print('\\n{} -> {} patients ({:.2f} % population)'.format(leaf, selection.sum(), 100*selection.mean()))\n",
    "    print('Y1 -> {:.2f} precision - {:.2f} % patients'.format(precision_score(triage['Y1'][selection], synth_yc[selection] > 0.5, zero_division = 0), 100*triage['Y1'][selection].mean()))\n",
    "    print('Y2 -> {:.2f} precision - {:.2f} % patients'.format(precision_score(triage['Y2'][selection], synth_yc[selection] > 0.5, zero_division = 0), 100*triage['Y2'][selection].mean()))"
   ]
  },
  {
   "cell_type": "code",
   "execution_count": 31,
   "metadata": {},
   "outputs": [
    {
     "name": "stdout",
     "output_type": "stream",
     "text": [
      "8 0.30567883800685897\n",
      "13 0.6051088231460967\n",
      "14 0.2773044151820294\n",
      "18 0.24330496159435333\n",
      "19 0.7325077399380805\n",
      "21 0.7596532702915682\n"
     ]
    }
   ],
   "source": [
    "# Randomly change prediction for leaves with high precision for Y1\n",
    "leaves_to_update = [8, 13, 14, 18, 19, 21]\n",
    "synth_yc_sc1 = synth_yc.copy()\n",
    "\n",
    "noise = np.random.uniform(size = len(final_leave_yc)) > 0.1\n",
    "for leaf in leaves_to_update:\n",
    "    selection = final_leave_yc == leaf\n",
    "    synth_yc_sc1[selection & noise & triage.Y1] = 0\n",
    "    synth_yc_sc1[selection & noise & ~triage.Y1] = 1\n",
    "    print(leaf, np.mean(synth_yc_sc1[selection] > 0.5))"
   ]
  },
  {
   "cell_type": "code",
   "execution_count": 32,
   "metadata": {},
   "outputs": [],
   "source": [
    "triage['D'] = synth_yc_sc1 > 0.5"
   ]
  },
  {
   "cell_type": "code",
   "execution_count": 33,
   "metadata": {},
   "outputs": [],
   "source": [
    "triage.to_csv('triage_scenario_1.csv')"
   ]
  },
  {
   "cell_type": "markdown",
   "metadata": {},
   "source": [
    "**Scenario 2**: Non random assignment with bias. Older patients are assigned to one expert who is biased by underestimating their risk (D == 0)."
   ]
  },
  {
   "cell_type": "code",
   "execution_count": 34,
   "metadata": {},
   "outputs": [],
   "source": [
    "triages2 = triage.copy()"
   ]
  },
  {
   "cell_type": "code",
   "execution_count": 35,
   "metadata": {},
   "outputs": [],
   "source": [
    "triages2.loc[triage.anchor_age == 1, 'nurse'] = 21 # Non random assignment with new nurse\n",
    "triages2.loc[triage.anchor_age == 1, 'D'] = False "
   ]
  },
  {
   "cell_type": "code",
   "execution_count": 36,
   "metadata": {},
   "outputs": [],
   "source": [
    "triages2.to_csv('triage_scenario_2.csv')"
   ]
  },
  {
   "cell_type": "markdown",
   "metadata": {},
   "source": [
    "**Scenario 3**: All experts biased against older patients."
   ]
  },
  {
   "cell_type": "code",
   "execution_count": 37,
   "metadata": {},
   "outputs": [],
   "source": [
    "triages3 = triage.copy()"
   ]
  },
  {
   "cell_type": "code",
   "execution_count": 38,
   "metadata": {},
   "outputs": [],
   "source": [
    "triages3.loc[triage.anchor_age == 1, 'D'] = False"
   ]
  },
  {
   "cell_type": "code",
   "execution_count": 39,
   "metadata": {},
   "outputs": [],
   "source": [
    "triages3.to_csv('triage_scenario_3.csv')"
   ]
  },
  {
   "cell_type": "markdown",
   "metadata": {},
   "source": [
    "**Scenario 4**: Noise dependent on experts. Different experts come with different expertise. We model this with expert-specific noise."
   ]
  },
  {
   "cell_type": "code",
   "execution_count": 40,
   "metadata": {},
   "outputs": [],
   "source": [
    "proba_error = np.random.uniform(size = len(np.unique(triage.nurse)))\n",
    "noises = {nurse: np.random.uniform(size = len(triage)) > proba_error[nurse] for nurse in np.unique(triage.nurse)}"
   ]
  },
  {
   "cell_type": "code",
   "execution_count": 41,
   "metadata": {},
   "outputs": [],
   "source": [
    "triages4 = triage.copy()"
   ]
  },
  {
   "cell_type": "code",
   "execution_count": 42,
   "metadata": {},
   "outputs": [
    {
     "name": "stdout",
     "output_type": "stream",
     "text": [
      "8 0 0.225177304964539\n",
      "8 1 0.2328977709454266\n",
      "8 2 0.27941176470588236\n",
      "8 3 0.2300556586270872\n",
      "8 4 0.24823529411764705\n",
      "8 5 0.26666666666666666\n",
      "8 6 0.23302752293577983\n",
      "8 7 0.2082616179001721\n",
      "8 8 0.23692636072572038\n",
      "8 9 0.22321428571428573\n",
      "8 10 0.24365942028985507\n",
      "8 11 0.22608695652173913\n",
      "8 12 0.23404255319148937\n",
      "8 13 0.23057644110275688\n",
      "8 14 0.21371428571428572\n",
      "8 15 0.22844175491679275\n",
      "8 16 0.24227740763173833\n",
      "8 17 0.2143474503025065\n",
      "8 18 0.27440633245382584\n",
      "8 19 0.2153846153846154\n",
      "8 0.6635818035101876 \n",
      "\n",
      "13 0 0.7129186602870813\n",
      "13 1 0.6626984126984127\n",
      "13 2 0.2\n",
      "13 3 0.7037037037037037\n",
      "13 4 0.7058823529411765\n",
      "13 5 0.7592592592592593\n",
      "13 6 0.6188118811881188\n",
      "13 7 0.6446280991735537\n",
      "13 8 0.609271523178808\n",
      "13 9 0.7138157894736842\n",
      "13 10 0.6771300448430493\n",
      "13 11 0.6956521739130435\n",
      "13 12 0.5753424657534246\n",
      "13 13 0.652027027027027\n",
      "13 14 0.6688963210702341\n",
      "13 15 0.6714285714285714\n",
      "13 16 0.6687306501547987\n",
      "13 17 0.6521739130434783\n",
      "13 18 0.639344262295082\n",
      "13 19 0.75\n",
      "13 0.28711064772579176 \n",
      "\n",
      "14 0 0.17026378896882494\n",
      "14 1 0.20279720279720279\n",
      "14 2 0.2\n",
      "14 3 0.23076923076923078\n",
      "14 4 0.1755485893416928\n",
      "14 5 0.16470588235294117\n",
      "14 6 0.2236842105263158\n",
      "14 7 0.20175438596491227\n",
      "14 8 0.2123076923076923\n",
      "14 9 0.1987075928917609\n",
      "14 10 0.20212765957446807\n",
      "14 11 0.21212121212121213\n",
      "14 12 0.24025974025974026\n",
      "14 13 0.18246869409660108\n",
      "14 14 0.2037914691943128\n",
      "14 15 0.2134387351778656\n",
      "14 16 0.18980667838312829\n",
      "14 17 0.1937799043062201\n",
      "14 18 0.1724137931034483\n",
      "14 19 0.08571428571428572\n",
      "14 0.6490388000845011 \n",
      "\n",
      "18 0 0.15931569099171344\n",
      "18 1 0.16055825242718447\n",
      "18 2 0.17525773195876287\n",
      "18 3 0.15822247381828475\n",
      "18 4 0.15695706395866738\n",
      "18 5 0.16845238095238096\n",
      "18 6 0.158364312267658\n",
      "18 7 0.165520888418826\n",
      "18 8 0.16325503355704699\n",
      "18 9 0.15747193186217576\n",
      "18 10 0.1606022584692597\n",
      "18 11 0.14641288433382138\n",
      "18 12 0.16783216783216784\n",
      "18 13 0.1634740748169692\n",
      "18 14 0.15289690180290566\n",
      "18 15 0.16670670189766995\n",
      "18 16 0.1606585296622197\n",
      "18 17 0.1627876569037657\n",
      "18 18 0.1573367260390161\n",
      "18 19 0.16009852216748768\n",
      "18 0.6331506731270148 \n",
      "\n",
      "19 0 0.7132867132867133\n",
      "19 1 0.7253521126760564\n",
      "19 2 1.0\n",
      "19 3 0.7464788732394366\n",
      "19 4 0.6851851851851852\n",
      "19 5 0.59375\n",
      "19 6 0.6846153846153846\n",
      "19 7 0.7361111111111112\n",
      "19 8 0.7264150943396226\n",
      "19 9 0.735\n",
      "19 10 0.6929133858267716\n",
      "19 11 0.7\n",
      "19 12 0.6949152542372882\n",
      "19 13 0.6903553299492385\n",
      "19 14 0.71875\n",
      "19 15 0.746268656716418\n",
      "19 16 0.693069306930693\n",
      "19 17 0.7730496453900709\n",
      "19 18 0.6666666666666666\n",
      "19 19 0.75\n",
      "19 0.8759545923632611 \n",
      "\n",
      "21 0 0.6875\n",
      "21 1 0.6914893617021277\n",
      "21 2 0.6\n",
      "21 3 0.7352941176470589\n",
      "21 4 0.6754385964912281\n",
      "21 5 0.7073170731707317\n",
      "21 6 0.775\n",
      "21 7 0.7281553398058253\n",
      "21 8 0.7699115044247787\n",
      "21 9 0.7560975609756098\n",
      "21 10 0.8257575757575758\n",
      "21 11 0.8260869565217391\n",
      "21 12 0.5957446808510638\n",
      "21 13 0.76\n",
      "21 14 0.7111111111111111\n",
      "21 15 0.7078651685393258\n",
      "21 16 0.6855670103092784\n",
      "21 17 0.7748344370860927\n",
      "21 18 0.6481481481481481\n",
      "21 19 0.7777777777777778\n",
      "21 0.8817966903073287 \n",
      "\n"
     ]
    }
   ],
   "source": [
    "# Randomly change prediction for leaves with high precision for Y1\n",
    "synth_yc_sc4 = synth_yc.copy()\n",
    "\n",
    "for leaf in leaves_to_update:\n",
    "    selection = final_leave_yc == leaf\n",
    "\n",
    "    for nurse in noises:\n",
    "        selection_nurse = selection & noises[nurse] & (triage.nurse == nurse)\n",
    "        synth_yc_sc4[selection_nurse & triage.Y1] = 0\n",
    "        synth_yc_sc4[selection_nurse & ~triage.Y1] = 1\n",
    "        print(leaf, nurse, np.mean(synth_yc_sc4[selection_nurse] > 0.5))\n",
    "    print(leaf, np.mean(synth_yc_sc4[selection] > 0.5), '\\n')"
   ]
  },
  {
   "cell_type": "code",
   "execution_count": 43,
   "metadata": {},
   "outputs": [],
   "source": [
    "triages4['D'] = synth_yc_sc4 > 0.5"
   ]
  },
  {
   "cell_type": "code",
   "execution_count": 44,
   "metadata": {},
   "outputs": [],
   "source": [
    "triages4.to_csv('triage_scenario_4.csv')"
   ]
  },
  {
   "cell_type": "code",
   "execution_count": null,
   "metadata": {},
   "outputs": [],
   "source": []
  }
 ],
 "metadata": {
  "interpreter": {
   "hash": "a54f3b3a447186e9a4a83057d2abe8df010acd7b8f131225203d307ef84eba48"
  },
  "kernelspec": {
   "display_name": "Python 3.9.7 ('Jupyter')",
   "language": "python",
   "name": "python3"
  },
  "language_info": {
   "codemirror_mode": {
    "name": "ipython",
    "version": 3
   },
   "file_extension": ".py",
   "mimetype": "text/x-python",
   "name": "python",
   "nbconvert_exporter": "python",
   "pygments_lexer": "ipython3",
   "version": "3.9.7"
  },
  "orig_nbformat": 4
 },
 "nbformat": 4,
 "nbformat_minor": 2
}

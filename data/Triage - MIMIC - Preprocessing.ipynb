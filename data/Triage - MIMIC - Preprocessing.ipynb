{
 "cells": [
  {
   "cell_type": "markdown",
   "metadata": {},
   "source": [
    "# Triage MIMIC - Emergency Department"
   ]
  },
  {
   "cell_type": "markdown",
   "metadata": {},
   "source": [
    "This analysis relies on the emergency data from the MIMIC IV dataset (Refer to https://physionet.org/content/mimic-iv-ed/1.0/ for the original dataset.) "
   ]
  },
  {
   "cell_type": "markdown",
   "metadata": {},
   "source": [
    "First, you need to download the data from Physionet website, following the instructions on the website.\n",
    "\n",
    "```\n",
    "wget -r -N -c -np --user USERNAME --ask-password https://physionet.org/files/mimic-iv-ed/1.0/  \n",
    "wget -r -N -c -np --user USERNAME --ask-password https://physionet.org/files/mimiciv/1.0/core/\n",
    "```\n",
    "\n",
    "This will result in a `physionet.org` folder in which the `ed` directory will contains all relevant data."
   ]
  },
  {
   "cell_type": "code",
   "execution_count": null,
   "metadata": {},
   "outputs": [],
   "source": [
    "path = 'physionet.org/files/'"
   ]
  },
  {
   "cell_type": "markdown",
   "metadata": {},
   "source": [
    "##### Extract data of interest"
   ]
  },
  {
   "cell_type": "code",
   "execution_count": null,
   "metadata": {},
   "outputs": [],
   "source": [
    "from sklearn.preprocessing import StandardScaler\n",
    "import pandas as pd\n",
    "import numpy as np\n",
    "import os"
   ]
  },
  {
   "cell_type": "code",
   "execution_count": null,
   "metadata": {},
   "outputs": [],
   "source": [
    "# Open data\n",
    "demo = pd.read_csv(os.path.join(path, 'mimiciv/1.0/core/patients.csv.gz'), index_col = 0)\n",
    "triage = pd.read_csv(os.path.join(path, 'mimic-iv-ed/1.0/ed/triage.csv.gz'), index_col = [0, 1])\n",
    "ed = pd.read_csv(os.path.join(path, 'mimic-iv-ed/1.0/ed/edstays.csv.gz'), index_col = [0, 2], parse_dates = ['intime', 'outtime'])"
   ]
  },
  {
   "cell_type": "code",
   "execution_count": null,
   "metadata": {},
   "outputs": [],
   "source": [
    "# Remove unnecessary columns and datapoints with any missing data\n",
    "triage = triage.drop(columns = 'chiefcomplaint')\n",
    "triage = triage.dropna(0, 'any')\n",
    "triage"
   ]
  },
  {
   "cell_type": "code",
   "execution_count": null,
   "metadata": {},
   "outputs": [],
   "source": [
    "# Nurse assignment\n",
    "# Expertise and tiredness might play a role here and we assign the day of admission as proxies of these dimensions\n",
    "triage['nurse'] = np.random.choice(np.arange(20), size = len(triage))"
   ]
  },
  {
   "cell_type": "code",
   "execution_count": null,
   "metadata": {},
   "outputs": [],
   "source": [
    "# Outcome - Y1\n",
    "# Defined as admission to the hospital\n",
    "triage['Y1'] = ed.hadm_id.isna()[triage.index]"
   ]
  },
  {
   "cell_type": "code",
   "execution_count": null,
   "metadata": {},
   "outputs": [],
   "source": [
    "# Outcome - Y2\n",
    "# Defined as acuity\n",
    "triage['Y2'] = (triage.join(demo).anchor_age > 65) | (triage['pain'] >= 7)"
   ]
  },
  {
   "cell_type": "code",
   "execution_count": null,
   "metadata": {},
   "outputs": [],
   "source": [
    "# Concept - Yc\n",
    "# Yc is definied as the union of Y1 and Y2\n",
    "triage['YC'] = triage['Y1'] | triage['Y2']"
   ]
  },
  {
   "cell_type": "code",
   "execution_count": null,
   "metadata": {},
   "outputs": [],
   "source": [
    "# Normalize data\n",
    "triage.iloc[:, :-5] = StandardScaler().fit_transform(triage.iloc[:, :-5])\n",
    "triage"
   ]
  },
  {
   "cell_type": "markdown",
   "metadata": {},
   "source": [
    "### Verification"
   ]
  },
  {
   "cell_type": "markdown",
   "metadata": {},
   "source": [
    "We study what proportion of the population have these characteristics."
   ]
  },
  {
   "cell_type": "code",
   "execution_count": null,
   "metadata": {},
   "outputs": [],
   "source": [
    "# Nurse assignment\n",
    "triage['nurse'].value_counts().sort_index() / len(triage)"
   ]
  },
  {
   "cell_type": "code",
   "execution_count": null,
   "metadata": {},
   "outputs": [],
   "source": [
    "# Outcome - Y1\n",
    "triage['Y1'].mean()"
   ]
  },
  {
   "cell_type": "code",
   "execution_count": null,
   "metadata": {},
   "outputs": [],
   "source": [
    "# Outcome - Y2\n",
    "triage['Y2'].mean()"
   ]
  },
  {
   "cell_type": "code",
   "execution_count": null,
   "metadata": {},
   "outputs": [],
   "source": [
    "# Concept - Yc\n",
    "triage['YC'].mean()"
   ]
  },
  {
   "cell_type": "code",
   "execution_count": null,
   "metadata": {},
   "outputs": [],
   "source": [
    "# Intersection Y1 and Y2\n",
    "(triage['Y1'] & triage['Y2']).sum() / min(triage['Y1'].sum(), triage['Y2'].sum())"
   ]
  },
  {
   "cell_type": "code",
   "execution_count": null,
   "metadata": {},
   "outputs": [],
   "source": [
    "# Intersection Y1 concept\n",
    "(triage['Y1'] & triage['YC']).sum() / triage['YC'].sum()"
   ]
  },
  {
   "cell_type": "code",
   "execution_count": null,
   "metadata": {},
   "outputs": [],
   "source": [
    "# Intersection Y2 concept\n",
    "(triage['Y2'] & triage['YC']).sum() / triage['YC'].sum()"
   ]
  },
  {
   "cell_type": "markdown",
   "metadata": {},
   "source": [
    "------------"
   ]
  },
  {
   "cell_type": "markdown",
   "metadata": {},
   "source": [
    "# Semi - synthetic labels for scenarios\n",
    "\n",
    "We create semi synthetic labels using tree-based models to allow more control on the consistency scenarios"
   ]
  },
  {
   "cell_type": "code",
   "execution_count": null,
   "metadata": {},
   "outputs": [],
   "source": [
    "from sklearn.metrics import roc_auc_score, precision_score\n",
    "from sklearn.tree import DecisionTreeClassifier\n",
    "import numpy as np"
   ]
  },
  {
   "cell_type": "markdown",
   "metadata": {},
   "source": [
    "#### Scenario 1 : Random errors\n",
    "\n",
    "\n",
    "1. Build a tree to predict Y1\n",
    "2. Build a tree to predict Y2\n",
    "3. Update synthetic labels (Y1, Y2 and YC) to be the one predicted by trees\n",
    "4. Create a tree to predict YC (aim for high auc)\n",
    "5. Analyze each leaves and take the leaves with high precision for Y1 (> 70%)and low intersection with Y2 (< 30%)\n",
    "6. Randomly draw a label for 100 % of the value in these nodes\n",
    "7. Update D to be the updated labels"
   ]
  },
  {
   "cell_type": "code",
   "execution_count": null,
   "metadata": {},
   "outputs": [],
   "source": [
    "triages1 = triage.copy().drop(columns = ['acuity', 'pain'])\n",
    "covariates = triages1.drop(columns = ['nurse', 'Y1', 'Y2', 'YC'])"
   ]
  },
  {
   "cell_type": "code",
   "execution_count": null,
   "metadata": {},
   "outputs": [],
   "source": [
    "# 1 - Model for Y1\n",
    "model_y1 = DecisionTreeClassifier(max_depth = 15, random_state = 42)\n",
    "model_y1.fit(covariates, triages1['Y1'])\n",
    "synth_y1 = model_y1.predict_proba(covariates)[:, 1]\n",
    "roc_auc_score(triages1['Y1'], synth_y1)"
   ]
  },
  {
   "cell_type": "code",
   "execution_count": null,
   "metadata": {},
   "outputs": [],
   "source": [
    "# 2 - Model for Y2\n",
    "model_y2 = DecisionTreeClassifier(max_depth = 15, random_state = 42)\n",
    "model_y2.fit(covariates, triages1['Y2'])\n",
    "synth_y2 = model_y2.predict_proba(covariates)[:, 1]\n",
    "roc_auc_score(triages1['Y2'], synth_y2)"
   ]
  },
  {
   "cell_type": "code",
   "execution_count": null,
   "metadata": {},
   "outputs": [],
   "source": [
    "# 3 - Update labels\n",
    "triages1['Y1'] = synth_y1 > 0.5\n",
    "triages1['Y2'] = synth_y2 > 0.5\n",
    "triages1['YC'] = triages1['Y1'] | triages1['Y2']"
   ]
  },
  {
   "cell_type": "code",
   "execution_count": null,
   "metadata": {},
   "outputs": [],
   "source": [
    "# 4 - Model for D : Use a model for Yc and chance some of the leaved decision\n",
    "model_yc = DecisionTreeClassifier(max_depth = 10, random_state = 42)\n",
    "model_yc.fit(covariates, triages1['YC'])\n",
    "synth_yc = model_yc.predict_proba(covariates)[:, 1]\n",
    "roc_auc_score(triages1['YC'], synth_yc)"
   ]
  },
  {
   "cell_type": "code",
   "execution_count": null,
   "metadata": {},
   "outputs": [],
   "source": [
    "# 5 - Analyse leaves\n",
    "final_leave_yc = model_yc.apply(covariates)\n",
    "print('Tree contains {} leaves'.format(len(np.unique(final_leave_yc))))\n",
    "\n",
    "## Select leaves\n",
    "leaves_to_update = triages1.groupby(final_leave_yc).apply(lambda leaf: (leaf['Y1'].mean() > 0.7) & ((leaf['Y1'] & leaf['Y2']).mean() < 0.3))\n",
    "leaves_to_update = leaves_to_update[leaves_to_update].index"
   ]
  },
  {
   "cell_type": "code",
   "execution_count": null,
   "metadata": {},
   "outputs": [],
   "source": [
    "# 6 - Randomly draw predictions\n",
    "print(\"{} leaves selected covering: {:.2f} % of the population\".format(len(leaves_to_update), 100*pd.Series(final_leave_yc).isin(leaves_to_update).mean()))\n",
    "synth_yc_sc1 = synth_yc.copy()\n",
    "\n",
    "# For 100 % draw a random label\n",
    "noise = np.random.uniform(size = len(final_leave_yc)) > 0.\n",
    "for leaf in leaves_to_update:\n",
    "    selection = (final_leave_yc == leaf) & noise\n",
    "    synth_yc_sc1[selection] = np.random.choice([0, 1], size = np.sum(selection))"
   ]
  },
  {
   "cell_type": "code",
   "execution_count": null,
   "metadata": {},
   "outputs": [],
   "source": [
    "# 7 - Update D\n",
    "triages1['D'] = synth_yc_sc1 > 0.5\n",
    "triages1.to_csv('triage_scenario_1.csv')"
   ]
  },
  {
   "cell_type": "markdown",
   "metadata": {},
   "source": [
    "#### Scenario 2: Incorrect and homogeneous believes\n",
    "\n",
    "Instead of 6., the whole population had a 75 % bias, meaning that all selected leaves are predicted not(Y1)."
   ]
  },
  {
   "cell_type": "code",
   "execution_count": null,
   "metadata": {},
   "outputs": [],
   "source": [
    "triages2 = triages1.copy()"
   ]
  },
  {
   "cell_type": "code",
   "execution_count": null,
   "metadata": {},
   "outputs": [],
   "source": [
    "# 6ter - Bias 50 %\n",
    "synth_yc_sc2 = synth_yc.copy()\n",
    "\n",
    "## Selection of 50%\n",
    "np.random.seed(42)\n",
    "biased = np.random.uniform(size = len(triages2)) > .25\n",
    "\n",
    "# Reverse leaves\n",
    "selection = biased & pd.Series(final_leave_yc, index = triages2.index).isin(leaves_to_update)\n",
    "synth_yc_sc2[selection] = ~triages2.Y1[selection]"
   ]
  },
  {
   "cell_type": "code",
   "execution_count": null,
   "metadata": {},
   "outputs": [],
   "source": [
    "# 7ter - Update D\n",
    "triages2['D'] = synth_yc_sc2 > 0.5\n",
    "triages2.to_csv('triage_scenario_2.csv')"
   ]
  },
  {
   "cell_type": "markdown",
   "metadata": {},
   "source": [
    "#### Scenario 3: Incorrect and heterogeneous believes\n",
    "\n",
    "Instead of 6., each nurse has different level of biases $X_{nurse}$ between 70% and 100 %, meaning that the nurse is predicting not(Y1) in these leaves for $X_{nurse}$% of the patients."
   ]
  },
  {
   "cell_type": "code",
   "execution_count": null,
   "metadata": {},
   "outputs": [],
   "source": [
    "triages3 = triages1.copy()"
   ]
  },
  {
   "cell_type": "code",
   "execution_count": null,
   "metadata": {},
   "outputs": [],
   "source": [
    "# 6bis - Draw different rate for each nurse and update accordingly\n",
    "for lower in [0.3, 0.5, 0.7]:\n",
    "    synth_yc_sc3 = synth_yc.copy()\n",
    "\n",
    "    ## Create nurse-specific noise\n",
    "    np.random.seed(42)\n",
    "    proba_error = lower + 0.3 * np.random.uniform(size = len(np.unique(triages3.nurse)))\n",
    "    noises = {nurse: np.random.uniform(size = len(triages3)) > proba_error[nurse] for nurse in np.unique(triages3.nurse)}\n",
    "\n",
    "    # Draw random label\n",
    "    selection = pd.Series(final_leave_yc, index = triages3.index).isin(leaves_to_update)\n",
    "    for nurse in noises:\n",
    "        selection_nurse = selection & noises[nurse] & (triages3.nurse == nurse)\n",
    "        synth_yc_sc3[selection_nurse] = ~triages3.Y1[selection_nurse]\n",
    "\n",
    "    # 7bis - Update D\n",
    "    triages3['D'] = synth_yc_sc3 > 0.5\n",
    "    triages3.to_csv('triage_scenario_3_{}.csv'.format(lower))"
   ]
  },
  {
   "cell_type": "markdown",
   "metadata": {},
   "source": [
    "#### Scenario 4: One nurse biased against one group\n",
    "\n",
    "Instead of 6., a nurse is biased against female patient\n",
    "\n",
    "1. Create group\n",
    "2. Biased nurse prediction by underestimating risk for all patients in the group for a given nurse"
   ]
  },
  {
   "cell_type": "code",
   "execution_count": null,
   "metadata": {},
   "outputs": [],
   "source": [
    "triages4 = triages1.copy()\n",
    "triages4['D'] = synth_yc"
   ]
  },
  {
   "cell_type": "code",
   "execution_count": null,
   "metadata": {},
   "outputs": [],
   "source": [
    "# 1 - Create group\n",
    "triages4['Group'] = (triages4.join(demo.gender).gender == 'F').astype(int)"
   ]
  },
  {
   "cell_type": "code",
   "execution_count": null,
   "metadata": {},
   "outputs": [],
   "source": [
    "# 2 - Bias nurse 0\n",
    "selection_nurse = (triages4.Group == 1) & (triages4.nurse == 0)\n",
    "triages4['D'][selection_nurse] = False"
   ]
  },
  {
   "cell_type": "code",
   "execution_count": null,
   "metadata": {},
   "outputs": [],
   "source": [
    "triages4.to_csv('triage_scenario_4.csv')"
   ]
  },
  {
   "cell_type": "markdown",
   "metadata": {},
   "source": [
    "#### Scenario 4': One nurse biased against one group\n",
    "\n",
    "Same as before but non random assignment (90 % female patients to this nurse)."
   ]
  },
  {
   "cell_type": "code",
   "execution_count": null,
   "metadata": {},
   "outputs": [],
   "source": [
    "triages4bis = triages4.copy()\n",
    "triages4bis['D'] = synth_yc"
   ]
  },
  {
   "cell_type": "code",
   "execution_count": null,
   "metadata": {},
   "outputs": [],
   "source": [
    "# 2 - Bias nurse 0\n",
    "np.random.seed(42)\n",
    "selection_nurse = (triages4bis.Group == 1)\n",
    "triages4bis.loc[selection_nurse[selection_nurse].sample(frac = 0.95, replace = False).index, 'nurse'] = 0\n",
    "\n",
    "selection_nurse = selection_nurse & (triages4bis.nurse == 0)\n",
    "triages4bis['D'][selection_nurse] = False"
   ]
  },
  {
   "cell_type": "code",
   "execution_count": null,
   "metadata": {},
   "outputs": [],
   "source": [
    "triages4bis.to_csv('triage_scenario_4bis.csv')"
   ]
  },
  {
   "cell_type": "markdown",
   "metadata": {},
   "source": [
    "#### Scenario 5: Half of the nurses biased against one group\n",
    "\n",
    "Same than before but biased half nurses"
   ]
  },
  {
   "cell_type": "code",
   "execution_count": null,
   "metadata": {},
   "outputs": [],
   "source": [
    "triages5 = triages4.copy()\n",
    "triages5['D'] = synth_yc"
   ]
  },
  {
   "cell_type": "code",
   "execution_count": null,
   "metadata": {},
   "outputs": [],
   "source": [
    "# 2bis - Bias half nurses\n",
    "selection_nurse = (triages5.Group == 1) & (triages5.nurse < 10)\n",
    "triages5['D'][selection_nurse] = False"
   ]
  },
  {
   "cell_type": "code",
   "execution_count": null,
   "metadata": {},
   "outputs": [],
   "source": [
    "triages5.to_csv('triage_scenario_5.csv')"
   ]
  },
  {
   "cell_type": "markdown",
   "metadata": {},
   "source": [
    "#### Scenario 6: All nurses biased against one group\n",
    "\n",
    "Same than before but all nurses biased"
   ]
  },
  {
   "cell_type": "code",
   "execution_count": null,
   "metadata": {},
   "outputs": [],
   "source": [
    "triages6 = triages5.copy()\n",
    "triages6['D'] = synth_yc"
   ]
  },
  {
   "cell_type": "code",
   "execution_count": null,
   "metadata": {},
   "outputs": [],
   "source": [
    "# 2bis - Bias all nurses\n",
    "triages6['D'][triages6.Group == 1] = False"
   ]
  },
  {
   "cell_type": "code",
   "execution_count": null,
   "metadata": {},
   "outputs": [],
   "source": [
    "triages6.to_csv('triage_scenario_6.csv')"
   ]
  },
  {
   "cell_type": "markdown",
   "metadata": {},
   "source": [
    "#### Scenario 7: All nurses 80% - biased against one group\n",
    "\n",
    "Same than before but all nurses 80% biased"
   ]
  },
  {
   "cell_type": "code",
   "execution_count": null,
   "metadata": {},
   "outputs": [],
   "source": [
    "triages7 = triages6.copy()\n",
    "triages7['D'] = synth_yc"
   ]
  },
  {
   "cell_type": "code",
   "execution_count": null,
   "metadata": {},
   "outputs": [],
   "source": [
    "# 2bis - Bias all nurses\n",
    "group = triages6[triages6.Group == 1].sample(frac = 0.8, replace = False).index\n",
    "triages7['D'].loc[group] = False"
   ]
  },
  {
   "cell_type": "code",
   "execution_count": null,
   "metadata": {},
   "outputs": [],
   "source": [
    "triages7.to_csv('triage_scenario_7.csv')"
   ]
  },
  {
   "cell_type": "code",
   "execution_count": null,
   "metadata": {},
   "outputs": [],
   "source": []
  }
 ],
 "metadata": {
  "interpreter": {
   "hash": "a54f3b3a447186e9a4a83057d2abe8df010acd7b8f131225203d307ef84eba48"
  },
  "kernelspec": {
   "display_name": "Python 3.9.7 ('Jupyter')",
   "language": "python",
   "name": "python3"
  },
  "language_info": {
   "codemirror_mode": {
    "name": "ipython",
    "version": 3
   },
   "file_extension": ".py",
   "mimetype": "text/x-python",
   "name": "python",
   "nbconvert_exporter": "python",
   "pygments_lexer": "ipython3",
   "version": "3.9.7"
  },
  "orig_nbformat": 4
 },
 "nbformat": 4,
 "nbformat_minor": 2
}
